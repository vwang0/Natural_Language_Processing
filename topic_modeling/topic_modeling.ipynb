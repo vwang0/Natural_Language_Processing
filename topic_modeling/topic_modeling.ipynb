{
 "cells": [
  {
   "cell_type": "markdown",
   "metadata": {},
   "source": [
    "Topic Modeling is a technique to extract the hidden topics from large volumes of text. Latent Dirichlet Allocation(LDA) is a popular algorithm for topic modeling with excellent implementations in the Python’s Gensim package. The challenge, however, is how to extract good quality of topics that are clear, segregated and meaningful. This depends heavily on the quality of text preprocessing and the strategy of finding the optimal number of topics. This tutorial attempts to tackle both of these problems.\n",
    "\n",
    "MALLET is a Java-based package for statistical natural language processing, document classification, clustering, topic modeling, information extraction, and other machine learning applications to text.\n",
    "http://mallet.cs.umass.edu/index.php"
   ]
  },
  {
   "cell_type": "code",
   "execution_count": 1,
   "metadata": {},
   "outputs": [
    {
     "name": "stderr",
     "output_type": "stream",
     "text": [
      "[nltk_data] Downloading package stopwords to\n",
      "[nltk_data]     C:\\Users\\Vin\\AppData\\Roaming\\nltk_data...\n",
      "[nltk_data]   Package stopwords is already up-to-date!\n"
     ]
    },
    {
     "data": {
      "text/plain": [
       "True"
      ]
     },
     "execution_count": 1,
     "metadata": {},
     "output_type": "execute_result"
    }
   ],
   "source": [
    "# Run in python console\n",
    "import nltk; nltk.download('stopwords')\n"
   ]
  },
  {
   "cell_type": "code",
   "execution_count": 42,
   "metadata": {},
   "outputs": [],
   "source": [
    "import re\n",
    "import numpy as np\n",
    "import pandas as pd\n",
    "from pprint import pprint\n",
    "\n",
    "# Gensim\n",
    "import gensim\n",
    "import gensim.corpora as corpora\n",
    "from gensim.utils import simple_preprocess\n",
    "from gensim.models import CoherenceModel\n",
    "\n",
    "# spacy for lemmatization\n",
    "import spacy\n",
    "\n",
    "# Plotting tools\n",
    "import pyLDAvis\n",
    "import pyLDAvis.gensim  # don't skip this\n",
    "import matplotlib.pyplot as plt\n",
    "%matplotlib inline\n",
    "\n",
    "# Enable logging for gensim - optional\n",
    "import logging\n",
    "logging.basicConfig(format='%(asctime)s : %(levelname)s : %(message)s', level=logging.ERROR)\n",
    "\n",
    "import warnings\n",
    "warnings.filterwarnings(\"ignore\")\n",
    "# warnings.filterwarnings(\"ignore\",category=DeprecationWarning)"
   ]
  },
  {
   "cell_type": "code",
   "execution_count": null,
   "metadata": {},
   "outputs": [],
   "source": []
  },
  {
   "cell_type": "code",
   "execution_count": 5,
   "metadata": {},
   "outputs": [],
   "source": [
    "# NLTK Stop words\n",
    "from nltk.corpus import stopwords\n",
    "stop_words = stopwords.words('english')\n",
    "stop_words.extend(['from', 'subject', 're', 'edu', 'use'])"
   ]
  },
  {
   "cell_type": "code",
   "execution_count": 6,
   "metadata": {
    "scrolled": true
   },
   "outputs": [
    {
     "name": "stdout",
     "output_type": "stream",
     "text": [
      "['rec.autos' 'comp.sys.mac.hardware' 'comp.graphics' 'sci.space'\n",
      " 'talk.politics.guns' 'sci.med' 'comp.sys.ibm.pc.hardware'\n",
      " 'comp.os.ms-windows.misc' 'rec.motorcycles' 'talk.religion.misc'\n",
      " 'misc.forsale' 'alt.atheism' 'sci.electronics' 'comp.windows.x'\n",
      " 'rec.sport.hockey' 'rec.sport.baseball' 'soc.religion.christian'\n",
      " 'talk.politics.mideast' 'talk.politics.misc' 'sci.crypt']\n"
     ]
    },
    {
     "data": {
      "text/html": [
       "<div>\n",
       "<style scoped>\n",
       "    .dataframe tbody tr th:only-of-type {\n",
       "        vertical-align: middle;\n",
       "    }\n",
       "\n",
       "    .dataframe tbody tr th {\n",
       "        vertical-align: top;\n",
       "    }\n",
       "\n",
       "    .dataframe thead th {\n",
       "        text-align: right;\n",
       "    }\n",
       "</style>\n",
       "<table border=\"1\" class=\"dataframe\">\n",
       "  <thead>\n",
       "    <tr style=\"text-align: right;\">\n",
       "      <th></th>\n",
       "      <th>content</th>\n",
       "      <th>target</th>\n",
       "      <th>target_names</th>\n",
       "    </tr>\n",
       "  </thead>\n",
       "  <tbody>\n",
       "    <tr>\n",
       "      <th>0</th>\n",
       "      <td>From: lerxst@wam.umd.edu (where's my thing)\\nS...</td>\n",
       "      <td>7</td>\n",
       "      <td>rec.autos</td>\n",
       "    </tr>\n",
       "    <tr>\n",
       "      <th>1</th>\n",
       "      <td>From: guykuo@carson.u.washington.edu (Guy Kuo)...</td>\n",
       "      <td>4</td>\n",
       "      <td>comp.sys.mac.hardware</td>\n",
       "    </tr>\n",
       "    <tr>\n",
       "      <th>2</th>\n",
       "      <td>From: twillis@ec.ecn.purdue.edu (Thomas E Will...</td>\n",
       "      <td>4</td>\n",
       "      <td>comp.sys.mac.hardware</td>\n",
       "    </tr>\n",
       "    <tr>\n",
       "      <th>3</th>\n",
       "      <td>From: jgreen@amber (Joe Green)\\nSubject: Re: W...</td>\n",
       "      <td>1</td>\n",
       "      <td>comp.graphics</td>\n",
       "    </tr>\n",
       "    <tr>\n",
       "      <th>4</th>\n",
       "      <td>From: jcm@head-cfa.harvard.edu (Jonathan McDow...</td>\n",
       "      <td>14</td>\n",
       "      <td>sci.space</td>\n",
       "    </tr>\n",
       "  </tbody>\n",
       "</table>\n",
       "</div>"
      ],
      "text/plain": [
       "                                             content  target  \\\n",
       "0  From: lerxst@wam.umd.edu (where's my thing)\\nS...       7   \n",
       "1  From: guykuo@carson.u.washington.edu (Guy Kuo)...       4   \n",
       "2  From: twillis@ec.ecn.purdue.edu (Thomas E Will...       4   \n",
       "3  From: jgreen@amber (Joe Green)\\nSubject: Re: W...       1   \n",
       "4  From: jcm@head-cfa.harvard.edu (Jonathan McDow...      14   \n",
       "\n",
       "            target_names  \n",
       "0              rec.autos  \n",
       "1  comp.sys.mac.hardware  \n",
       "2  comp.sys.mac.hardware  \n",
       "3          comp.graphics  \n",
       "4              sci.space  "
      ]
     },
     "execution_count": 6,
     "metadata": {},
     "output_type": "execute_result"
    }
   ],
   "source": [
    "# Import Dataset\n",
    "df = pd.read_json('https://raw.githubusercontent.com/selva86/datasets/master/newsgroups.json')\n",
    "print(df.target_names.unique())\n",
    "df.head()"
   ]
  },
  {
   "cell_type": "code",
   "execution_count": 7,
   "metadata": {},
   "outputs": [
    {
     "name": "stdout",
     "output_type": "stream",
     "text": [
      "['From: (wheres my thing) Subject: WHAT car is this!? Nntp-Posting-Host: rac3.wam.umd.edu Organization: University of Maryland, College Park Lines: 15 I was wondering if anyone out there could enlighten me on this car I saw the other day. It was a 2-door sports car, looked to be from the late 60s/ early 70s. It was called a Bricklin. The doors were really small. In addition, the front bumper was separate from the rest of the body. This is all I know. If anyone can tellme a model name, engine specs, years of production, where this car is made, history, or whatever info you have on this funky looking car, please e-mail. Thanks, - IL ---- brought to you by your neighborhood Lerxst ---- ']\n"
     ]
    }
   ],
   "source": [
    "# Convert to list\n",
    "data = df.content.values.tolist()\n",
    "\n",
    "# Remove Emails\n",
    "data = [re.sub('\\S*@\\S*\\s?', '', sent) for sent in data]\n",
    "\n",
    "# Remove new line characters\n",
    "data = [re.sub('\\s+', ' ', sent) for sent in data]\n",
    "\n",
    "# Remove distracting single quotes\n",
    "data = [re.sub(\"\\'\", \"\", sent) for sent in data]\n",
    "\n",
    "print(data[:1])"
   ]
  },
  {
   "cell_type": "code",
   "execution_count": 8,
   "metadata": {},
   "outputs": [
    {
     "name": "stdout",
     "output_type": "stream",
     "text": [
      "[['from', 'wheres', 'my', 'thing', 'subject', 'what', 'car', 'is', 'this', 'nntp', 'posting', 'host', 'rac', 'wam', 'umd', 'edu', 'organization', 'university', 'of', 'maryland', 'college', 'park', 'lines', 'was', 'wondering', 'if', 'anyone', 'out', 'there', 'could', 'enlighten', 'me', 'on', 'this', 'car', 'saw', 'the', 'other', 'day', 'it', 'was', 'door', 'sports', 'car', 'looked', 'to', 'be', 'from', 'the', 'late', 'early', 'it', 'was', 'called', 'bricklin', 'the', 'doors', 'were', 'really', 'small', 'in', 'addition', 'the', 'front', 'bumper', 'was', 'separate', 'from', 'the', 'rest', 'of', 'the', 'body', 'this', 'is', 'all', 'know', 'if', 'anyone', 'can', 'tellme', 'model', 'name', 'engine', 'specs', 'years', 'of', 'production', 'where', 'this', 'car', 'is', 'made', 'history', 'or', 'whatever', 'info', 'you', 'have', 'on', 'this', 'funky', 'looking', 'car', 'please', 'mail', 'thanks', 'il', 'brought', 'to', 'you', 'by', 'your', 'neighborhood', 'lerxst']]\n"
     ]
    }
   ],
   "source": [
    "def sent_to_words(sentences):\n",
    "    for sentence in sentences:\n",
    "        yield(gensim.utils.simple_preprocess(str(sentence), deacc=True))  # deacc=True removes punctuations\n",
    "\n",
    "data_words = list(sent_to_words(data))\n",
    "\n",
    "print(data_words[:1])"
   ]
  },
  {
   "cell_type": "code",
   "execution_count": 9,
   "metadata": {},
   "outputs": [
    {
     "name": "stdout",
     "output_type": "stream",
     "text": [
      "['from', 'wheres', 'my', 'thing', 'subject', 'what', 'car', 'is', 'this', 'nntp_posting_host', 'rac_wam_umd_edu', 'organization', 'university', 'of', 'maryland_college_park', 'lines', 'was', 'wondering', 'if', 'anyone', 'out', 'there', 'could', 'enlighten', 'me', 'on', 'this', 'car', 'saw', 'the', 'other', 'day', 'it', 'was', 'door', 'sports', 'car', 'looked', 'to', 'be', 'from', 'the', 'late', 'early', 'it', 'was', 'called', 'bricklin', 'the', 'doors', 'were', 'really', 'small', 'in', 'addition', 'the', 'front_bumper', 'was', 'separate', 'from', 'the', 'rest', 'of', 'the', 'body', 'this', 'is', 'all', 'know', 'if', 'anyone', 'can', 'tellme', 'model', 'name', 'engine', 'specs', 'years', 'of', 'production', 'where', 'this', 'car', 'is', 'made', 'history', 'or', 'whatever', 'info', 'you', 'have', 'on', 'this', 'funky', 'looking', 'car', 'please', 'mail', 'thanks', 'il', 'brought', 'to', 'you', 'by', 'your', 'neighborhood', 'lerxst']\n"
     ]
    }
   ],
   "source": [
    "# Build the bigram and trigram models\n",
    "bigram = gensim.models.Phrases(data_words, min_count=5, threshold=100) # higher threshold fewer phrases.\n",
    "trigram = gensim.models.Phrases(bigram[data_words], threshold=100)  \n",
    "\n",
    "# Faster way to get a sentence clubbed as a trigram/bigram\n",
    "bigram_mod = gensim.models.phrases.Phraser(bigram)\n",
    "trigram_mod = gensim.models.phrases.Phraser(trigram)\n",
    "\n",
    "# See trigram example\n",
    "print(trigram_mod[bigram_mod[data_words[0]]])"
   ]
  },
  {
   "cell_type": "code",
   "execution_count": null,
   "metadata": {},
   "outputs": [],
   "source": []
  },
  {
   "cell_type": "code",
   "execution_count": 10,
   "metadata": {},
   "outputs": [],
   "source": [
    "# Define functions for stopwords, bigrams, trigrams and lemmatization\n",
    "def remove_stopwords(texts):\n",
    "    return [[word for word in simple_preprocess(str(doc)) if word not in stop_words] for doc in texts]\n",
    "\n",
    "def make_bigrams(texts):\n",
    "    return [bigram_mod[doc] for doc in texts]\n",
    "\n",
    "def make_trigrams(texts):\n",
    "    return [trigram_mod[bigram_mod[doc]] for doc in texts]\n",
    "\n",
    "def lemmatization(texts, allowed_postags=['NOUN', 'ADJ', 'VERB', 'ADV']):\n",
    "    \"\"\"https://spacy.io/api/annotation\"\"\"\n",
    "    texts_out = []\n",
    "    for sent in texts:\n",
    "        doc = nlp(\" \".join(sent)) \n",
    "        texts_out.append([token.lemma_ for token in doc if token.pos_ in allowed_postags])\n",
    "    return texts_out"
   ]
  },
  {
   "cell_type": "code",
   "execution_count": 14,
   "metadata": {},
   "outputs": [],
   "source": [
    "# !python -m spacy download en_core_web_sm"
   ]
  },
  {
   "cell_type": "code",
   "execution_count": 13,
   "metadata": {},
   "outputs": [],
   "source": [
    "nlp = spacy.load(\"en_core_web_sm\")"
   ]
  },
  {
   "cell_type": "code",
   "execution_count": 15,
   "metadata": {},
   "outputs": [
    {
     "name": "stdout",
     "output_type": "stream",
     "text": [
      "[['where', 'thing', 'car', 'nntp_poste', 'host', 'park', 'line', 'wonder', 'could', 'enlighten', 'car', 'see', 'day', 'door', 'sport', 'car', 'look', 'late', 'early', 'call', 'bricklin', 'door', 'really', 'small', 'addition', 'separate', 'rest', 'body', 'know', 'tellme', 'model', 'name', 'engine', 'year', 'production', 'car', 'make', 'history', 'info', 'funky', 'look', 'car', 'mail', 'thank', 'bring', 'neighborhood', 'lerxst']]\n"
     ]
    }
   ],
   "source": [
    "# time consuming...\n",
    "# Remove Stop Words\n",
    "data_words_nostops = remove_stopwords(data_words)\n",
    "\n",
    "# Form Bigrams\n",
    "data_words_bigrams = make_bigrams(data_words_nostops)\n",
    "\n",
    "# Initialize spacy 'en' model, keeping only tagger component (for efficiency)\n",
    "# python3 -m spacy download en\n",
    "# nlp = spacy.load('en', disable=['parser', 'ner'])\n",
    "nlp = spacy.load(\"en_core_web_sm\")\n",
    "\n",
    "# Do lemmatization keeping only noun, adj, vb, adv\n",
    "data_lemmatized = lemmatization(data_words_bigrams, allowed_postags=['NOUN', 'ADJ', 'VERB', 'ADV'])\n",
    "\n",
    "print(data_lemmatized[:1])"
   ]
  },
  {
   "cell_type": "code",
   "execution_count": 17,
   "metadata": {},
   "outputs": [
    {
     "name": "stdout",
     "output_type": "stream",
     "text": [
      "[[(0, 1), (1, 1), (2, 1), (3, 1), (4, 1), (5, 5), (6, 1), (7, 1), (8, 2), (9, 1), (10, 1), (11, 1), (12, 1), (13, 1), (14, 1), (15, 1), (16, 1), (17, 1), (18, 1), (19, 1), (20, 2), (21, 1), (22, 1), (23, 1), (24, 1), (25, 1), (26, 1), (27, 1), (28, 1), (29, 1), (30, 1), (31, 1), (32, 1), (33, 1), (34, 1), (35, 1), (36, 1), (37, 1), (38, 1), (39, 1), (40, 1)]]\n"
     ]
    }
   ],
   "source": [
    "# Create Dictionary\n",
    "id2word = corpora.Dictionary(data_lemmatized)\n",
    "\n",
    "# Create Corpus\n",
    "texts = data_lemmatized\n",
    "\n",
    "# Term Document Frequency\n",
    "corpus = [id2word.doc2bow(text) for text in texts]\n",
    "\n",
    "# View\n",
    "print(corpus[:1])"
   ]
  },
  {
   "cell_type": "code",
   "execution_count": 18,
   "metadata": {},
   "outputs": [
    {
     "data": {
      "text/plain": [
       "[[('addition', 1),\n",
       "  ('body', 1),\n",
       "  ('bricklin', 1),\n",
       "  ('bring', 1),\n",
       "  ('call', 1),\n",
       "  ('car', 5),\n",
       "  ('could', 1),\n",
       "  ('day', 1),\n",
       "  ('door', 2),\n",
       "  ('early', 1),\n",
       "  ('engine', 1),\n",
       "  ('enlighten', 1),\n",
       "  ('funky', 1),\n",
       "  ('history', 1),\n",
       "  ('host', 1),\n",
       "  ('info', 1),\n",
       "  ('know', 1),\n",
       "  ('late', 1),\n",
       "  ('lerxst', 1),\n",
       "  ('line', 1),\n",
       "  ('look', 2),\n",
       "  ('mail', 1),\n",
       "  ('make', 1),\n",
       "  ('model', 1),\n",
       "  ('name', 1),\n",
       "  ('neighborhood', 1),\n",
       "  ('nntp_poste', 1),\n",
       "  ('park', 1),\n",
       "  ('production', 1),\n",
       "  ('really', 1),\n",
       "  ('rest', 1),\n",
       "  ('see', 1),\n",
       "  ('separate', 1),\n",
       "  ('small', 1),\n",
       "  ('sport', 1),\n",
       "  ('tellme', 1),\n",
       "  ('thank', 1),\n",
       "  ('thing', 1),\n",
       "  ('where', 1),\n",
       "  ('wonder', 1),\n",
       "  ('year', 1)]]"
      ]
     },
     "execution_count": 18,
     "metadata": {},
     "output_type": "execute_result"
    }
   ],
   "source": [
    "# Human readable format of corpus (term-frequency)\n",
    "[[(id2word[id], freq) for id, freq in cp] for cp in corpus[:1]]"
   ]
  },
  {
   "cell_type": "code",
   "execution_count": 19,
   "metadata": {},
   "outputs": [],
   "source": [
    "# time consuming...\n",
    "# Build LDA model\n",
    "lda_model = gensim.models.ldamodel.LdaModel(corpus=corpus,\n",
    "                                           id2word=id2word,\n",
    "                                           num_topics=20, \n",
    "                                           random_state=100,\n",
    "                                           update_every=1,\n",
    "                                           chunksize=100,\n",
    "                                           passes=10,\n",
    "                                           alpha='auto',\n",
    "                                           per_word_topics=True)"
   ]
  },
  {
   "cell_type": "code",
   "execution_count": 20,
   "metadata": {},
   "outputs": [
    {
     "name": "stdout",
     "output_type": "stream",
     "text": [
      "[(0, '0.097*\"black\" + 0.073*\"wing\" + 0.072*\"white\" + 0.048*\"vote\" + 0.041*\"flight\" + 0.028*\"devil\" + 0.027*\"capacity\" + 0.024*\"trace\" + 0.023*\"assist\" + 0.022*\"penalty\"'), (1, '0.064*\"man\" + 0.040*\"god\" + 0.039*\"accept\" + 0.034*\"explain\" + 0.030*\"member\" + 0.029*\"age\" + 0.027*\"israeli\" + 0.027*\"season\" + 0.024*\"publish\" + 0.021*\"serious\"'), (2, '0.130*\"board\" + 0.054*\"expansion\" + 0.032*\"looking\" + 0.016*\"stuff_delete\" + 0.011*\"rod\" + 0.000*\"reluctant\" + 0.000*\"wire\" + 0.000*\"connect\" + 0.000*\"worked\" + 0.000*\"blanking\"'), (3, '0.060*\"reality\" + 0.053*\"picture\" + 0.050*\"object\" + 0.042*\"greek\" + 0.038*\"contain\" + 0.036*\"generate\" + 0.034*\"interface\" + 0.030*\"font\" + 0.029*\"concept\" + 0.026*\"workstation\"'), (4, '0.215*\"ax\" + 0.182*\"max\" + 0.040*\"orbit\" + 0.035*\"satellite\" + 0.034*\"mission\" + 0.026*\"launch\" + 0.022*\"moon\" + 0.020*\"shuttle\" + 0.018*\"spacecraft\" + 0.017*\"lunar\"'), (5, '0.032*\"kill\" + 0.024*\"child\" + 0.023*\"government\" + 0.022*\"people\" + 0.019*\"death\" + 0.018*\"attack\" + 0.017*\"country\" + 0.016*\"fire\" + 0.016*\"war\" + 0.015*\"woman\"'), (6, '0.037*\"window\" + 0.034*\"card\" + 0.031*\"run\" + 0.028*\"problem\" + 0.027*\"computer\" + 0.026*\"bit\" + 0.025*\"thank\" + 0.024*\"driver\" + 0.024*\"price\" + 0.024*\"use\"'), (7, '0.030*\"people\" + 0.023*\"say\" + 0.018*\"believe\" + 0.018*\"reason\" + 0.016*\"evidence\" + 0.014*\"may\" + 0.012*\"fact\" + 0.012*\"state\" + 0.011*\"mean\" + 0.011*\"claim\"'), (8, '0.095*\"book\" + 0.068*\"physical\" + 0.062*\"science\" + 0.047*\"study\" + 0.032*\"author\" + 0.029*\"revelation\" + 0.027*\"avoid\" + 0.026*\"direct\" + 0.021*\"animal\" + 0.020*\"objective\"'), (9, '0.062*\"program\" + 0.062*\"file\" + 0.059*\"mail\" + 0.045*\"send\" + 0.043*\"information\" + 0.035*\"list\" + 0.033*\"address\" + 0.031*\"email\" + 0.029*\"image\" + 0.028*\"copy\"'), (10, '0.087*\"phone\" + 0.076*\"package\" + 0.052*\"nntp_posting\" + 0.051*\"route\" + 0.036*\"fax\" + 0.034*\"link\" + 0.032*\"btw\" + 0.032*\"primarily\" + 0.023*\"trick\" + 0.023*\"direction\"'), (11, '0.182*\"drive\" + 0.119*\"car\" + 0.032*\"engine\" + 0.029*\"ride\" + 0.022*\"cop\" + 0.020*\"dealer\" + 0.019*\"mile\" + 0.018*\"buy\" + 0.017*\"road\" + 0.017*\"battery\"'), (12, '0.085*\"player\" + 0.043*\"university\" + 0.033*\"switch\" + 0.032*\"cool\" + 0.029*\"printer\" + 0.028*\"baseball\" + 0.027*\"hot\" + 0.027*\"star\" + 0.020*\"blow\" + 0.020*\"helmet\"'), (13, '0.098*\"software\" + 0.074*\"test\" + 0.051*\"pc\" + 0.044*\"product\" + 0.039*\"bus\" + 0.037*\"scsi\" + 0.031*\"internal\" + 0.030*\"device\" + 0.028*\"motif\" + 0.028*\"transfer\"'), (14, '0.083*\"patient\" + 0.051*\"family\" + 0.045*\"box\" + 0.039*\"treatment\" + 0.038*\"disease\" + 0.036*\"doctor\" + 0.035*\"cd\" + 0.026*\"status\" + 0.025*\"medical\" + 0.024*\"wave\"'), (15, '0.065*\"input\" + 0.053*\"eat\" + 0.049*\"material\" + 0.045*\"controller\" + 0.042*\"signal\" + 0.041*\"trust\" + 0.038*\"ground\" + 0.037*\"expensive\" + 0.031*\"output\" + 0.029*\"circuit\"'), (16, '0.103*\"key\" + 0.057*\"gun\" + 0.055*\"chip\" + 0.047*\"public\" + 0.041*\"government\" + 0.029*\"encryption\" + 0.027*\"security\" + 0.025*\"private\" + 0.019*\"weapon\" + 0.018*\"secure\"'), (17, '0.020*\"use\" + 0.018*\"also\" + 0.016*\"system\" + 0.014*\"may\" + 0.014*\"number\" + 0.013*\"new\" + 0.009*\"high\" + 0.008*\"work\" + 0.008*\"will\" + 0.008*\"need\"'), (18, '0.078*\"team\" + 0.071*\"game\" + 0.055*\"year\" + 0.054*\"play\" + 0.050*\"win\" + 0.024*\"hit\" + 0.023*\"fan\" + 0.023*\"goal\" + 0.022*\"run\" + 0.022*\"score\"'), (19, '0.039*\"would\" + 0.038*\"line\" + 0.033*\"write\" + 0.021*\"article\" + 0.020*\"know\" + 0.019*\"be\" + 0.018*\"go\" + 0.017*\"get\" + 0.015*\"think\" + 0.015*\"good\"')]\n"
     ]
    }
   ],
   "source": [
    "# Print the Keyword in the 10 topics\n",
    "print(lda_model.print_topics())\n",
    "doc_lda = lda_model[corpus]"
   ]
  },
  {
   "cell_type": "code",
   "execution_count": 21,
   "metadata": {},
   "outputs": [
    {
     "name": "stdout",
     "output_type": "stream",
     "text": [
      "\n",
      "Perplexity:  -12.920902705787503\n",
      "\n",
      "Coherence Score:  0.4349983994999372\n"
     ]
    }
   ],
   "source": [
    "# A little time consuming...\n",
    "# Compute Perplexity\n",
    "print('\\nPerplexity: ', lda_model.log_perplexity(corpus))  # a measure of how good the model is. lower the better.\n",
    "\n",
    "# Compute Coherence Score\n",
    "coherence_model_lda = CoherenceModel(model=lda_model, texts=data_lemmatized, dictionary=id2word, coherence='c_v')\n",
    "coherence_lda = coherence_model_lda.get_coherence()\n",
    "print('\\nCoherence Score: ', coherence_lda)"
   ]
  },
  {
   "cell_type": "code",
   "execution_count": 22,
   "metadata": {},
   "outputs": [
    {
     "data": {
      "text/html": [
       "\n",
       "<link rel=\"stylesheet\" type=\"text/css\" href=\"https://cdn.rawgit.com/bmabey/pyLDAvis/files/ldavis.v1.0.0.css\">\n",
       "\n",
       "\n",
       "<div id=\"ldavis_el368018589590018003202094622\"></div>\n",
       "<script type=\"text/javascript\">\n",
       "\n",
       "var ldavis_el368018589590018003202094622_data = {\"mdsDat\": {\"x\": [0.358062509545825, 0.3097958201836661, 0.3349882721743147, 0.1368958170335273, 0.14587096615324457, 0.07707966366362617, 0.05211060446713544, -0.02404267820917045, 0.014541210543146674, -0.0831742727438006, -0.059051244240064915, -0.09346989574734466, -0.14057682599940782, -0.1110267228871635, -0.1378359824124901, -0.12811644416499618, -0.14351912442681336, -0.1490034211836324, -0.16294623871114938, -0.1965820130384523], \"y\": [-0.05320815735541184, 0.0813464331370519, -0.17399900759695658, 0.3197797206423812, -0.20143315882007778, 0.20579093681422295, 0.004574238664391971, 0.018582483951678348, -0.1075921068216642, -0.019962508617012497, 0.11055659982048646, 0.013591731285882237, -0.023631166275671085, -0.009138351704190147, -0.027445102034234004, -0.030044058280153368, -0.02551533298770337, -0.022658889722355524, -0.027571777430254418, -0.032022526670410105], \"topics\": [1, 2, 3, 4, 5, 6, 7, 8, 9, 10, 11, 12, 13, 14, 15, 16, 17, 18, 19, 20], \"cluster\": [1, 1, 1, 1, 1, 1, 1, 1, 1, 1, 1, 1, 1, 1, 1, 1, 1, 1, 1, 1], \"Freq\": [35.992008209228516, 20.078359603881836, 15.996400833129883, 4.392664432525635, 4.198606014251709, 3.528123617172241, 2.2350733280181885, 2.1715986728668213, 2.114530563354492, 1.322650671005249, 1.2436225414276123, 1.197007417678833, 1.1209663152694702, 1.1080676317214966, 0.7756760716438293, 0.7322689294815063, 0.6843098402023315, 0.6040320992469788, 0.41331973671913147, 0.09071703255176544]}, \"tinfo\": {\"Term\": [\"would\", \"line\", \"write\", \"ax\", \"year\", \"drive\", \"people\", \"max\", \"use\", \"key\", \"article\", \"program\", \"problem\", \"file\", \"system\", \"mail\", \"be\", \"team\", \"go\", \"good\", \"car\", \"say\", \"run\", \"game\", \"thank\", \"information\", \"man\", \"send\", \"know\", \"get\", \"write\", \"article\", \"be\", \"go\", \"want\", \"organization\", \"s\", \"really\", \"have\", \"sure\", \"back\", \"bad\", \"hear\", \"little\", \"put\", \"lot\", \"maybe\", \"turn\", \"pay\", \"remember\", \"money\", \"week\", \"like\", \"hard\", \"ill\", \"pretty\", \"couple\", \"internet\", \"friend\", \"guess\", \"get\", \"would\", \"enough\", \"could\", \"line\", \"good\", \"host\", \"know\", \"much\", \"still\", \"reply\", \"look\", \"try\", \"take\", \"think\", \"see\", \"time\", \"well\", \"come\", \"make\", \"thing\", \"tell\", \"say\", \"way\", \"number\", \"will\", \"space\", \"large\", \"build\", \"technology\", \"receive\", \"single\", \"add\", \"control\", \"design\", \"increase\", \"service\", \"research\", \"function\", \"section\", \"process\", \"field\", \"remove\", \"center\", \"release\", \"block\", \"detail\", \"method\", \"amount\", \"various\", \"develop\", \"hour\", \"main\", \"unit\", \"high\", \"cost\", \"rate\", \"nntp_poste\", \"datum\", \"low\", \"new\", \"level\", \"standard\", \"small\", \"require\", \"type\", \"power\", \"system\", \"use\", \"return\", \"provide\", \"also\", \"order\", \"note\", \"set\", \"base\", \"support\", \"may\", \"include\", \"work\", \"need\", \"part\", \"change\", \"call\", \"case\", \"first\", \"believe\", \"evidence\", \"fact\", \"claim\", \"sense\", \"exist\", \"true\", \"person\", \"faith\", \"word\", \"rule\", \"religion\", \"argument\", \"prove\", \"speak\", \"truth\", \"clear\", \"discussion\", \"belief\", \"human\", \"church\", \"young\", \"conclusion\", \"statement\", \"christian\", \"religious\", \"indeed\", \"jewish\", \"deny\", \"logic\", \"reason\", \"matter\", \"law\", \"life\", \"state\", \"people\", \"view\", \"mean\", \"agree\", \"say\", \"world\", \"issue\", \"many\", \"must\", \"may\", \"question\", \"point\", \"become\", \"right\", \"case\", \"make\", \"even\", \"however\", \"think\", \"window\", \"card\", \"sale\", \"color\", \"distribution_usa\", \"screen\", \"memory\", \"bike\", \"disk\", \"tape\", \"display\", \"graphic\", \"mode\", \"monitor\", \"video\", \"purchase\", \"external\", \"mouse\", \"manager\", \"apple\", \"convert\", \"processor\", \"rider\", \"blind\", \"resolution\", \"serial\", \"default\", \"icon\", \"utility\", \"brother\", \"machine\", \"price\", \"driver\", \"computer\", \"version\", \"offer\", \"sell\", \"model\", \"bit\", \"run\", \"problem\", \"thank\", \"fast\", \"use\", \"buy\", \"system\", \"kill\", \"fire\", \"war\", \"soldier\", \"city\", \"murder\", \"village\", \"military\", \"land\", \"turkish\", \"withdraw\", \"occupy\", \"arm\", \"population\", \"national\", \"gift\", \"town\", \"armenian\", \"door\", \"civilian\", \"male\", \"burn\", \"minority\", \"percent\", \"somehow\", \"girl\", \"inhabitant\", \"violation\", \"role\", \"islamic\", \"woman\", \"police\", \"house\", \"attack\", \"country\", \"child\", \"death\", \"government\", \"force\", \"die\", \"people\", \"fight\", \"live\", \"shoot\", \"year\", \"file\", \"mail\", \"email\", \"image\", \"copy\", \"entry\", \"server\", \"distribution\", \"faq\", \"format\", \"library\", \"network\", \"update\", \"map\", \"morality\", \"guilty\", \"info\", \"conference\", \"electrical\", \"import\", \"correction\", \"television\", \"partially\", \"observer\", \"mapping\", \"ray\", \"kinda\", \"automate\", \"submission\", \"tiff\", \"address\", \"program\", \"request\", \"list\", \"send\", \"page\", \"user\", \"information\", \"available\", \"code\", \"message\", \"source\", \"include\", \"name\", \"post\", \"application\", \"thank\", \"read\", \"team\", \"game\", \"play\", \"win\", \"hit\", \"fan\", \"goal\", \"score\", \"division\", \"cpu\", \"trade\", \"average\", \"boy\", \"upgrade\", \"dog\", \"stat\", \"draft\", \"yesterday\", \"blue\", \"tie\", \"club\", \"travel\", \"offense\", \"soul\", \"coverage\", \"pitch\", \"floppy\", \"brave\", \"staff\", \"era\", \"stupid\", \"year\", \"defense\", \"lose\", \"run\", \"final\", \"last\", \"pick\", \"next\", \"first\", \"point\", \"god\", \"accept\", \"member\", \"israeli\", \"season\", \"publish\", \"serious\", \"shall\", \"society\", \"respect\", \"moral\", \"practice\", \"pen\", \"table\", \"son\", \"assumption\", \"homosexual\", \"imply\", \"letter\", \"improve\", \"arab\", \"mirror\", \"anti\", \"creation\", \"acquire\", \"economic\", \"unlikely\", \"western\", \"sight\", \"father\", \"age\", \"exactly\", \"man\", \"explain\", \"community\", \"purpose\", \"whole\", \"key\", \"gun\", \"chip\", \"encryption\", \"security\", \"private\", \"weapon\", \"secure\", \"license\", \"tap\", \"firearm\", \"ide\", \"review\", \"blank\", \"headache\", \"rsa\", \"specify\", \"export\", \"algorithm\", \"capture\", \"distance\", \"restriction\", \"usage\", \"regulation\", \"packet\", \"investigation\", \"cryptography\", \"crack\", \"horse\", \"sheet\", \"public\", \"criminal\", \"protect\", \"government\", \"crime\", \"legal\", \"device\", \"carry\", \"right\", \"use\", \"book\", \"physical\", \"science\", \"study\", \"author\", \"revelation\", \"avoid\", \"direct\", \"animal\", \"objective\", \"interpretation\", \"benefit\", \"language\", \"statistic\", \"task\", \"prize\", \"daughter\", \"element\", \"interpret\", \"absolute\", \"relationship\", \"reward\", \"category\", \"birth\", \"phase\", \"advanced\", \"vision\", \"analogy\", \"introduction\", \"novel\", \"observation\", \"ready\", \"contain\", \"topic\", \"explain\", \"drive\", \"car\", \"engine\", \"ride\", \"cop\", \"mile\", \"battery\", \"decent\", \"accident\", \"factory\", \"cross\", \"up\", \"gear\", \"auto\", \"mid\", \"revolver\", \"amp\", \"luxury\", \"volt\", \"rear\", \"highway\", \"mileage\", \"turbo\", \"suspension\", \"sustain\", \"buying\", \"salesman\", \"driving\", \"handling\", \"closet\", \"dealer\", \"trip\", \"vehicle\", \"owner\", \"road\", \"safety\", \"front\", \"pull\", \"speed\", \"insurance\", \"buy\", \"light\", \"fast\", \"model\", \"driver\", \"price\", \"software\", \"test\", \"pc\", \"product\", \"bus\", \"scsi\", \"internal\", \"motif\", \"transfer\", \"cable\", \"aware\", \"procedure\", \"engineering\", \"laboratory\", \"motherboard\", \"unix\", \"clock\", \"connector\", \"pub\", \"fee\", \"extension\", \"vendor\", \"cluster\", \"restore\", \"fancy\", \"meter\", \"spec\", \"peripheral\", \"fatal\", \"designer\", \"bill\", \"fairly\", \"performance\", \"device\", \"factor\", \"speed\", \"ax\", \"max\", \"orbit\", \"satellite\", \"moon\", \"shuttle\", \"spacecraft\", \"lunar\", \"solar\", \"film\", \"movie\", \"scare\", \"plot\", \"secular\", \"planetary\", \"orbiter\", \"orbital\", \"winter\", \"thrust\", \"particle\", \"interior\", \"mission\", \"maneuver\", \"launch\", \"di_di\", \"bhjn\", \"gk\", \"pmfq\", \"pl_pl\", \"eqtm\", \"part\", \"player\", \"university\", \"switch\", \"cool\", \"printer\", \"baseball\", \"hot\", \"star\", \"blow\", \"helmet\", \"ice\", \"water\", \"oil\", \"cold\", \"cap\", \"canadian\", \"saturn\", \"remind\", \"quick\", \"nuclear\", \"deliver\", \"cylinder\", \"heat\", \"red\", \"improvement\", \"crazy\", \"motor\", \"soft\", \"bag\", \"smart\", \"wear\", \"sport\", \"reality\", \"picture\", \"object\", \"greek\", \"generate\", \"interface\", \"font\", \"concept\", \"workstation\", \"management\", \"anywhere\", \"universe\", \"routine\", \"button\", \"depth\", \"widget\", \"bounce\", \"programmer\", \"exposure\", \"variation\", \"mb\", \"infinite\", \"characteristic\", \"arbitrary\", \"compress\", \"competition\", \"generic\", \"deletion\", \"comprise\", \"roman\", \"contain\", \"scale\", \"text\", \"patient\", \"family\", \"box\", \"treatment\", \"disease\", \"doctor\", \"cd\", \"status\", \"medical\", \"wave\", \"ticket\", \"health\", \"violence\", \"immediate\", \"spring\", \"modem\", \"confirm\", \"automatically\", \"physician\", \"terminal\", \"diet\", \"severe\", \"campaign\", \"investment\", \"medicine\", \"discount\", \"diagnostic\", \"bury\", \"shock\", \"mad\", \"insurance\", \"treat\", \"risk\", \"input\", \"eat\", \"material\", \"controller\", \"signal\", \"trust\", \"expensive\", \"output\", \"circuit\", \"noise\", \"configuration\", \"dept\", \"own\", \"greatly_appreciate\", \"constitution\", \"japanese\", \"voltage\", \"tire\", \"impressive\", \"belt\", \"preferably\", \"unique\", \"timing\", \"accuracy\", \"domain\", \"maintenance\", \"dynamic\", \"recieve\", \"shaft\", \"acquisition\", \"ground\", \"phone\", \"package\", \"nntp_posting\", \"route\", \"fax\", \"link\", \"btw\", \"primarily\", \"trick\", \"direction\", \"highly\", \"buyer\", \"reflect\", \"sky\", \"proud\", \"dare\", \"suck\", \"catalog\", \"indication\", \"leadership\", \"survey\", \"forum\", \"sue\", \"repost\", \"creature\", \"formation\", \"enhancement\", \"desert\", \"primitive\", \"mailing\", \"black\", \"wing\", \"white\", \"vote\", \"flight\", \"devil\", \"capacity\", \"trace\", \"assist\", \"penalty\", \"mass\", \"strip\", \"crew\", \"dirty\", \"tour\", \"presentation\", \"leather\", \"module\", \"utilize\", \"horror\", \"stamp\", \"analyze\", \"abstract\", \"ssf\", \"dish\", \"qualified\", \"cone\", \"subtly\", \"schedule\", \"mission\", \"board\", \"expansion\", \"looking\", \"stuff_delete\", \"rod\", \"reluctant\", \"wire\", \"jiggle\", \"jolt\", \"worked\", \"medford\", \"blanking\", \"connect\", \"fpu\", \"shephard\", \"plutonium\", \"ethernet\", \"univesa\", \"bubble\", \"franchise\", \"reprocess\", \"ntsc\", \"fabricate\", \"vram\", \"flop\", \"flip\", \"din\", \"nhls\", \"foreseeable\", \"allotment\", \"admiral\", \"compatible\", \"template\", \"jet\", \"expand\", \"grade\", \"slot\", \"item\", \"frame\", \"hockey\", \"dollar\", \"pin\"], \"Freq\": [16156.0, 15862.0, 13427.0, 2717.0, 4625.0, 2551.0, 7509.0, 2300.0, 5989.0, 2467.0, 8624.0, 2698.0, 3864.0, 2466.0, 4626.0, 2355.0, 7564.0, 1975.0, 7480.0, 6108.0, 1670.0, 8574.0, 2866.0, 1804.0, 3194.0, 2139.0, 1888.0, 2108.0, 8484.0, 7177.0, 13426.134765625, 8622.9326171875, 7563.685546875, 7479.72705078125, 4505.06005859375, 3863.9775390625, 3812.210693359375, 2982.296630859375, 2811.498779296875, 2595.890380859375, 2447.181640625, 2125.462890625, 2014.553955078125, 1978.0299072265625, 1914.1644287109375, 1881.221923828125, 1424.6824951171875, 1271.4521484375, 1268.5482177734375, 1261.9512939453125, 1209.322265625, 1201.937255859375, 1179.5987548828125, 1092.328369140625, 921.940673828125, 881.9008178710938, 850.1271362304688, 840.9937744140625, 837.7498779296875, 820.0009765625, 7106.4501953125, 15778.70703125, 1642.785888671875, 4970.08447265625, 15245.1005859375, 5956.69140625, 4779.7314453125, 8054.0322265625, 3499.22265625, 2550.51806640625, 2325.87353515625, 3578.43603515625, 3723.964599609375, 4102.962890625, 6228.74755859375, 4995.28564453125, 5196.77294921875, 3593.1064453125, 3759.36572265625, 5528.68017578125, 3527.544677734375, 2812.08740234375, 4204.1865234375, 2929.753662109375, 3066.739013671875, 1853.9359130859375, 1512.0399169921875, 1494.6346435546875, 1445.12109375, 1324.9373779296875, 1273.44580078125, 1044.6668701171875, 1013.230712890625, 968.7826538085938, 931.3118896484375, 895.8182983398438, 861.7967529296875, 804.1904296875, 718.4738159179688, 691.7688598632812, 689.3471069335938, 642.3921508789062, 637.99267578125, 619.5913696289062, 613.1839599609375, 603.6332397460938, 603.4432983398438, 592.6279296875, 584.5614013671875, 560.802001953125, 556.3088989257812, 554.8438110351562, 535.3367309570312, 535.100830078125, 2055.492431640625, 1273.9144287109375, 984.2672119140625, 1444.77587890625, 1004.1209106445312, 1089.8321533203125, 3021.95458984375, 928.3237915039062, 912.0723266601562, 1210.5677490234375, 1316.3790283203125, 1248.6617431640625, 1541.185791015625, 3712.478759765625, 4631.63671875, 1028.6732177734375, 1641.5323486328125, 3989.925048828125, 1657.6541748046875, 1143.0228271484375, 1609.6580810546875, 1343.59521484375, 1482.4981689453125, 3068.385009765625, 1599.14794921875, 1916.310546875, 1841.858642578125, 1368.975341796875, 1265.0164794921875, 1482.8494873046875, 1348.650146484375, 1392.0572509765625, 3222.826416015625, 2802.99462890625, 2128.936279296875, 2015.5833740234375, 1725.9425048828125, 1677.30224609375, 1584.7838134765625, 1559.1728515625, 1403.673828125, 1232.53076171875, 1048.838623046875, 1047.9542236328125, 998.5717163085938, 949.8307495117188, 934.0160522460938, 859.6858520507812, 843.690673828125, 835.5784301757812, 827.9652709960938, 709.4291381835938, 688.4515991210938, 671.3976440429688, 654.1846313476562, 633.2716064453125, 627.548095703125, 620.871826171875, 560.3983154296875, 552.3424072265625, 548.36279296875, 491.3376770019531, 3200.900146484375, 929.3834228515625, 1600.625, 1194.7784423828125, 2109.10888671875, 5407.55712890625, 999.010009765625, 2030.4464111328125, 1052.89501953125, 4149.58935546875, 1169.163330078125, 1321.5533447265625, 2007.07373046875, 1452.3135986328125, 2557.103515625, 1590.0528564453125, 1613.0191650390625, 1084.5167236328125, 1423.6639404296875, 1283.8929443359375, 1667.9105224609375, 1204.904296875, 1125.752685546875, 1240.232666015625, 1836.0181884765625, 1671.1326904296875, 965.6983642578125, 904.7152709960938, 855.8331298828125, 810.46533203125, 806.68505859375, 793.6979370117188, 783.1869506835938, 710.2723388671875, 709.9407348632812, 687.8792724609375, 654.6929931640625, 633.834228515625, 589.27783203125, 401.2106628417969, 392.27947998046875, 363.7698974609375, 351.9173278808594, 342.6952209472656, 316.4820556640625, 288.7582702636719, 275.8132019042969, 252.9284210205078, 250.8874053955078, 228.86807250976562, 184.34103393554688, 175.15213012695312, 172.05198669433594, 165.8894805908203, 1094.6978759765625, 1182.4869384765625, 1195.5963134765625, 1342.8419189453125, 877.7259521484375, 719.7481079101562, 1008.2289428710938, 639.6312255859375, 1266.4912109375, 1545.4188232421875, 1403.399658203125, 1219.99072265625, 520.220947265625, 1176.8958740234375, 641.6995849609375, 912.6422729492188, 1497.9671630859375, 760.8603515625, 740.2234497070312, 696.6512451171875, 669.4667358398438, 606.9198608398438, 604.7020874023438, 563.1565551757812, 545.9299926757812, 418.5986633300781, 379.9027404785156, 376.87884521484375, 362.8298645019531, 358.283203125, 357.494140625, 355.0247497558594, 338.3753662109375, 322.6492614746094, 308.56231689453125, 304.7819519042969, 297.3897399902344, 291.3388366699219, 244.33815002441406, 243.00955200195312, 231.17222595214844, 225.281982421875, 209.76844787597656, 202.04481506347656, 201.06646728515625, 196.8160858154297, 724.51025390625, 518.67822265625, 315.89019775390625, 848.148193359375, 800.3382568359375, 1133.057373046875, 904.7105102539062, 1104.3450927734375, 588.2866821289062, 570.5493774414062, 1044.3310546875, 336.0273132324219, 496.5185241699219, 370.45062255859375, 349.14532470703125, 2465.152587890625, 2354.546630859375, 1241.613037109375, 1158.9072265625, 1099.7891845703125, 1035.485107421875, 761.5858154296875, 670.90283203125, 646.9060668945312, 569.30419921875, 444.7015686035156, 645.4979248046875, 375.71795654296875, 217.83929443359375, 211.99949645996094, 178.52978515625, 1057.2952880859375, 160.89523315429688, 136.24404907226562, 101.92469787597656, 100.5764389038086, 72.96198272705078, 61.3318977355957, 50.88444137573242, 49.66586685180664, 49.637489318847656, 47.45697784423828, 34.170021057128906, 30.33075714111328, 28.516496658325195, 1315.3519287109375, 2480.354736328125, 464.7056579589844, 1377.4366455078125, 1792.76953125, 592.9124755859375, 773.0698852539062, 1698.721435546875, 1030.72509765625, 520.8975219726562, 1044.7647705078125, 700.9352416992188, 742.010986328125, 585.6903076171875, 628.67578125, 384.7291259765625, 482.2938232421875, 395.0390319824219, 1974.5701904296875, 1803.4444580078125, 1370.3206787109375, 1272.64404296875, 597.5016479492188, 582.8330078125, 574.8009643554688, 552.3995361328125, 505.95867919921875, 473.0972595214844, 461.50286865234375, 354.3647766113281, 295.2060546875, 238.6054229736328, 224.06431579589844, 221.67770385742188, 219.12493896484375, 192.2741241455078, 187.12857055664062, 185.00621032714844, 174.9026641845703, 172.2415008544922, 171.61561584472656, 165.97012329101562, 157.25315856933594, 156.38803100585938, 149.16000366210938, 111.81192016601562, 110.71011352539062, 108.88904571533203, 258.063720703125, 1400.17822265625, 207.7096405029297, 415.7386474609375, 564.4163208007812, 238.5555877685547, 440.7060241699219, 237.9413299560547, 297.5538024902344, 341.1391296386719, 250.0424041748047, 991.6394653320312, 958.5782470703125, 746.9241943359375, 664.0752563476562, 656.2511596679688, 579.8958740234375, 524.8089599609375, 507.97967529296875, 446.2418518066406, 444.3277587890625, 437.5884704589844, 368.7029724121094, 350.22149658203125, 321.4018859863281, 319.6832275390625, 281.6015625, 258.9935607910156, 247.36846923828125, 238.0245361328125, 237.69712829589844, 232.99208068847656, 223.8166961669922, 220.82025146484375, 213.54193115234375, 195.59922790527344, 195.3795928955078, 193.61517333984375, 177.152099609375, 170.56390380859375, 169.053955078125, 720.275634765625, 519.68310546875, 1577.283447265625, 842.8556518554688, 411.83599853515625, 304.9923095703125, 291.7407531738281, 2465.824462890625, 1361.837158203125, 1304.2801513671875, 699.2550659179688, 641.2427978515625, 593.4315795898438, 465.25732421875, 430.92425537109375, 419.989501953125, 399.754150390625, 365.22808837890625, 294.2022705078125, 293.2698669433594, 269.11944580078125, 234.06532287597656, 228.47462463378906, 223.07102966308594, 190.07882690429688, 179.17965698242188, 172.9586639404297, 151.5703887939453, 148.26487731933594, 133.47756958007812, 132.70274353027344, 131.5131378173828, 130.74317932128906, 128.79190063476562, 127.5184326171875, 127.3171157836914, 123.2413330078125, 1115.6328125, 281.2540283203125, 415.358642578125, 985.5787963867188, 344.6041564941406, 210.1942138671875, 200.42665100097656, 208.3737335205078, 210.79225158691406, 163.36822509765625, 1425.5465087890625, 1022.3310546875, 925.5924682617188, 702.9585571289062, 484.0461730957031, 425.90447998046875, 401.2928161621094, 393.5689392089844, 320.1961669921875, 299.9851379394531, 256.33685302734375, 251.84983825683594, 242.05743408203125, 231.66351318359375, 196.49368286132812, 175.67161560058594, 167.50296020507812, 162.04444885253906, 156.076171875, 148.46730041503906, 143.6018829345703, 138.37530517578125, 136.05691528320312, 117.47455596923828, 110.77262878417969, 93.97218322753906, 90.97766876220703, 90.04364013671875, 86.72315216064453, 77.6810531616211, 210.88262939453125, 133.45492553710938, 282.2430419921875, 119.98892211914062, 117.41276550292969, 2549.8359375, 1669.0228271484375, 455.7719421386719, 412.16290283203125, 304.3315124511719, 263.91314697265625, 233.84909057617188, 180.56443786621094, 169.6511688232422, 158.49508666992188, 150.04733276367188, 130.6822967529297, 121.6193618774414, 115.41303253173828, 113.68772888183594, 102.49950408935547, 87.17521667480469, 86.85678100585938, 83.7770004272461, 81.1336669921875, 73.93087005615234, 59.216880798339844, 57.74465560913086, 50.04450988769531, 48.6046028137207, 47.4715576171875, 46.128604888916016, 41.36748123168945, 37.882022857666016, 37.37156677246094, 286.81689453125, 108.80268859863281, 216.1043243408203, 207.16262817382812, 239.53602600097656, 220.53892517089844, 172.98162841796875, 160.79525756835938, 214.8475799560547, 122.44974517822266, 248.84629821777344, 179.39605712890625, 174.01292419433594, 160.95936584472656, 130.32174682617188, 122.53418731689453, 1326.7205810546875, 1002.0191650390625, 694.797119140625, 601.1388549804688, 524.6259765625, 503.7093505859375, 423.6318054199219, 385.0820617675781, 372.6492004394531, 285.9793701171875, 282.9981994628906, 274.4190368652344, 263.178955078125, 251.7224884033203, 190.2339324951172, 189.1636505126953, 188.28196716308594, 168.4666290283203, 140.32907104492188, 118.24178314208984, 114.55906677246094, 111.1333999633789, 109.7242431640625, 105.85340118408203, 103.80155181884766, 97.66484832763672, 62.245819091796875, 58.97437286376953, 42.31575012207031, 34.25129699707031, 226.72511291503906, 201.51486206054688, 334.7804870605469, 410.4871520996094, 109.78421020507812, 118.07379150390625, 2716.16748046875, 2299.34423828125, 505.61065673828125, 442.0047607421875, 276.9923400878906, 257.72021484375, 232.1595458984375, 213.76113891601562, 188.04293823242188, 167.30006408691406, 150.87461853027344, 143.46353149414062, 128.2584991455078, 123.37334442138672, 109.73804473876953, 81.70295715332031, 69.41831970214844, 57.992740631103516, 50.52005386352539, 39.380714416503906, 16.861745834350586, 430.8060607910156, 13.287032127380371, 331.04315185546875, 0.09146314859390259, 0.0914570763707161, 0.09145303070545197, 0.09145194292068481, 0.09144923835992813, 0.09144852310419083, 9.262596130371094, 1060.974365234375, 540.8159790039062, 412.0159912109375, 403.8779296875, 366.7001647949219, 353.8686828613281, 343.48797607421875, 335.78973388671875, 251.22068786621094, 251.03201293945312, 241.82943725585938, 239.8107452392578, 211.08131408691406, 206.2052764892578, 202.17913818359375, 189.1929473876953, 186.56149291992188, 184.4232177734375, 183.5778350830078, 172.25160217285156, 171.62513732910156, 155.50497436523438, 155.20230102539062, 154.5779571533203, 131.7834930419922, 120.17277526855469, 115.70924377441406, 115.60541534423828, 106.65281677246094, 100.99134826660156, 212.43887329101562, 148.89466857910156, 527.6735229492188, 467.9185791015625, 434.4341735839844, 364.5670166015625, 313.3121032714844, 296.9579162597656, 259.9341125488281, 253.53900146484375, 226.27731323242188, 181.15029907226562, 174.62258911132812, 169.22300720214844, 149.76182556152344, 130.3979034423828, 128.83709716796875, 125.7108154296875, 98.23812866210938, 96.13426971435547, 89.61898040771484, 82.23509979248047, 81.8736343383789, 72.56986236572266, 69.94889831542969, 69.32056427001953, 62.0504035949707, 59.195621490478516, 55.85032272338867, 52.7571907043457, 52.41120910644531, 49.53068542480469, 336.0689392089844, 86.9798583984375, 58.23609924316406, 685.1033935546875, 421.389892578125, 367.9974670410156, 324.5809020996094, 313.7146301269531, 296.69073486328125, 291.368896484375, 216.22557067871094, 203.1509552001953, 195.97314453125, 185.49203491210938, 178.20358276367188, 157.81588745117188, 141.3928680419922, 131.19766235351562, 130.30140686035156, 118.54209899902344, 109.02130889892578, 106.41217041015625, 105.40351104736328, 95.51668548583984, 87.67964935302734, 86.35494232177734, 82.2411880493164, 79.02308654785156, 66.11891174316406, 62.14991760253906, 61.15300369262695, 59.332275390625, 52.620662689208984, 138.05821228027344, 68.19068908691406, 65.89126586914062, 502.6755065917969, 407.4881286621094, 379.0331115722656, 347.7784423828125, 321.34722900390625, 315.9717102050781, 287.36785888671875, 241.68580627441406, 223.27664184570312, 156.06918334960938, 154.90924072265625, 148.81097412109375, 145.37881469726562, 123.5201187133789, 114.5456314086914, 106.2029037475586, 105.1598892211914, 103.44873046875, 87.2474594116211, 81.60588073730469, 79.72909545898438, 77.58582305908203, 76.89356994628906, 66.70492553710938, 65.11483764648438, 56.33631134033203, 53.88138961791992, 47.2242431640625, 46.041419982910156, 43.06351089477539, 294.2784729003906, 590.859130859375, 516.6337280273438, 353.1054992675781, 346.8884582519531, 245.44097900390625, 234.58001708984375, 221.0530548095703, 220.7782440185547, 156.70591735839844, 154.8145294189453, 143.99484252929688, 143.5337677001953, 118.06393432617188, 110.39654541015625, 102.9412612915039, 86.89435577392578, 83.0364990234375, 75.2022705078125, 72.85858917236328, 66.08633422851562, 62.3311882019043, 60.27813720703125, 57.38331604003906, 51.09720230102539, 49.49700164794922, 48.40989685058594, 48.24134826660156, 44.55427169799805, 33.079856872558594, 32.9393424987793, 452.0635681152344, 338.53466796875, 336.4123840332031, 223.28408813476562, 189.24301147460938, 132.47943115234375, 124.32722473144531, 114.16402435302734, 108.22960662841797, 104.18600463867188, 98.53014373779297, 76.45450592041016, 76.32353210449219, 70.03150177001953, 56.29768371582031, 54.26799392700195, 45.63877487182617, 40.18730926513672, 38.11356735229492, 29.854612350463867, 29.513322830200195, 27.30596923828125, 18.869787216186523, 18.48703384399414, 17.857425689697266, 8.471261024475098, 5.9302897453308105, 0.5014573335647583, 59.0888671875, 29.21916961669922, 132.8148956298828, 55.2333984375, 32.92539596557617, 16.7249813079834, 11.266468048095703, 0.16654953360557556, 0.019675064831972122, 0.019671540707349777, 0.019671540707349777, 0.019671540707349777, 0.019671525806188583, 0.019671540707349777, 0.019671618938446045, 0.019669504836201668, 0.019668908789753914, 0.019668741151690483, 0.019668659195303917, 0.019668472930788994, 0.019668471068143845, 0.019668789580464363, 0.019668452441692352, 0.019668448716402054, 0.019668452441692352, 0.019668618217110634, 0.019668519496917725, 0.019668521359562874, 0.01966836303472519, 0.01966831088066101, 0.01966829225420952, 0.01966829225420952, 0.019668467342853546, 0.01966875046491623, 0.019668370485305786, 0.019668562337756157, 0.0196684617549181, 0.019668500870466232, 0.01966852694749832, 0.0196687001734972, 0.019668541848659515, 0.019668662920594215, 0.01966852694749832, 0.019668590277433395], \"Total\": [16156.0, 15862.0, 13427.0, 2717.0, 4625.0, 2551.0, 7509.0, 2300.0, 5989.0, 2467.0, 8624.0, 2698.0, 3864.0, 2466.0, 4626.0, 2355.0, 7564.0, 1975.0, 7480.0, 6108.0, 1670.0, 8574.0, 2866.0, 1804.0, 3194.0, 2139.0, 1888.0, 2108.0, 8484.0, 7177.0, 13427.3037109375, 8624.1015625, 7564.85546875, 7480.89697265625, 4506.22998046875, 3865.146484375, 3813.379638671875, 2983.465576171875, 2812.667724609375, 2597.088134765625, 2448.3505859375, 2126.6318359375, 2015.7230224609375, 1979.198974609375, 1915.33349609375, 1882.3909912109375, 1425.8515625, 1272.6212158203125, 1269.71728515625, 1263.120361328125, 1210.4913330078125, 1203.1063232421875, 1180.767822265625, 1093.4974365234375, 923.1097412109375, 883.0698852539062, 851.2962036132812, 842.162841796875, 838.9189453125, 821.1700439453125, 7177.64453125, 16156.8818359375, 1649.57275390625, 5051.12890625, 15862.5986328125, 6108.50634765625, 4901.26318359375, 8484.0498046875, 3640.760986328125, 2628.882080078125, 2399.1640625, 3878.512451171875, 4090.5498046875, 4573.0927734375, 7470.08544921875, 5820.78662109375, 6294.13720703125, 4183.67333984375, 4593.623046875, 7900.6826171875, 4433.775390625, 3189.709228515625, 8574.4765625, 3939.026611328125, 3067.9052734375, 1855.1021728515625, 1513.2061767578125, 1495.8009033203125, 1446.287353515625, 1326.1036376953125, 1274.612060546875, 1045.8331298828125, 1014.3969116210938, 969.9488525390625, 932.4780883789062, 896.9844970703125, 862.9629516601562, 805.3566284179688, 719.6400146484375, 692.93505859375, 690.5133056640625, 643.558349609375, 639.1588745117188, 620.757568359375, 614.3501586914062, 604.7994384765625, 604.6094970703125, 593.7957153320312, 585.7276000976562, 561.9682006835938, 557.47509765625, 556.010009765625, 536.5029296875, 536.2670288085938, 2063.59814453125, 1285.0369873046875, 999.1530151367188, 1498.601318359375, 1032.1707763671875, 1130.5682373046875, 3383.488525390625, 960.0430297851562, 944.5656127929688, 1286.1575927734375, 1415.975341796875, 1337.936767578125, 1706.2481689453125, 4626.22021484375, 5989.6611328125, 1088.339599609375, 1946.6553955078125, 5871.8857421875, 2015.4671630859375, 1257.9775390625, 2007.1246337890625, 1603.79150390625, 1863.2628173828125, 7298.11328125, 2393.318603515625, 4547.05126953125, 4274.72998046875, 2273.124267578125, 1819.6939697265625, 3071.0888671875, 2684.51806640625, 3679.8876953125, 3224.0009765625, 2804.169189453125, 2130.11083984375, 2016.7579345703125, 1727.1170654296875, 1678.476806640625, 1585.9583740234375, 1560.3475341796875, 1404.848388671875, 1233.705322265625, 1050.01318359375, 1049.1287841796875, 999.7462768554688, 951.0053100585938, 935.1906127929688, 860.8604125976562, 844.865234375, 836.7529907226562, 829.1398315429688, 710.6036987304688, 689.6261596679688, 672.5722045898438, 655.3591918945312, 634.4461669921875, 628.72265625, 622.04638671875, 561.5728759765625, 553.5169677734375, 549.537353515625, 492.51226806640625, 3287.919677734375, 951.9176025390625, 1727.53955078125, 1268.891357421875, 2393.0244140625, 7509.93896484375, 1074.2677001953125, 2705.52294921875, 1254.5684814453125, 8574.4765625, 1481.82861328125, 1836.3782958984375, 3834.215576171875, 2261.665283203125, 7298.11328125, 3243.6396484375, 3556.119873046875, 1369.4024658203125, 3466.610595703125, 2684.51806640625, 7900.6826171875, 3939.642578125, 2104.0048828125, 7470.08544921875, 1837.18994140625, 1672.304443359375, 966.8699951171875, 905.8869018554688, 857.0047607421875, 811.636962890625, 807.856689453125, 794.8695678710938, 784.3585815429688, 711.4439697265625, 711.1123657226562, 689.0509033203125, 655.8646240234375, 635.005859375, 590.449462890625, 402.38232421875, 393.4511413574219, 364.9415588378906, 353.0889892578125, 343.86688232421875, 317.6537170410156, 289.929931640625, 276.98486328125, 254.10009765625, 252.05908203125, 230.0397491455078, 185.51271057128906, 176.3238067626953, 173.22366333007812, 167.0611572265625, 1107.5928955078125, 1306.1368408203125, 1327.0338134765625, 1563.5360107421875, 992.207763671875, 828.8831176757812, 1256.4326171875, 801.7061767578125, 2025.6539306640625, 2866.602783203125, 3864.48583984375, 3194.772705078125, 741.0645141601562, 5989.6611328125, 1562.5806884765625, 4626.22021484375, 1499.13427734375, 762.02734375, 741.3904418945312, 697.8182373046875, 670.6337280273438, 608.0868530273438, 605.8690795898438, 564.3235473632812, 547.0969848632812, 419.765625, 381.0697021484375, 378.0458068847656, 363.996826171875, 359.4501647949219, 358.6611022949219, 356.19171142578125, 339.5423278808594, 323.81622314453125, 309.7292785644531, 305.94891357421875, 298.55670166015625, 292.50579833984375, 245.50515747070312, 244.1765594482422, 232.3392333984375, 226.44898986816406, 210.93545532226562, 203.21182250976562, 202.2334747314453, 197.98309326171875, 733.1377563476562, 526.9741821289062, 325.3006896972656, 955.0299072265625, 899.8436889648438, 1529.44775390625, 1188.40673828125, 2091.027587890625, 940.0977172851562, 1037.6011962890625, 7509.93896484375, 406.1483459472656, 1690.990966796875, 580.5335693359375, 4625.900390625, 2466.318115234375, 2355.712158203125, 1242.7786865234375, 1160.0728759765625, 1100.954833984375, 1036.6507568359375, 762.7514038085938, 672.0684204101562, 648.0716552734375, 570.4697875976562, 445.8670959472656, 647.259765625, 376.88348388671875, 219.00485229492188, 213.16505432128906, 179.69534301757812, 1064.4024658203125, 162.060791015625, 137.40960693359375, 103.09024810791016, 101.74198913574219, 74.12753295898438, 62.49745178222656, 52.04999542236328, 50.8314208984375, 50.803043365478516, 48.62253189086914, 35.335575103759766, 31.49631118774414, 29.682050704956055, 1372.1163330078125, 2698.85693359375, 515.2766723632812, 1594.2352294921875, 2108.153076171875, 683.1032104492188, 907.9548950195312, 2139.49755859375, 1587.9141845703125, 744.63037109375, 1747.3592529296875, 1781.9810791015625, 2393.318603515625, 1925.728515625, 2790.598876953125, 889.1792602539062, 3194.772705078125, 2499.21630859375, 1975.74658203125, 1804.620849609375, 1371.4970703125, 1273.8204345703125, 598.6778564453125, 584.0092163085938, 575.9773559570312, 553.5757446289062, 507.1348876953125, 474.2734680175781, 462.6790771484375, 355.5409851074219, 296.38226318359375, 239.78164672851562, 225.24053955078125, 222.8539276123047, 220.30116271972656, 193.45034790039062, 188.30479431152344, 186.18243408203125, 176.07888793945312, 173.417724609375, 172.79183959960938, 167.14634704589844, 158.42938232421875, 157.5642547607422, 150.3362274169922, 112.98812866210938, 111.88632202148438, 110.06525421142578, 302.0997314453125, 4625.900390625, 283.4602966308594, 1220.098388671875, 2866.602783203125, 437.4452209472656, 2173.53369140625, 480.90728759765625, 1604.59228515625, 3679.8876953125, 3556.119873046875, 992.81494140625, 959.7537231445312, 748.0996704101562, 665.250732421875, 657.4266357421875, 581.0713500976562, 525.9844360351562, 509.1551818847656, 447.4173583984375, 445.5032653808594, 438.76397705078125, 369.87847900390625, 351.3970031738281, 322.577392578125, 320.8587341308594, 282.7770690917969, 260.1690673828125, 248.54396057128906, 239.2000274658203, 238.87261962890625, 234.16757202148438, 224.9921875, 221.99574279785156, 214.71742248535156, 196.77471923828125, 196.55508422851562, 194.79066467285156, 178.3275909423828, 171.73939514160156, 170.2294464111328, 728.3333740234375, 543.6697387695312, 1888.88623046875, 961.9549560546875, 512.4829711914062, 907.8128662109375, 1059.74609375, 2467.0, 1363.0126953125, 1305.4556884765625, 700.430419921875, 642.4181518554688, 594.60693359375, 466.4327392578125, 432.09967041015625, 421.1649169921875, 400.9295654296875, 366.40350341796875, 295.377685546875, 294.4452819824219, 270.29486083984375, 235.24075317382812, 229.65005493164062, 224.2464599609375, 191.25425720214844, 180.35508728027344, 174.13409423828125, 152.74581909179688, 149.4403076171875, 134.6529998779297, 133.878173828125, 132.68856811523438, 131.91860961914062, 129.9673309326172, 128.69386291503906, 128.49253845214844, 124.416748046875, 1497.148193359375, 362.5516662597656, 638.8566284179688, 2091.027587890625, 576.5043334960938, 384.3608093261719, 612.0256958007812, 801.712158203125, 3466.610595703125, 5989.6611328125, 1426.72412109375, 1023.5084838867188, 926.7698974609375, 704.135986328125, 485.2236328125, 427.0819396972656, 402.47027587890625, 394.74639892578125, 321.3736267089844, 301.16259765625, 257.5143127441406, 253.02732849121094, 243.23492431640625, 232.84100341796875, 197.67117309570312, 176.84910583496094, 168.68045043945312, 163.22193908691406, 157.253662109375, 149.64479064941406, 144.7793731689453, 139.55279541015625, 137.23440551757812, 118.65203094482422, 111.95010375976562, 95.149658203125, 92.15514373779297, 91.22111511230469, 87.90062713623047, 78.85852813720703, 219.82864379882812, 186.2391815185547, 724.3018188476562, 241.9925079345703, 961.9549560546875, 2551.018798828125, 1670.2056884765625, 456.9546813964844, 413.34564208984375, 305.5142517089844, 265.09588623046875, 235.0318603515625, 181.74720764160156, 170.8339385986328, 159.6778564453125, 151.2301025390625, 131.8650665283203, 122.8021240234375, 116.59579467773438, 114.87049102783203, 103.68226623535156, 88.35797882080078, 88.03954315185547, 84.95976257324219, 82.3164291381836, 75.11363220214844, 60.3996467590332, 58.92742156982422, 51.22727584838867, 49.78736877441406, 48.65432357788086, 47.311370849609375, 42.55024719238281, 39.064788818359375, 38.5543327331543, 307.8420715332031, 118.78495025634766, 298.8570251464844, 344.87548828125, 421.85174560546875, 476.1121826171875, 358.12994384765625, 371.3995361328125, 813.8131713867188, 261.6364440917969, 1562.5806884765625, 791.3096923828125, 741.0645141601562, 801.7061767578125, 1327.0338134765625, 1306.1368408203125, 1327.8958740234375, 1003.1944580078125, 695.972412109375, 602.3141479492188, 525.80126953125, 504.8846130371094, 424.80706787109375, 386.25732421875, 373.824462890625, 287.1546325683594, 284.1734619140625, 275.59429931640625, 264.3542175292969, 252.89776611328125, 191.40921020507812, 190.33892822265625, 189.45724487304688, 169.64190673828125, 141.5043487548828, 119.41706848144531, 115.7343521118164, 112.30868530273438, 110.89952850341797, 107.0286865234375, 104.97683715820312, 98.84013366699219, 63.42110061645508, 60.149654388427734, 43.491031646728516, 35.426578521728516, 271.0984802246094, 240.5811004638672, 458.49774169921875, 612.0256958007812, 306.59295654296875, 813.8131713867188, 2717.31494140625, 2300.49169921875, 506.7580261230469, 443.1521301269531, 278.13970947265625, 258.8675842285156, 233.30694580078125, 214.90853881835938, 189.19033813476562, 168.4474639892578, 152.0220184326172, 144.61093139648438, 129.40589904785156, 124.5207290649414, 110.88542938232422, 82.850341796875, 70.56570434570312, 59.1401252746582, 51.66743850708008, 40.528099060058594, 18.009136199951172, 461.12835693359375, 14.434419631958008, 587.3681640625, 1.2388874292373657, 1.2388452291488647, 1.2388418912887573, 1.238840103149414, 1.238837480545044, 1.2388367652893066, 2273.124267578125, 1062.1463623046875, 541.9879760742188, 413.1879577636719, 405.0498962402344, 367.87213134765625, 355.0406494140625, 344.6599426269531, 336.9617004394531, 252.39266967773438, 252.20399475097656, 243.0014190673828, 240.98272705078125, 212.2532958984375, 207.37725830078125, 203.3511199951172, 190.36492919921875, 187.7334747314453, 185.59519958496094, 184.74981689453125, 173.423583984375, 172.797119140625, 156.6769561767578, 156.37428283691406, 155.74993896484375, 132.95547485351562, 121.34475708007812, 116.8812255859375, 116.77739715576172, 107.82479858398438, 102.163330078125, 254.91281127929688, 233.43397521972656, 528.8510131835938, 469.0960388183594, 435.61163330078125, 365.7444763183594, 314.48956298828125, 298.1353759765625, 261.111572265625, 254.71646118164062, 227.45477294921875, 182.3277587890625, 175.800048828125, 170.4004669189453, 150.9392852783203, 131.5753631591797, 130.01455688476562, 126.88827514648438, 99.41558837890625, 97.31172943115234, 90.79644012451172, 83.41255950927734, 83.05109405517578, 73.74732208251953, 71.12635803222656, 70.4980239868164, 63.22786331176758, 60.37308120727539, 57.02778244018555, 53.93465042114258, 53.58866882324219, 50.70814514160156, 724.3018188476562, 147.21812438964844, 481.0220031738281, 686.2879638671875, 422.574462890625, 369.1820373535156, 325.7654724121094, 314.8992004394531, 297.87530517578125, 292.553466796875, 217.41012573242188, 204.33551025390625, 197.15769958496094, 186.6765899658203, 179.3881378173828, 159.0004425048828, 142.57742309570312, 132.38221740722656, 131.4859619140625, 119.7266616821289, 110.20587158203125, 107.59673309326172, 106.58807373046875, 96.70124816894531, 88.86421203613281, 87.53950500488281, 83.42575073242188, 80.20764923095703, 67.30347442626953, 63.33448028564453, 62.33756637573242, 60.51683807373047, 53.80522537231445, 261.6364440917969, 379.7587585449219, 623.662109375, 503.8564453125, 408.6690673828125, 380.21405029296875, 348.9593811035156, 322.5281677246094, 317.15264892578125, 288.5487976074219, 242.8667755126953, 224.45761108398438, 157.25015258789062, 156.0902099609375, 149.991943359375, 146.55978393554688, 124.70109558105469, 115.72660827636719, 107.38388061523438, 106.34086608886719, 104.62970733642578, 88.42843627929688, 82.78685760498047, 80.91007232666016, 78.76679992675781, 78.07454681396484, 67.88590240478516, 66.29581451416016, 57.51728439331055, 55.06236267089844, 48.405216217041016, 47.22239303588867, 44.244483947753906, 459.5348205566406, 592.0438232421875, 517.8184204101562, 354.2901916503906, 348.0731506347656, 246.6256866455078, 235.7647247314453, 222.23776245117188, 221.96295166015625, 157.890625, 155.99923706054688, 145.17955017089844, 144.71847534179688, 119.24864196777344, 111.58125305175781, 104.12596893310547, 88.07906341552734, 84.22120666503906, 76.38697814941406, 74.04329681396484, 67.27104187011719, 63.515899658203125, 61.46284866333008, 58.56802749633789, 52.28191375732422, 50.68171310424805, 49.594608306884766, 49.42605972290039, 45.738983154296875, 34.26456832885742, 34.124053955078125, 453.25811767578125, 339.7292175292969, 337.60693359375, 224.47866821289062, 190.43759155273438, 133.67401123046875, 125.52179718017578, 115.35859680175781, 109.42417907714844, 105.38057708740234, 99.72471618652344, 77.64907836914062, 77.51810455322266, 71.22607421875, 57.49225616455078, 55.46256637573242, 46.83334732055664, 41.38188171386719, 39.30813980102539, 31.04918670654297, 30.707897186279297, 28.50054168701172, 20.064361572265625, 19.68160629272461, 19.051998138427734, 9.665833473205566, 7.1248626708984375, 1.6960301399230957, 213.4890899658203, 461.12835693359375, 134.0340576171875, 56.452552795410156, 34.14455032348633, 17.944137573242188, 12.485623359680176, 1.3857051134109497, 1.2389659881591797, 1.238840937614441, 1.2388410568237305, 1.23884117603302, 1.2388408184051514, 1.2388464212417603, 1.2389302253723145, 1.2388417720794678, 1.2388265132904053, 1.23883855342865, 1.2388335466384888, 1.238825798034668, 1.2388267517089844, 1.2388471364974976, 1.2388263940811157, 1.2388286590576172, 1.2388291358947754, 1.2388402223587036, 1.2388343811035156, 1.2388355731964111, 1.2388274669647217, 1.2388256788253784, 1.2388248443603516, 1.2388248443603516, 1.2388367652893066, 1.2388595342636108, 1.2388309240341187, 1.2388509511947632, 1.2388451099395752, 1.238852620124817, 1.2388570308685303, 1.2389103174209595, 1.2388640642166138, 1.2389392852783203, 1.2388687133789062, 1.2389857769012451], \"Category\": [\"Default\", \"Default\", \"Default\", \"Default\", \"Default\", \"Default\", \"Default\", \"Default\", \"Default\", \"Default\", \"Default\", \"Default\", \"Default\", \"Default\", \"Default\", \"Default\", \"Default\", \"Default\", \"Default\", \"Default\", \"Default\", \"Default\", \"Default\", \"Default\", \"Default\", \"Default\", \"Default\", \"Default\", \"Default\", \"Default\", \"Topic1\", \"Topic1\", \"Topic1\", \"Topic1\", \"Topic1\", \"Topic1\", \"Topic1\", \"Topic1\", \"Topic1\", \"Topic1\", \"Topic1\", \"Topic1\", \"Topic1\", \"Topic1\", \"Topic1\", \"Topic1\", \"Topic1\", \"Topic1\", \"Topic1\", \"Topic1\", \"Topic1\", \"Topic1\", \"Topic1\", \"Topic1\", \"Topic1\", \"Topic1\", \"Topic1\", \"Topic1\", \"Topic1\", \"Topic1\", \"Topic1\", \"Topic1\", \"Topic1\", \"Topic1\", \"Topic1\", \"Topic1\", \"Topic1\", \"Topic1\", \"Topic1\", \"Topic1\", \"Topic1\", \"Topic1\", \"Topic1\", \"Topic1\", \"Topic1\", \"Topic1\", \"Topic1\", \"Topic1\", \"Topic1\", \"Topic1\", \"Topic1\", \"Topic1\", \"Topic1\", \"Topic1\", \"Topic2\", \"Topic2\", \"Topic2\", \"Topic2\", \"Topic2\", \"Topic2\", \"Topic2\", \"Topic2\", \"Topic2\", \"Topic2\", \"Topic2\", \"Topic2\", \"Topic2\", \"Topic2\", \"Topic2\", \"Topic2\", \"Topic2\", \"Topic2\", \"Topic2\", \"Topic2\", \"Topic2\", \"Topic2\", \"Topic2\", \"Topic2\", \"Topic2\", \"Topic2\", \"Topic2\", \"Topic2\", \"Topic2\", \"Topic2\", \"Topic2\", \"Topic2\", \"Topic2\", \"Topic2\", \"Topic2\", \"Topic2\", \"Topic2\", \"Topic2\", \"Topic2\", \"Topic2\", \"Topic2\", \"Topic2\", \"Topic2\", \"Topic2\", \"Topic2\", \"Topic2\", \"Topic2\", \"Topic2\", \"Topic2\", \"Topic2\", \"Topic2\", \"Topic2\", \"Topic2\", \"Topic2\", \"Topic2\", \"Topic2\", \"Topic2\", \"Topic2\", \"Topic2\", \"Topic2\", \"Topic2\", \"Topic2\", \"Topic3\", \"Topic3\", \"Topic3\", \"Topic3\", \"Topic3\", \"Topic3\", \"Topic3\", \"Topic3\", \"Topic3\", \"Topic3\", \"Topic3\", \"Topic3\", \"Topic3\", \"Topic3\", \"Topic3\", \"Topic3\", \"Topic3\", \"Topic3\", \"Topic3\", \"Topic3\", \"Topic3\", \"Topic3\", \"Topic3\", \"Topic3\", \"Topic3\", \"Topic3\", \"Topic3\", \"Topic3\", \"Topic3\", \"Topic3\", \"Topic3\", \"Topic3\", \"Topic3\", \"Topic3\", \"Topic3\", \"Topic3\", \"Topic3\", \"Topic3\", \"Topic3\", \"Topic3\", \"Topic3\", \"Topic3\", \"Topic3\", \"Topic3\", \"Topic3\", \"Topic3\", \"Topic3\", \"Topic3\", \"Topic3\", \"Topic3\", \"Topic3\", \"Topic3\", \"Topic3\", \"Topic3\", \"Topic4\", \"Topic4\", \"Topic4\", \"Topic4\", \"Topic4\", \"Topic4\", \"Topic4\", \"Topic4\", \"Topic4\", \"Topic4\", \"Topic4\", \"Topic4\", \"Topic4\", \"Topic4\", \"Topic4\", \"Topic4\", \"Topic4\", \"Topic4\", \"Topic4\", \"Topic4\", \"Topic4\", \"Topic4\", \"Topic4\", \"Topic4\", \"Topic4\", \"Topic4\", \"Topic4\", \"Topic4\", \"Topic4\", \"Topic4\", \"Topic4\", \"Topic4\", \"Topic4\", \"Topic4\", \"Topic4\", \"Topic4\", \"Topic4\", \"Topic4\", \"Topic4\", \"Topic4\", \"Topic4\", \"Topic4\", \"Topic4\", \"Topic4\", \"Topic4\", \"Topic4\", \"Topic5\", \"Topic5\", \"Topic5\", \"Topic5\", \"Topic5\", \"Topic5\", \"Topic5\", \"Topic5\", \"Topic5\", \"Topic5\", \"Topic5\", \"Topic5\", \"Topic5\", \"Topic5\", \"Topic5\", \"Topic5\", \"Topic5\", \"Topic5\", \"Topic5\", \"Topic5\", \"Topic5\", \"Topic5\", \"Topic5\", \"Topic5\", \"Topic5\", \"Topic5\", \"Topic5\", \"Topic5\", \"Topic5\", \"Topic5\", \"Topic5\", \"Topic5\", \"Topic5\", \"Topic5\", \"Topic5\", \"Topic5\", \"Topic5\", \"Topic5\", \"Topic5\", \"Topic5\", \"Topic5\", \"Topic5\", \"Topic5\", \"Topic5\", \"Topic5\", \"Topic6\", \"Topic6\", \"Topic6\", \"Topic6\", \"Topic6\", \"Topic6\", \"Topic6\", \"Topic6\", \"Topic6\", \"Topic6\", \"Topic6\", \"Topic6\", \"Topic6\", \"Topic6\", \"Topic6\", \"Topic6\", \"Topic6\", \"Topic6\", \"Topic6\", \"Topic6\", \"Topic6\", \"Topic6\", \"Topic6\", \"Topic6\", \"Topic6\", \"Topic6\", \"Topic6\", \"Topic6\", \"Topic6\", \"Topic6\", \"Topic6\", \"Topic6\", \"Topic6\", \"Topic6\", \"Topic6\", \"Topic6\", \"Topic6\", \"Topic6\", \"Topic6\", \"Topic6\", \"Topic6\", \"Topic6\", \"Topic6\", \"Topic6\", \"Topic6\", \"Topic6\", \"Topic6\", \"Topic6\", \"Topic7\", \"Topic7\", \"Topic7\", \"Topic7\", \"Topic7\", \"Topic7\", \"Topic7\", \"Topic7\", \"Topic7\", \"Topic7\", \"Topic7\", \"Topic7\", \"Topic7\", \"Topic7\", \"Topic7\", \"Topic7\", \"Topic7\", \"Topic7\", \"Topic7\", \"Topic7\", \"Topic7\", \"Topic7\", \"Topic7\", \"Topic7\", \"Topic7\", \"Topic7\", \"Topic7\", \"Topic7\", \"Topic7\", \"Topic7\", \"Topic7\", \"Topic7\", \"Topic7\", \"Topic7\", \"Topic7\", \"Topic7\", \"Topic7\", \"Topic7\", \"Topic7\", \"Topic7\", \"Topic7\", \"Topic8\", \"Topic8\", \"Topic8\", \"Topic8\", \"Topic8\", \"Topic8\", \"Topic8\", \"Topic8\", \"Topic8\", \"Topic8\", \"Topic8\", \"Topic8\", \"Topic8\", \"Topic8\", \"Topic8\", \"Topic8\", \"Topic8\", \"Topic8\", \"Topic8\", \"Topic8\", \"Topic8\", \"Topic8\", \"Topic8\", \"Topic8\", \"Topic8\", \"Topic8\", \"Topic8\", \"Topic8\", \"Topic8\", \"Topic8\", \"Topic8\", \"Topic8\", \"Topic8\", \"Topic8\", \"Topic8\", \"Topic8\", \"Topic8\", \"Topic9\", \"Topic9\", \"Topic9\", \"Topic9\", \"Topic9\", \"Topic9\", \"Topic9\", \"Topic9\", \"Topic9\", \"Topic9\", \"Topic9\", \"Topic9\", \"Topic9\", \"Topic9\", \"Topic9\", \"Topic9\", \"Topic9\", \"Topic9\", \"Topic9\", \"Topic9\", \"Topic9\", \"Topic9\", \"Topic9\", \"Topic9\", \"Topic9\", \"Topic9\", \"Topic9\", \"Topic9\", \"Topic9\", \"Topic9\", \"Topic9\", \"Topic9\", \"Topic9\", \"Topic9\", \"Topic9\", \"Topic9\", \"Topic9\", \"Topic9\", \"Topic9\", \"Topic9\", \"Topic10\", \"Topic10\", \"Topic10\", \"Topic10\", \"Topic10\", \"Topic10\", \"Topic10\", \"Topic10\", \"Topic10\", \"Topic10\", \"Topic10\", \"Topic10\", \"Topic10\", \"Topic10\", \"Topic10\", \"Topic10\", \"Topic10\", \"Topic10\", \"Topic10\", \"Topic10\", \"Topic10\", \"Topic10\", \"Topic10\", \"Topic10\", \"Topic10\", \"Topic10\", \"Topic10\", \"Topic10\", \"Topic10\", \"Topic10\", \"Topic10\", \"Topic10\", \"Topic10\", \"Topic10\", \"Topic10\", \"Topic11\", \"Topic11\", \"Topic11\", \"Topic11\", \"Topic11\", \"Topic11\", \"Topic11\", \"Topic11\", \"Topic11\", \"Topic11\", \"Topic11\", \"Topic11\", \"Topic11\", \"Topic11\", \"Topic11\", \"Topic11\", \"Topic11\", \"Topic11\", \"Topic11\", \"Topic11\", \"Topic11\", \"Topic11\", \"Topic11\", \"Topic11\", \"Topic11\", \"Topic11\", \"Topic11\", \"Topic11\", \"Topic11\", \"Topic11\", \"Topic11\", \"Topic11\", \"Topic11\", \"Topic11\", \"Topic11\", \"Topic11\", \"Topic11\", \"Topic11\", \"Topic11\", \"Topic11\", \"Topic11\", \"Topic11\", \"Topic11\", \"Topic11\", \"Topic11\", \"Topic11\", \"Topic12\", \"Topic12\", \"Topic12\", \"Topic12\", \"Topic12\", \"Topic12\", \"Topic12\", \"Topic12\", \"Topic12\", \"Topic12\", \"Topic12\", \"Topic12\", \"Topic12\", \"Topic12\", \"Topic12\", \"Topic12\", \"Topic12\", \"Topic12\", \"Topic12\", \"Topic12\", \"Topic12\", \"Topic12\", \"Topic12\", \"Topic12\", \"Topic12\", \"Topic12\", \"Topic12\", \"Topic12\", \"Topic12\", \"Topic12\", \"Topic12\", \"Topic12\", \"Topic12\", \"Topic12\", \"Topic12\", \"Topic12\", \"Topic13\", \"Topic13\", \"Topic13\", \"Topic13\", \"Topic13\", \"Topic13\", \"Topic13\", \"Topic13\", \"Topic13\", \"Topic13\", \"Topic13\", \"Topic13\", \"Topic13\", \"Topic13\", \"Topic13\", \"Topic13\", \"Topic13\", \"Topic13\", \"Topic13\", \"Topic13\", \"Topic13\", \"Topic13\", \"Topic13\", \"Topic13\", \"Topic13\", \"Topic13\", \"Topic13\", \"Topic13\", \"Topic13\", \"Topic13\", \"Topic13\", \"Topic14\", \"Topic14\", \"Topic14\", \"Topic14\", \"Topic14\", \"Topic14\", \"Topic14\", \"Topic14\", \"Topic14\", \"Topic14\", \"Topic14\", \"Topic14\", \"Topic14\", \"Topic14\", \"Topic14\", \"Topic14\", \"Topic14\", \"Topic14\", \"Topic14\", \"Topic14\", \"Topic14\", \"Topic14\", \"Topic14\", \"Topic14\", \"Topic14\", \"Topic14\", \"Topic14\", \"Topic14\", \"Topic14\", \"Topic14\", \"Topic14\", \"Topic14\", \"Topic15\", \"Topic15\", \"Topic15\", \"Topic15\", \"Topic15\", \"Topic15\", \"Topic15\", \"Topic15\", \"Topic15\", \"Topic15\", \"Topic15\", \"Topic15\", \"Topic15\", \"Topic15\", \"Topic15\", \"Topic15\", \"Topic15\", \"Topic15\", \"Topic15\", \"Topic15\", \"Topic15\", \"Topic15\", \"Topic15\", \"Topic15\", \"Topic15\", \"Topic15\", \"Topic15\", \"Topic15\", \"Topic15\", \"Topic15\", \"Topic15\", \"Topic15\", \"Topic15\", \"Topic16\", \"Topic16\", \"Topic16\", \"Topic16\", \"Topic16\", \"Topic16\", \"Topic16\", \"Topic16\", \"Topic16\", \"Topic16\", \"Topic16\", \"Topic16\", \"Topic16\", \"Topic16\", \"Topic16\", \"Topic16\", \"Topic16\", \"Topic16\", \"Topic16\", \"Topic16\", \"Topic16\", \"Topic16\", \"Topic16\", \"Topic16\", \"Topic16\", \"Topic16\", \"Topic16\", \"Topic16\", \"Topic16\", \"Topic16\", \"Topic16\", \"Topic16\", \"Topic16\", \"Topic17\", \"Topic17\", \"Topic17\", \"Topic17\", \"Topic17\", \"Topic17\", \"Topic17\", \"Topic17\", \"Topic17\", \"Topic17\", \"Topic17\", \"Topic17\", \"Topic17\", \"Topic17\", \"Topic17\", \"Topic17\", \"Topic17\", \"Topic17\", \"Topic17\", \"Topic17\", \"Topic17\", \"Topic17\", \"Topic17\", \"Topic17\", \"Topic17\", \"Topic17\", \"Topic17\", \"Topic17\", \"Topic17\", \"Topic17\", \"Topic17\", \"Topic18\", \"Topic18\", \"Topic18\", \"Topic18\", \"Topic18\", \"Topic18\", \"Topic18\", \"Topic18\", \"Topic18\", \"Topic18\", \"Topic18\", \"Topic18\", \"Topic18\", \"Topic18\", \"Topic18\", \"Topic18\", \"Topic18\", \"Topic18\", \"Topic18\", \"Topic18\", \"Topic18\", \"Topic18\", \"Topic18\", \"Topic18\", \"Topic18\", \"Topic18\", \"Topic18\", \"Topic18\", \"Topic18\", \"Topic18\", \"Topic19\", \"Topic19\", \"Topic19\", \"Topic19\", \"Topic19\", \"Topic19\", \"Topic19\", \"Topic19\", \"Topic19\", \"Topic19\", \"Topic19\", \"Topic19\", \"Topic19\", \"Topic19\", \"Topic19\", \"Topic19\", \"Topic19\", \"Topic19\", \"Topic19\", \"Topic19\", \"Topic19\", \"Topic19\", \"Topic19\", \"Topic19\", \"Topic19\", \"Topic19\", \"Topic19\", \"Topic19\", \"Topic19\", \"Topic19\", \"Topic20\", \"Topic20\", \"Topic20\", \"Topic20\", \"Topic20\", \"Topic20\", \"Topic20\", \"Topic20\", \"Topic20\", \"Topic20\", \"Topic20\", \"Topic20\", \"Topic20\", \"Topic20\", \"Topic20\", \"Topic20\", \"Topic20\", \"Topic20\", \"Topic20\", \"Topic20\", \"Topic20\", \"Topic20\", \"Topic20\", \"Topic20\", \"Topic20\", \"Topic20\", \"Topic20\", \"Topic20\", \"Topic20\", \"Topic20\", \"Topic20\", \"Topic20\", \"Topic20\", \"Topic20\", \"Topic20\", \"Topic20\", \"Topic20\", \"Topic20\", \"Topic20\", \"Topic20\", \"Topic20\", \"Topic20\"], \"logprob\": [30.0, 29.0, 28.0, 27.0, 26.0, 25.0, 24.0, 23.0, 22.0, 21.0, 20.0, 19.0, 18.0, 17.0, 16.0, 15.0, 14.0, 13.0, 12.0, 11.0, 10.0, 9.0, 8.0, 7.0, 6.0, 5.0, 4.0, 3.0, 2.0, 1.0, -3.410099983215332, -3.8529000282287598, -3.9839999675750732, -3.9951000213623047, -4.502099990844727, -4.655600070953369, -4.669099807739258, -4.914599895477295, -4.973599910736084, -5.053400039672852, -5.112400054931641, -5.253300189971924, -5.3069000244140625, -5.325200080871582, -5.357999801635742, -5.375400066375732, -5.65339994430542, -5.767199993133545, -5.769499778747559, -5.774700164794922, -5.817299842834473, -5.823400020599365, -5.842100143432617, -5.919000148773193, -6.088600158691406, -6.132999897003174, -6.1697001457214355, -6.180500030517578, -6.1844000816345215, -6.2058000564575195, -4.046299934387207, -3.248699903488159, -5.510900020599365, -4.403900146484375, -3.283099889755249, -4.222799777984619, -4.44290018081665, -3.9212000370025635, -4.754799842834473, -5.071000099182129, -5.1631999015808105, -4.732399940490723, -4.692500114440918, -4.595600128173828, -4.178100109100342, -4.398799896240234, -4.359300136566162, -4.728300094604492, -4.68310022354126, -4.297399997711182, -4.746699810028076, -4.973400115966797, -4.571199893951416, -4.932400226593018, -4.303100109100342, -4.806399822235107, -5.010200023651123, -5.0218000411987305, -5.055500030517578, -5.142300128936768, -5.1819000244140625, -5.380000114440918, -5.4105000495910645, -5.455399990081787, -5.494800090789795, -5.533699989318848, -5.572400093078613, -5.641600131988525, -5.754300117492676, -5.792200088500977, -5.7957000732421875, -5.866199970245361, -5.8730998039245605, -5.902400016784668, -5.912799835205078, -5.928500175476074, -5.928800106048584, -5.946899890899658, -5.960599899291992, -6.002099990844727, -6.0100998878479, -6.012700080871582, -6.048500061035156, -6.048999786376953, -4.703199863433838, -5.181600093841553, -5.439499855041504, -5.055699825286865, -5.419600009918213, -5.337600231170654, -4.317800045013428, -5.498000144958496, -5.515699863433838, -5.232600212097168, -5.148799896240234, -5.201600074768066, -4.991099834442139, -4.111999988555908, -3.8907999992370605, -5.395400047302246, -4.927999973297119, -4.039899826049805, -4.918300151824951, -5.289999961853027, -4.9475998878479, -5.128300189971924, -5.029900074005127, -4.302499771118164, -4.95419979095459, -4.7733001708984375, -4.812900066375732, -5.109600067138672, -5.188600063323975, -5.029699802398682, -5.124599933624268, -5.092899799346924, -4.026100158691406, -4.1656999588012695, -4.440800189971924, -4.495500087738037, -4.650599956512451, -4.679200172424316, -4.735899925231934, -4.752200126647949, -4.8572998046875, -4.987299919128418, -5.14870023727417, -5.149600028991699, -5.197800159454346, -5.247900009155273, -5.264699935913086, -5.347599983215332, -5.366399765014648, -5.375999927520752, -5.385200023651123, -5.539700031280518, -5.569699764251709, -5.594799995422363, -5.620800018310547, -5.653200149536133, -5.662300109863281, -5.672999858856201, -5.7754998207092285, -5.789999961853027, -5.7972002029418945, -5.9070000648498535, -4.0329999923706055, -5.269599914550781, -4.72599983215332, -5.018400192260742, -4.450099945068359, -3.5085999965667725, -5.197400093078613, -4.488100051879883, -5.144800186157227, -3.773400068283081, -5.04010009765625, -4.917600154876709, -4.49970006942749, -4.823200225830078, -4.257500171661377, -4.732600212097168, -4.718299865722656, -5.115300178527832, -4.843200206756592, -4.946499824523926, -4.684800148010254, -5.010000228881836, -5.077899932861328, -4.981100082397461, -3.2964000701904297, -3.390500068664551, -3.9388999938964844, -4.0040998458862305, -4.059599876403809, -4.114099979400635, -4.118800163269043, -4.135000228881836, -4.1483001708984375, -4.246099948883057, -4.246500015258789, -4.27810001373291, -4.327600002288818, -4.359899997711182, -4.432799816131592, -4.817200183868408, -4.839700222015381, -4.915200233459473, -4.948299884796143, -4.974899768829346, -5.054500102996826, -5.146100044250488, -5.191999912261963, -5.278600215911865, -5.2866997718811035, -5.378600120544434, -5.594900131225586, -5.646100044250488, -5.663899898529053, -5.700399875640869, -3.813499927520752, -3.736299991607666, -3.7253000736236572, -3.6092000007629395, -4.03439998626709, -4.232800006866455, -3.8958001136779785, -4.350800037384033, -3.6677000522613525, -3.4686999320983887, -3.5650999546051025, -3.7051000595092773, -4.557499885559082, -3.7411000728607178, -4.347599983215332, -3.9953999519348145, -3.454699993133545, -4.1321001052856445, -4.159599781036377, -4.220200061798096, -4.2600998878479, -4.358099937438965, -4.361800193786621, -4.433000087738037, -4.464000225067139, -4.729599952697754, -4.826600074768066, -4.83459997177124, -4.872600078582764, -4.885200023651123, -4.887400150299072, -4.8942999839782715, -4.942399978637695, -4.989999771118164, -5.034599781036377, -5.046899795532227, -5.071499824523926, -5.0920000076293945, -5.26800012588501, -5.273399829864502, -5.323400020599365, -5.3491997718811035, -5.420499801635742, -5.458000183105469, -5.462900161743164, -5.484300136566162, -4.181000232696533, -4.5152997970581055, -5.011099815368652, -4.023499965667725, -4.081500053405762, -3.7339000701904297, -3.958899974822998, -3.759500026702881, -4.3892998695373535, -4.419899940490723, -3.8153998851776123, -4.9492998123168945, -4.558899879455566, -4.851799964904785, -4.910999774932861, -2.7825000286102295, -2.828399896621704, -3.468400001525879, -3.5373001098632812, -3.5896999835968018, -3.649899959564209, -3.9570999145507812, -4.083899974822998, -4.120299816131592, -4.2480998039245605, -4.495100021362305, -4.122499942779541, -4.663700103759766, -5.208799839019775, -5.236000061035156, -5.407800197601318, -3.6291000843048096, -5.5117998123168945, -5.678100109100342, -5.968299865722656, -5.981599807739258, -6.302599906921387, -6.476200103759766, -6.663000106811523, -6.68720006942749, -6.68779993057251, -6.732699871063232, -7.061200141906738, -7.1803998947143555, -7.242099761962891, -3.4107000827789307, -2.776400089263916, -4.451099872589111, -3.3645999431610107, -3.1010000705718994, -4.207499980926514, -3.942199945449829, -3.154900074005127, -3.6545000076293945, -4.336999893188477, -3.6410000324249268, -4.04010009765625, -3.9832000732421875, -4.219799995422363, -4.148900032043457, -4.639999866485596, -4.414000034332275, -4.61359977722168, -2.5480000972747803, -2.6386001110076904, -2.913300037384033, -2.9872000217437744, -3.743299961090088, -3.768199920654297, -3.7820000648498535, -3.8217999935150146, -3.909600019454956, -3.976799964904785, -4.0015997886657715, -4.265699863433838, -4.448400020599365, -4.661200046539307, -4.724100112915039, -4.734799861907959, -4.746399879455566, -4.877099990844727, -4.904300212860107, -4.9156999588012695, -4.971799850463867, -4.987199783325195, -4.990799903869629, -5.024199962615967, -5.078199863433838, -5.083700180053711, -5.13100004196167, -5.4191999435424805, -5.429100036621094, -5.445700168609619, -4.582799911499023, -2.891700029373169, -4.799900054931641, -4.105999946594238, -3.800299882888794, -4.661499977111816, -4.047699928283691, -4.664000034332275, -4.440499782562256, -4.303800106048584, -4.6143999099731445, -3.207900047302246, -3.24180006980896, -3.491300106048584, -3.6089000701904297, -3.620699882507324, -3.7444000244140625, -3.8441998958587646, -3.876800060272217, -4.006400108337402, -4.010700225830078, -4.026000022888184, -4.197299957275391, -4.248700141906738, -4.33459997177124, -4.339900016784668, -4.466800212860107, -4.5503997802734375, -4.596399784088135, -4.634900093078613, -4.636199951171875, -4.656199932098389, -4.696400165557861, -4.70989990234375, -4.7434000968933105, -4.831200122833252, -4.832300186157227, -4.841400146484375, -4.930200099945068, -4.968100070953369, -4.9770002365112305, -3.527600049972534, -3.8540000915527344, -2.743799924850464, -3.3703999519348145, -4.086599826812744, -4.38700008392334, -4.431399822235107, -2.2702999114990234, -2.864000082015991, -2.9072000980377197, -3.530600070953369, -3.6171998977661133, -3.694700002670288, -3.937999963760376, -4.014699935913086, -4.04040002822876, -4.089799880981445, -4.180099964141846, -4.396299839019775, -4.399499893188477, -4.485499858856201, -4.625, -4.649199962615967, -4.673099994659424, -4.833199977874756, -4.892199993133545, -4.927599906921387, -5.059599876403809, -5.081600189208984, -5.186699867248535, -5.192500114440918, -5.201499938964844, -5.207399845123291, -5.222400188446045, -5.232399940490723, -5.23390007019043, -5.266499996185303, -3.0634000301361084, -4.441400051116943, -4.051499843597412, -3.1874001026153564, -4.2382001876831055, -4.732600212097168, -4.780200004577637, -4.741300106048584, -4.729700088500977, -4.984600067138672, -2.349100112915039, -2.6816000938415527, -2.7809998989105225, -3.0560998916625977, -3.4291999340057373, -3.5571999549865723, -3.6166999340057373, -3.636199951171875, -3.8424999713897705, -3.9077000617980957, -4.064899921417236, -4.082600116729736, -4.122200012207031, -4.166100025177002, -4.3308000564575195, -4.442800045013428, -4.4903998374938965, -4.523499965667725, -4.561100006103516, -4.611100196838379, -4.644400119781494, -4.68149995803833, -4.698299884796143, -4.845200061798096, -4.903900146484375, -5.068399906158447, -5.100800037384033, -5.111100196838379, -5.14870023727417, -5.258800029754639, -4.2600998878479, -4.717700004577637, -3.9686999320983887, -4.823999881744385, -4.845699787139893, -1.7059999704360962, -2.1298000812530518, -3.427799940109253, -3.52839994430542, -3.831700086593628, -3.9742000102996826, -4.095099925994873, -4.353700160980225, -4.416100025177002, -4.484099864959717, -4.538899898529053, -4.677000045776367, -4.748899936676025, -4.801300048828125, -4.816400051116943, -4.920000076293945, -5.081900119781494, -5.085599899291992, -5.121699810028076, -5.15369987487793, -5.246699810028076, -5.468599796295166, -5.493800163269043, -5.636899948120117, -5.666100025177002, -5.689700126647949, -5.718400001525879, -5.827300071716309, -5.915299892425537, -5.928899765014648, -3.8910000324249268, -4.860300064086914, -4.173999786376953, -4.216300010681152, -4.071100234985352, -4.15369987487793, -4.396599769592285, -4.469699859619141, -4.179900169372559, -4.742099761962891, -4.0329999923706055, -4.360199928283691, -4.390699863433838, -4.468699932098389, -4.679800033569336, -4.741399765014648, -2.3210999965667725, -2.601799964904785, -2.9679999351501465, -3.112799882888794, -3.2488999366760254, -3.289599895477295, -3.4626998901367188, -3.558199882507324, -3.5910000801086426, -3.8557000160217285, -3.8661999702453613, -3.8970000743865967, -3.938800096511841, -3.983299970626831, -4.263400077819824, -4.269000053405762, -4.27370023727417, -4.384900093078613, -4.567599773406982, -4.738900184631348, -4.770500183105469, -4.800899982452393, -4.813600063323975, -4.849599838256836, -4.869100093841553, -4.930099964141846, -5.380499839782715, -5.434500217437744, -5.76639986038208, -5.97790002822876, -4.087900161743164, -4.205699920654297, -3.6981000900268555, -3.49429988861084, -4.8130998611450195, -4.740300178527832, -1.5390000343322754, -1.7056000232696533, -3.2202000617980957, -3.3547000885009766, -3.822000026702881, -3.8940999507904053, -3.998500108718872, -4.081099987030029, -4.2093000411987305, -4.326200008392334, -4.429500102996826, -4.479899883270264, -4.591899871826172, -4.630799770355225, -4.747900009155273, -5.042900085449219, -5.2058000564575195, -5.385700225830078, -5.523600101470947, -5.77269983291626, -6.6209001541137695, -3.3803000450134277, -6.8592000007629395, -3.643699884414673, -11.837800025939941, -11.837900161743164, -11.837900161743164, -11.837900161743164, -11.837900161743164, -11.838000297546387, -7.21999979019165, -2.4674999713897705, -3.1412999629974365, -3.413300037384033, -3.433300018310547, -3.529900074005127, -3.565500020980835, -3.5952000617980957, -3.6178998947143555, -3.908099889755249, -3.908799886703491, -3.946199893951416, -3.9544999599456787, -4.082200050354004, -4.105500221252441, -4.125199794769287, -4.1915998458862305, -4.205599784851074, -4.217199802398682, -4.221799850463867, -4.285399913787842, -4.289100170135498, -4.387700080871582, -4.389699935913086, -4.393700122833252, -4.553199768066406, -4.645500183105469, -4.683300018310547, -4.684199810028076, -4.764800071716309, -4.819399833679199, -4.075699806213379, -4.43120002746582, -2.809299945831299, -2.929500102996826, -3.003700017929077, -3.1791000366210938, -3.3306000232696533, -3.384200096130371, -3.5172998905181885, -3.5422000885009766, -3.6559998989105225, -3.8784000873565674, -3.91510009765625, -3.946500062942505, -4.068699836730957, -4.207200050354004, -4.219200134277344, -4.243800163269043, -4.4903998374938965, -4.51200008392334, -4.582200050354004, -4.6682000160217285, -4.672599792480469, -4.7932000160217285, -4.829999923706055, -4.839000225067139, -4.94980001449585, -4.9969000816345215, -5.055099964141846, -5.112100124359131, -5.118599891662598, -5.17519998550415, -3.2604000568389893, -4.612100124359131, -5.013299942016602, -2.490600109100342, -2.976599931716919, -3.1120998859405518, -3.237600088119507, -3.271699905395508, -3.327500104904175, -3.345599889755249, -3.643899917602539, -3.706199884414673, -3.7421998977661133, -3.7971999645233154, -3.8371999263763428, -3.958699941635132, -4.068600177764893, -4.143499851226807, -4.150300025939941, -4.244900226593018, -4.32859992980957, -4.35290002822876, -4.362400054931641, -4.460899829864502, -4.546500205993652, -4.561699867248535, -4.610499858856201, -4.650400161743164, -4.828700065612793, -4.890600204467773, -4.906799793243408, -4.936999797821045, -5.05709981918335, -4.09250020980835, -4.797900199890137, -4.832200050354004, -2.7325000762939453, -2.9423999786376953, -3.0148000717163086, -3.1008999347686768, -3.1798999309539795, -3.1967999935150146, -3.2916998863220215, -3.4647998809814453, -3.5439999103546143, -3.902100086212158, -3.909600019454956, -3.9498000144958496, -3.973099946975708, -4.136000156402588, -4.21150016784668, -4.287099838256836, -4.296999931335449, -4.313399791717529, -4.483699798583984, -4.55049991607666, -4.573800086975098, -4.601099967956543, -4.610000133514404, -4.752200126647949, -4.776299953460693, -4.92110013961792, -4.965700149536133, -5.097499847412109, -5.122900009155273, -5.189799785614014, -3.267899990081787, -2.4460999965667725, -2.5803000926971436, -2.960900068283081, -2.9786999225616455, -3.3245999813079834, -3.3698999881744385, -3.42930006980896, -3.430500030517578, -3.7732999324798584, -3.785399913787842, -3.8578999042510986, -3.8610999584198, -4.056399822235107, -4.123600006103516, -4.19350004196167, -4.36299991607666, -4.408400058746338, -4.507500171661377, -4.539100170135498, -4.63670015335083, -4.695199966430664, -4.728700160980225, -4.777900218963623, -4.893899917602539, -4.9257001876831055, -4.947999954223633, -4.951399803161621, -5.030900001525879, -5.328700065612793, -5.333000183105469, -2.334399938583374, -2.6236000061035156, -2.6298999786376953, -3.039799928665161, -3.205199956893921, -3.561800003051758, -3.6252999305725098, -3.710599899291992, -3.7639999389648438, -3.8020999431610107, -3.8578999042510986, -4.111599922180176, -4.11329984664917, -4.1992998123168945, -4.417600154876709, -4.4542999267578125, -4.627500057220459, -4.754700183868408, -4.807700157165527, -5.0518999099731445, -5.063399791717529, -5.14109992980957, -5.510700225830078, -5.531199932098389, -5.565800189971924, -6.311600208282471, -6.6682000160217285, -9.138500213623047, -4.369200229644775, -5.073400020599365, -2.042799949645996, -2.9202001094818115, -3.4375, -4.1149001121521, -4.509900093078613, -8.724200248718262, -10.860199928283691, -10.860400199890137, -10.860400199890137, -10.860400199890137, -10.860400199890137, -10.860400199890137, -10.860400199890137, -10.86050033569336, -10.86050033569336, -10.86050033569336, -10.86050033569336, -10.86050033569336, -10.86050033569336, -10.86050033569336, -10.86050033569336, -10.86050033569336, -10.86050033569336, -10.86050033569336, -10.86050033569336, -10.86050033569336, -10.86050033569336, -10.86050033569336, -10.86050033569336, -10.86050033569336, -10.86050033569336, -10.86050033569336, -10.86050033569336, -10.86050033569336, -10.86050033569336, -10.86050033569336, -10.86050033569336, -10.86050033569336, -10.86050033569336, -10.86050033569336, -10.86050033569336, -10.86050033569336], \"loglift\": [30.0, 29.0, 28.0, 27.0, 26.0, 25.0, 24.0, 23.0, 22.0, 21.0, 20.0, 19.0, 18.0, 17.0, 16.0, 15.0, 14.0, 13.0, 12.0, 11.0, 10.0, 9.0, 8.0, 7.0, 6.0, 5.0, 4.0, 3.0, 2.0, 1.0, 1.0218000411987305, 1.0217000246047974, 1.0217000246047974, 1.0217000246047974, 1.0216000080108643, 1.0216000080108643, 1.0216000080108643, 1.0214999914169312, 1.0214999914169312, 1.021399974822998, 1.021399974822998, 1.021299958229065, 1.021299958229065, 1.021299958229065, 1.021299958229065, 1.021299958229065, 1.0211000442504883, 1.0210000276565552, 1.0210000276565552, 1.020900011062622, 1.020900011062622, 1.020900011062622, 1.020900011062622, 1.020799994468689, 1.0205999612808228, 1.0204999446868896, 1.0204999446868896, 1.0204999446868896, 1.0204999446868896, 1.020400047302246, 1.0118999481201172, 0.998199999332428, 1.017799973487854, 1.0056999921798706, 0.982200026512146, 0.9966999888420105, 0.9968000054359436, 0.9699000120162964, 0.982200026512146, 0.991599977016449, 0.9908000230789185, 0.9412999749183655, 0.9279999732971191, 0.9133999943733215, 0.8400999903678894, 0.8689000010490417, 0.830299973487854, 0.869700014591217, 0.8215000033378601, 0.664900004863739, 0.7932000160217285, 0.8959000110626221, 0.3091999888420105, 0.7258999943733215, 1.6051000356674194, 1.6049000024795532, 1.6047999858856201, 1.604699969291687, 1.604699969291687, 1.604599952697754, 1.604599952697754, 1.6044000387191772, 1.6044000387191772, 1.6043000221252441, 1.6043000221252441, 1.604200005531311, 1.604200005531311, 1.604099988937378, 1.6038999557495117, 1.6038000583648682, 1.6038000583648682, 1.603700041770935, 1.603700041770935, 1.603600025177002, 1.603600025177002, 1.603600025177002, 1.603600025177002, 1.603600025177002, 1.6035000085830688, 1.6035000085830688, 1.6033999919891357, 1.6033999919891357, 1.6033999919891357, 1.6033999919891357, 1.6016000509262085, 1.5967999696731567, 1.590499997138977, 1.5688999891281128, 1.5779999494552612, 1.5687999725341797, 1.4924999475479126, 1.5719000101089478, 1.5705000162124634, 1.5449999570846558, 1.5326000452041626, 1.5364999771118164, 1.5038000345230103, 1.3854999542236328, 1.3483999967575073, 1.5491000413894653, 1.434999942779541, 1.219099998474121, 1.410099983215332, 1.5096999406814575, 1.3847999572753906, 1.4285000562667847, 1.3768999576568604, 0.7390999794006348, 1.202299952507019, 0.7415000200271606, 0.7635999917984009, 1.0983999967575073, 1.2418999671936035, 0.8774999976158142, 0.9171000123023987, 0.633400022983551, 1.8323999643325806, 1.8323999643325806, 1.8322999477386475, 1.832200050354004, 1.8321000337600708, 1.8321000337600708, 1.8321000337600708, 1.8321000337600708, 1.8320000171661377, 1.8319000005722046, 1.8316999673843384, 1.8316999673843384, 1.8315999507904053, 1.8315999507904053, 1.8315000534057617, 1.8314000368118286, 1.8314000368118286, 1.8314000368118286, 1.8314000368118286, 1.8312000036239624, 1.8310999870300293, 1.8310999870300293, 1.8309999704360962, 1.8309999704360962, 1.830899953842163, 1.830899953842163, 1.8307000398635864, 1.8307000398635864, 1.8307000398635864, 1.830399990081787, 1.805999994277954, 1.8087999820709229, 1.756500005722046, 1.7726000547409058, 1.7065000534057617, 1.5044000148773193, 1.760200023651123, 1.545799970626831, 1.6576000452041626, 1.1069999933242798, 1.5958000421524048, 1.5038000345230103, 1.1855000257492065, 1.3898999691009521, 0.7840999960899353, 1.1198999881744385, 1.042199969291687, 1.5995999574661255, 0.9429000020027161, 1.0951999425888062, 0.2773999869823456, 0.6481000185012817, 1.2073999643325806, 0.03720000013709068, 3.1245999336242676, 3.124500036239624, 3.124000072479248, 3.1238999366760254, 3.1238999366760254, 3.123800039291382, 3.123800039291382, 3.123800039291382, 3.123699903488159, 3.1236000061035156, 3.1236000061035156, 3.123500108718872, 3.1233999729156494, 3.1233999729156494, 3.123199939727783, 3.122299909591675, 3.122299909591675, 3.121999979019165, 3.1219000816345215, 3.121799945831299, 3.121500015258789, 3.1212000846862793, 3.121000051498413, 3.1205999851226807, 3.1205999851226807, 3.1201000213623047, 3.1189000606536865, 3.1185998916625977, 3.1184000968933105, 3.1182000637054443, 3.1135001182556152, 3.0257999897003174, 3.020900011062622, 2.973099946975708, 3.0025999546051025, 2.984100103378296, 2.9052000045776367, 2.899399995803833, 2.655600070953369, 2.5074000358581543, 2.112299919128418, 2.162600040435791, 2.771399974822998, 1.4981000423431396, 2.235300064086914, 1.5020999908447266, 3.169600009918213, 3.1689000129699707, 3.168800115585327, 3.1686999797821045, 3.1686999797821045, 3.1684999465942383, 3.1684999465942383, 3.168299913406372, 3.168299913406372, 3.16759991645813, 3.1673998832702637, 3.16729998588562, 3.1672000885009766, 3.1672000885009766, 3.1672000885009766, 3.167099952697754, 3.1670000553131104, 3.166800022125244, 3.166599988937378, 3.166599988937378, 3.1665000915527344, 3.1663999557495117, 3.1656999588012695, 3.165600061416626, 3.1654000282287598, 3.165299892425537, 3.164900064468384, 3.1647000312805176, 3.164599895477295, 3.1644999980926514, 3.158600091934204, 3.154599905014038, 3.1410999298095703, 3.0517001152038574, 3.0532000064849854, 2.8703999519348145, 2.897700071334839, 2.5320000648498535, 2.7016000747680664, 2.5724000930786133, 1.19760000705719, 2.9809000492095947, 1.9450000524520874, 2.7211999893188477, 0.5864999890327454, 3.343899965286255, 3.343899965286255, 3.3434998989105225, 3.343400001525879, 3.3433001041412354, 3.3433001041412354, 3.342900037765503, 3.3427000045776367, 3.342600107192993, 3.342400074005127, 3.3417999744415283, 3.3417000770568848, 3.3413000106811523, 3.339099884033203, 3.338900089263916, 3.337899923324585, 3.3376998901367188, 3.3371999263763428, 3.335900068283081, 3.3329999446868896, 3.332900047302246, 3.3285999298095703, 3.3255999088287354, 3.3217999935150146, 3.321199893951416, 3.321199893951416, 3.3201000690460205, 3.3108999729156494, 3.3066999912261963, 3.30430006980896, 3.3022000789642334, 3.259999990463257, 3.2411000728607178, 3.198199987411499, 3.1823999881744385, 3.2028000354766846, 3.1835999488830566, 3.1136999130249023, 2.9121999740600586, 2.9870998859405518, 2.8301000595092773, 2.41129994392395, 2.17330002784729, 2.154099941253662, 1.8539999723434448, 2.5065999031066895, 1.4536999464035034, 1.4996999502182007, 3.800299882888794, 3.8001999855041504, 3.799999952316284, 3.799999952316284, 3.7988998889923096, 3.7988998889923096, 3.7988998889923096, 3.798799991607666, 3.7985999584198, 3.7983999252319336, 3.7983999252319336, 3.797600030899048, 3.7969000339508057, 3.7960000038146973, 3.7957000732421875, 3.795599937438965, 3.7955000400543213, 3.794800043106079, 3.794600009918213, 3.794600009918213, 3.7941999435424805, 3.794100046157837, 3.794100046157837, 3.793800115585327, 3.7934000492095947, 3.7934000492095947, 3.7929999828338623, 3.7904000282287598, 3.790299892425537, 3.7901999950408936, 3.6433000564575195, 2.605799913406372, 3.490000009536743, 2.724299907684326, 2.175800085067749, 3.194499969482422, 2.205199956893921, 3.0971999168395996, 2.1159000396728516, 1.4225000143051147, 1.1461000442504883, 3.8285000324249268, 3.8285000324249268, 3.8280999660491943, 3.827899932861328, 3.827899932861328, 3.827699899673462, 3.827500104904175, 3.827399969100952, 3.8271000385284424, 3.8271000385284424, 3.8269999027252197, 3.8264999389648438, 3.8264000415802, 3.8261001110076904, 3.8259999752044678, 3.825500011444092, 3.825200080871582, 3.825000047683716, 3.8248000144958496, 3.8248000144958496, 3.824700117111206, 3.82450008392334, 3.824399948120117, 3.824199914932251, 3.823699951171875, 3.823699951171875, 3.823699951171875, 3.8231000900268555, 3.8227999210357666, 3.8227999210357666, 3.8185999393463135, 3.784600019454956, 3.649399995803833, 3.697499990463257, 3.6110999584198, 2.739000082015991, 2.539799928665161, 3.8559000492095947, 3.8554999828338623, 3.8554000854492188, 3.8547000885009766, 3.8545000553131104, 3.8543999195098877, 3.853800058364868, 3.853600025177002, 3.8534998893737793, 3.8533999919891357, 3.853100061416626, 3.852400064468384, 3.852299928665161, 3.8519999980926514, 3.851300001144409, 3.8512001037597656, 3.851099967956543, 3.8501999378204346, 3.8498001098632812, 3.849600076675415, 3.848599910736084, 3.848400115966797, 3.847599983215332, 3.8475000858306885, 3.847399950027466, 3.847399950027466, 3.8473000526428223, 3.8471999168395996, 3.847100019454956, 3.8468000888824463, 3.5622000694274902, 3.602400064468384, 3.425800085067749, 3.1041998863220215, 3.3417999744415283, 3.2527999877929688, 2.740000009536743, 2.5088999271392822, 1.0563000440597534, 0.25459998846054077, 4.324699878692627, 4.324399948120117, 4.3242998123168945, 4.32390022277832, 4.3231000900268555, 4.322800159454346, 4.3225998878479, 4.322500228881836, 4.321899890899658, 4.321599960327148, 4.321000099182129, 4.320899963378906, 4.320700168609619, 4.320499897003174, 4.3196001052856445, 4.318900108337402, 4.31850004196167, 4.318299770355225, 4.317999839782715, 4.317599773406982, 4.317399978637695, 4.3171000480651855, 4.31689977645874, 4.3155999183654785, 4.315000057220459, 4.3130998611450195, 4.312699794769287, 4.3125, 4.311999797821045, 4.310500144958496, 4.283999919891357, 3.992300033569336, 3.3831000328063965, 3.624000072479248, 2.2223000526428223, 4.38670015335083, 4.38640022277832, 4.3846001625061035, 4.384300231933594, 4.383299827575684, 4.382699966430664, 4.3821001052856445, 4.3805999755859375, 4.380199909210205, 4.379700183868408, 4.379300117492676, 4.3780999183654785, 4.377500057220459, 4.3769001960754395, 4.376800060272217, 4.375699996948242, 4.373700141906738, 4.373600006103516, 4.3730998039245605, 4.372700214385986, 4.371300220489502, 4.367400169372559, 4.3668999671936035, 4.363800048828125, 4.363100051879883, 4.362500190734863, 4.361800193786621, 4.359000205993652, 4.356400012969971, 4.355999946594238, 4.316400051116943, 4.2993998527526855, 4.062900066375732, 3.877500057220459, 3.821199893951416, 3.6175999641418457, 3.65939998626709, 3.549999952316284, 3.055299997329712, 3.6278998851776123, 2.5499000549316406, 2.9030001163482666, 2.938199996948242, 2.781599998474121, 2.0664000511169434, 2.020699977874756, 4.424499988555908, 4.424200057983398, 4.423699855804443, 4.423399925231934, 4.423099994659424, 4.422999858856201, 4.422599792480469, 4.422299861907959, 4.4222002029418945, 4.421199798583984, 4.421199798583984, 4.42110013961792, 4.420899868011475, 4.4207000732421875, 4.4191999435424805, 4.4191999435424805, 4.419099807739258, 4.418399810791016, 4.416999816894531, 4.415500164031982, 4.41510009765625, 4.41480016708374, 4.414700031280518, 4.414299964904785, 4.414100170135498, 4.413400173187256, 4.406599998474121, 4.405600070953369, 4.3979997634887695, 4.391600131988525, 4.246600151062012, 4.248199939727783, 4.110899925231934, 4.025899887084961, 3.3982999324798584, 2.4948999881744385, 4.490600109100342, 4.490499973297119, 4.488699913024902, 4.488399982452393, 4.486800193786621, 4.486499786376953, 4.486000061035156, 4.485599994659424, 4.484899997711182, 4.484099864959717, 4.483399868011475, 4.482999801635742, 4.482100009918213, 4.4816999435424805, 4.480599880218506, 4.4770002365112305, 4.474599838256836, 4.471399784088135, 4.468500137329102, 4.462299823760986, 4.425099849700928, 4.422999858856201, 4.408199787139893, 3.91759991645813, 1.8848999738693237, 1.8848999738693237, 1.8848999738693237, 1.8848999738693237, 1.8847999572753906, 1.8847999572753906, -1.0118999481201172, 4.501399993896484, 4.500400066375732, 4.49970006942749, 4.49970006942749, 4.4994001388549805, 4.499199867248535, 4.499100208282471, 4.499100208282471, 4.497900009155273, 4.497900009155273, 4.497700214385986, 4.497700214385986, 4.497000217437744, 4.4969000816345215, 4.496799945831299, 4.496399879455566, 4.496300220489502, 4.496200084686279, 4.496200084686279, 4.495800018310547, 4.495699882507324, 4.494999885559082, 4.494999885559082, 4.494999885559082, 4.49370002746582, 4.492800235748291, 4.492499828338623, 4.492499828338623, 4.491600036621094, 4.491000175476074, 4.320300102233887, 4.0528998374938965, 4.85699987411499, 4.8566999435424805, 4.856500148773193, 4.855999946594238, 4.855400085449219, 4.855199813842773, 4.854700088500977, 4.854599952697754, 4.854000091552734, 4.852700233459473, 4.852499961853027, 4.85230016708374, 4.851399898529053, 4.850200176239014, 4.850100040435791, 4.849899768829346, 4.847300052642822, 4.8470001220703125, 4.846099853515625, 4.84499979019165, 4.844900131225586, 4.843100070953369, 4.84250020980835, 4.842299938201904, 4.840400218963623, 4.8394999504089355, 4.8383002281188965, 4.837100028991699, 4.836999893188477, 4.835700035095215, 4.091300010681152, 4.333000183105469, 2.74780011177063, 4.91510009765625, 4.914000034332275, 4.913599967956543, 4.913099765777588, 4.913000106811523, 4.912799835205078, 4.912700176239014, 4.911300182342529, 4.910999774932861, 4.910799980163574, 4.910399913787842, 4.910200119018555, 4.909299850463867, 4.908400058746338, 4.907800197601318, 4.907700061798096, 4.906799793243408, 4.906000137329102, 4.905700206756592, 4.905600070953369, 4.9045000076293945, 4.90339994430542, 4.903200149536133, 4.902500152587891, 4.901899814605713, 4.89900016784668, 4.897900104522705, 4.897600173950195, 4.896999835968018, 4.894499778747559, 4.277500152587891, 3.19950008392334, 2.6691999435424805, 4.9822001457214355, 4.981599807739258, 4.981400012969971, 4.981100082397461, 4.980800151824951, 4.980800151824951, 4.980400085449219, 4.979599952697754, 4.9791998863220215, 4.9770002365112305, 4.976900100708008, 4.976600170135498, 4.976399898529053, 4.974999904632568, 4.974299907684326, 4.973499774932861, 4.973299980163574, 4.973199844360352, 4.971099853515625, 4.970099925994873, 4.969799995422363, 4.969399929046631, 4.969299793243408, 4.9670000076293945, 4.9664998054504395, 4.963799953460693, 4.962800025939941, 4.959799766540527, 4.959199905395508, 4.957499980926514, 4.53879976272583, 5.1072998046875, 5.10699987411499, 5.105899810791016, 5.105899810791016, 5.104499816894531, 5.104300022125244, 5.104000091552734, 5.103899955749512, 5.101799964904785, 5.1016998291015625, 5.101099967956543, 5.101099967956543, 5.099299907684326, 5.098599910736084, 5.097899913787842, 5.095799922943115, 5.095099925994873, 5.093699932098389, 5.093200206756592, 5.0914998054504395, 5.0904998779296875, 5.089799880981445, 5.088900089263916, 5.086400032043457, 5.085599899291992, 5.085100173950195, 5.085000038146973, 5.083099842071533, 5.074100017547607, 5.073999881744385, 5.486100196838379, 5.485199928283691, 5.485199928283691, 5.483399868011475, 5.482399940490723, 5.479700088500977, 5.479100227355957, 5.478300094604492, 5.477700233459473, 5.47730016708374, 5.4766998291015625, 5.473199844360352, 5.473199844360352, 5.471799850463867, 5.467700004577637, 5.466899871826172, 5.462900161743164, 5.459400177001953, 5.457799911499023, 5.44950008392334, 5.448999881744385, 5.445899963378906, 5.427299976348877, 5.42609977722168, 5.423999786376953, 5.356800079345703, 5.305200099945068, 4.270199775695801, 4.20419979095459, 2.7298998832702637, 6.995999813079834, 6.98330020904541, 6.968800067901611, 6.934800148010254, 6.902400016784668, 4.886499881744385, 2.862499952316284, 2.8624000549316406, 2.8624000549316406, 2.8624000549316406, 2.8624000549316406, 2.8624000549316406, 2.8624000549316406, 2.862299919128418, 2.862299919128418, 2.862299919128418, 2.862299919128418, 2.862299919128418, 2.862299919128418, 2.862299919128418, 2.862299919128418, 2.862299919128418, 2.862299919128418, 2.862299919128418, 2.862299919128418, 2.862299919128418, 2.862299919128418, 2.862299919128418, 2.862299919128418, 2.862299919128418, 2.862299919128418, 2.862299919128418, 2.862299919128418, 2.862299919128418, 2.862299919128418, 2.862299919128418, 2.862299919128418, 2.8622000217437744, 2.862299919128418, 2.8622000217437744, 2.8622000217437744, 2.8622000217437744]}, \"token.table\": {\"Topic\": [10, 19, 8, 11, 17, 8, 17, 2, 3, 6, 10, 1, 8, 1, 3, 9, 1, 2, 3, 2, 11, 10, 19, 10, 8, 15, 4, 4, 6, 8, 15, 3, 5, 5, 1, 19, 8, 5, 9, 10, 11, 6, 16, 2, 4, 6, 7, 10, 12, 13, 1, 1, 14, 2, 3, 14, 11, 1, 1, 2, 3, 5, 3, 3, 17, 10, 4, 7, 12, 10, 2, 4, 19, 9, 4, 2, 14, 7, 20, 10, 15, 16, 7, 7, 4, 18, 2, 5, 16, 12, 15, 1, 4, 11, 18, 11, 12, 1, 2, 3, 16, 14, 14, 19, 9, 11, 4, 1, 2, 3, 5, 9, 1, 2, 3, 18, 10, 16, 2, 1, 2, 15, 3, 5, 9, 3, 3, 17, 5, 5, 3, 3, 12, 11, 7, 12, 2, 6, 14, 4, 1, 3, 5, 2, 8, 15, 15, 15, 4, 6, 15, 3, 19, 6, 17, 16, 12, 17, 3, 10, 15, 2, 17, 4, 14, 11, 6, 6, 2, 11, 1, 3, 3, 5, 9, 1, 7, 7, 9, 14, 8, 18, 19, 5, 9, 5, 9, 11, 9, 14, 18, 2, 4, 10, 2, 11, 3, 5, 11, 4, 7, 8, 9, 15, 14, 3, 17, 15, 18, 2, 12, 2, 2, 9, 12, 19, 16, 1, 5, 16, 10, 18, 19, 16, 3, 16, 19, 4, 4, 9, 6, 4, 7, 16, 7, 17, 5, 7, 11, 4, 11, 11, 17, 17, 8, 6, 10, 6, 9, 11, 12, 18, 1, 3, 6, 7, 1, 3, 3, 4, 8, 3, 20, 17, 2, 8, 10, 9, 15, 12, 4, 3, 3, 12, 11, 11, 12, 3, 16, 7, 12, 6, 1, 4, 11, 12, 12, 8, 18, 12, 2, 1, 5, 6, 13, 2, 7, 5, 9, 1, 2, 3, 5, 7, 19, 7, 15, 3, 5, 6, 18, 18, 1, 2, 5, 11, 2, 7, 11, 15, 15, 1, 2, 4, 5, 5, 1, 7, 8, 1, 7, 5, 9, 4, 17, 15, 2, 3, 5, 17, 1, 6, 9, 11, 1, 1, 9, 16, 1, 14, 14, 2, 11, 18, 11, 7, 8, 19, 9, 1, 4, 14, 2, 2, 5, 1, 2, 3, 3, 14, 4, 9, 1, 6, 16, 8, 6, 17, 8, 14, 2, 4, 6, 2, 3, 18, 15, 1, 6, 2, 6, 5, 17, 11, 16, 15, 13, 12, 1, 10, 10, 10, 9, 16, 5, 8, 2, 3, 9, 17, 3, 9, 5, 6, 1, 3, 12, 5, 10, 2, 1, 2, 5, 7, 2, 13, 3, 9, 18, 19, 3, 9, 8, 1, 2, 6, 9, 1, 3, 1, 2, 11, 1, 1, 2, 4, 6, 18, 2, 6, 1, 1, 3, 5, 3, 1, 2, 6, 20, 1, 7, 1, 2, 11, 13, 11, 4, 6, 16, 6, 18, 2, 17, 1, 2, 3, 5, 3, 5, 8, 15, 4, 13, 1, 2, 3, 6, 6, 19, 17, 1, 3, 13, 1, 2, 3, 1, 15, 1, 3, 16, 16, 8, 4, 1, 2, 6, 12, 2, 11, 11, 11, 5, 5, 8, 13, 19, 4, 4, 11, 16, 19, 1, 4, 13, 8, 6, 12, 12, 14, 4, 13, 1, 2, 3, 5, 2, 3, 1, 3, 6, 5, 1, 2, 4, 6, 12, 1, 2, 4, 1, 2, 7, 2, 7, 18, 17, 2, 3, 10, 14, 2, 15, 10, 3, 10, 6, 5, 7, 3, 4, 14, 13, 13, 13, 2, 3, 1, 17, 17, 8, 11, 18, 9, 6, 8, 1, 2, 3, 13, 6, 13, 16, 1, 12, 8, 19, 1, 3, 5, 5, 7, 11, 12, 12, 3, 10, 18, 10, 16, 1, 7, 15, 7, 13, 7, 14, 13, 1, 2, 3, 7, 5, 11, 5, 1, 3, 6, 1, 2, 5, 11, 8, 17, 19, 1, 4, 11, 18, 18, 14, 9, 10, 1, 2, 4, 12, 2, 4, 12, 2, 4, 6, 15, 3, 5, 9, 18, 3, 2, 3, 12, 3, 5, 9, 8, 2, 5, 7, 11, 4, 2, 8, 1, 19, 1, 2, 3, 14, 2, 9, 6, 1, 3, 6, 5, 10, 15, 1, 11, 1, 3, 2, 17, 14, 18, 9, 10, 2, 3, 3, 1, 14, 2, 1, 5, 6, 18, 2, 6, 2, 3, 2, 4, 8, 12, 9, 2, 5, 10, 9, 11, 10, 11, 4, 1, 3, 9, 1, 5, 16, 5, 11, 20, 5, 15, 18, 15, 9, 3, 1, 2, 4, 7, 1, 2, 11, 4, 11, 13, 14, 1, 3, 5, 8, 15, 13, 2, 19, 10, 7, 4, 12, 8, 2, 13, 9, 9, 1, 2, 3, 2, 4, 9, 11, 1, 5, 6, 3, 4, 8, 6, 2, 2, 4, 16, 17, 8, 9, 16, 1, 5, 13, 8, 17, 2, 18, 2, 5, 14, 8, 14, 12, 13, 5, 5, 8, 7, 2, 5, 6, 2, 13, 3, 12, 9, 4, 11, 12, 11, 14, 16, 19, 7, 19, 2, 12, 14, 7, 2, 3, 5, 9, 3, 10, 16, 1, 2, 3, 5, 19, 10, 20, 7, 9, 6, 19, 18, 18, 2, 3, 4, 1, 18, 11, 11, 14, 2, 4, 8, 1, 3, 5, 9, 4, 10, 7, 2, 6, 1, 3, 16, 12, 3, 4, 9, 10, 15, 1, 4, 6, 1, 3, 1, 3, 13, 16, 7, 6, 1, 2, 3, 17, 17, 3, 10, 19, 5, 19, 7, 12, 7, 3, 16, 16, 18, 3, 11, 3, 17, 3, 1, 3, 4, 11, 5, 1, 2, 4, 17, 2, 15, 14, 12, 8, 11, 6, 7, 9, 1, 2, 4, 9, 2, 4, 6, 4, 19, 15, 2, 2, 11, 12, 2, 4, 4, 3, 4, 5, 5, 16, 10, 11, 17, 19, 1, 5, 14, 16, 1, 2, 3, 5, 9, 8, 14, 1, 1, 2, 3, 7, 8, 19, 2, 8, 15, 2, 7, 4, 19, 13, 5, 3, 5, 3, 1, 2, 4, 15, 1, 3, 5, 1, 3, 1, 1, 2, 5, 7, 7, 3], \"Freq\": [0.9890087246894836, 0.9469526410102844, 0.9992146492004395, 0.9951184391975403, 0.9869500994682312, 0.9960629343986511, 0.9718725681304932, 0.9986228942871094, 0.040812864899635315, 0.9583735466003418, 0.9879173636436462, 0.009610983543097973, 0.988558292388916, 0.16021445393562317, 0.8393324017524719, 0.9924865365028381, 0.22871698439121246, 0.679509162902832, 0.09162303805351257, 0.9987577795982361, 0.9846309423446655, 0.9866136908531189, 0.9473504424095154, 0.9957257509231567, 0.9955145716667175, 0.9954491257667542, 0.9974790215492249, 0.5656902194023132, 0.43298354744911194, 0.995013952255249, 0.9787508249282837, 0.999253511428833, 0.9972614645957947, 0.9974793791770935, 0.9998722672462463, 0.9869847893714905, 0.9972519874572754, 0.8879303336143494, 0.11099129170179367, 0.997478187084198, 0.9863134622573853, 0.9622030854225159, 0.9890580177307129, 0.33691996335983276, 0.013224896043539047, 0.6492794156074524, 0.9956657886505127, 0.9963468909263611, 0.9958705902099609, 0.9995160698890686, 0.9994483590126038, 0.9992326498031616, 0.9923505783081055, 0.8380141854286194, 0.16149231791496277, 0.9970689415931702, 0.995609700679779, 0.9998869299888611, 0.05695914849638939, 0.13363492488861084, 0.7923163771629333, 0.016795646399259567, 0.9986252784729004, 0.999689519405365, 0.9904953837394714, 0.9959398508071899, 0.9989060163497925, 0.15861395001411438, 0.8373340964317322, 0.9860766530036926, 0.37420013546943665, 0.6249833703041077, 0.9972242712974548, 0.9952094554901123, 0.9956706166267395, 0.9986781477928162, 0.994482159614563, 0.9930708408355713, 0.9922851324081421, 0.9994924664497375, 0.9857609272003174, 0.9967982172966003, 0.9953362345695496, 0.9912545680999756, 0.993648111820221, 0.9944304823875427, 0.9991098642349243, 0.9948520660400391, 0.9785431623458862, 0.9984760880470276, 0.9880269169807434, 0.42941781878471375, 0.41085878014564514, 0.15935176610946655, 0.9950353503227234, 0.9659984111785889, 0.9959790706634521, 0.43795540928840637, 0.48289060592651367, 0.07879941165447235, 0.9824135899543762, 0.9928299188613892, 0.9933557510375977, 0.9878762364387512, 0.9934872388839722, 0.9992781281471252, 0.9992199540138245, 0.2631867229938507, 0.2631867229938507, 0.0012473304523155093, 0.21204617619514465, 0.2594447433948517, 0.01899782381951809, 0.5025110244750977, 0.4782981276512146, 0.9818427562713623, 0.9910051226615906, 0.9946900010108948, 0.9987795948982239, 0.3044467866420746, 0.6951718330383301, 0.9841639995574951, 0.25826314091682434, 0.7407902479171753, 0.998884916305542, 0.9988505840301514, 0.9976419806480408, 0.9935060739517212, 0.997563898563385, 0.9968984723091125, 0.9996241927146912, 0.9989758729934692, 0.9923083186149597, 0.9596846103668213, 0.9938727021217346, 0.9918888211250305, 0.2994774580001831, 0.699675977230072, 0.9933586716651917, 0.9990209341049194, 0.8183083534240723, 0.18068526685237885, 0.0006530792452394962, 0.1951284408569336, 0.8039291501045227, 0.977256715297699, 0.9805803298950195, 0.9703543782234192, 0.8589504957199097, 0.14070670306682587, 0.9971871972084045, 0.9979260563850403, 0.8421214818954468, 0.9934543371200562, 0.9930155277252197, 0.9939306378364563, 0.9903213381767273, 0.9937213659286499, 0.144967183470726, 0.38934046030044556, 0.4638950228691101, 0.9990217685699463, 0.9972507357597351, 0.9947939515113831, 0.9974079728126526, 0.9950435757637024, 0.9991326928138733, 0.9927071332931519, 0.9914111495018005, 0.0077818771824240685, 0.983938455581665, 0.01583804376423359, 0.0911269411444664, 0.8890432715415955, 0.01889217086136341, 0.9984773993492126, 0.9909778237342834, 0.9973149299621582, 0.9946084022521973, 0.988917887210846, 0.9966587424278259, 0.9668181538581848, 0.9804161190986633, 0.40069082379341125, 0.598434329032898, 0.22065819799900055, 0.7750619649887085, 0.9918659925460815, 0.9925571084022522, 0.9956792593002319, 0.987748920917511, 0.9727072715759277, 0.026158461347222328, 0.9959660172462463, 0.06496837735176086, 0.9322962164878845, 0.23813395202159882, 0.7615237832069397, 0.9958887696266174, 0.9918457865715027, 0.7337888479232788, 0.11641842126846313, 0.1481688916683197, 0.9826706647872925, 0.9953869581222534, 0.997202455997467, 0.9933866858482361, 0.9921966195106506, 0.9838434457778931, 0.9984148740768433, 0.95973140001297, 0.9973379373550415, 0.9973539710044861, 0.3267836570739746, 0.669906497001648, 0.9874768853187561, 0.9789296388626099, 0.44911283254623413, 0.5503077507019043, 0.9927483201026917, 0.9981091618537903, 0.9935945868492126, 0.9827861785888672, 0.9806329011917114, 0.9991000890731812, 0.9971444606781006, 0.9447827935218811, 0.9982678890228271, 0.9984357357025146, 0.9951172471046448, 0.9984102249145508, 0.9988275766372681, 0.997762143611908, 0.9970614910125732, 0.9944923520088196, 0.9804540276527405, 0.9976454377174377, 0.9940937161445618, 0.9996006488800049, 0.901258111000061, 0.09796284139156342, 0.9635666608810425, 0.9807062149047852, 0.9959158301353455, 0.9920883178710938, 0.9897415637969971, 0.9925136566162109, 0.9993734359741211, 0.9979578256607056, 0.9979107975959778, 0.994877278804779, 0.9711475968360901, 0.9960154891014099, 0.003637305460870266, 0.9984076023101807, 0.9903216361999512, 0.693971574306488, 0.3058653175830841, 0.9995830655097961, 0.04230509325861931, 0.9564630389213562, 0.9991201758384705, 0.9742695093154907, 0.9946324825286865, 0.001039549708366394, 0.876340389251709, 0.1216273158788681, 0.9934419393539429, 0.9912282824516296, 0.9936548471450806, 0.9963117837905884, 0.9994785189628601, 0.639284074306488, 0.3587818741798401, 0.9894922375679016, 0.15795089304447174, 0.8396337032318115, 0.9993960857391357, 0.9962741136550903, 0.9982719421386719, 0.9906947612762451, 0.9983463883399963, 0.022939972579479218, 0.7016932964324951, 0.2347973734140396, 0.039132896810770035, 0.9657163619995117, 0.9927777051925659, 0.9934082627296448, 0.988133430480957, 0.9975785613059998, 0.1698886603116989, 0.8272839188575745, 0.9994655251502991, 0.991407036781311, 0.45262810587882996, 0.5463541150093079, 0.9986518025398254, 0.9961695075035095, 0.41930627822875977, 0.3782724142074585, 0.0766327753663063, 0.03288143873214722, 0.09266587346792221, 0.9924511313438416, 0.9911117553710938, 0.995742917060852, 0.3733654320240021, 0.6254668831825256, 0.997423529624939, 0.9678471684455872, 0.9761994481086731, 0.9989045858383179, 0.42442694306373596, 0.0893530398607254, 0.4830648899078369, 0.9977210760116577, 0.9991018176078796, 0.993468165397644, 0.9952635765075684, 0.9819775223731995, 0.990018367767334, 0.002647107932716608, 0.007105395197868347, 0.9966542720794678, 0.9936012625694275, 0.9998800754547119, 0.9983031153678894, 0.9991791844367981, 0.9751974940299988, 0.02471962757408619, 0.5279700756072998, 0.4715384840965271, 0.9984748363494873, 0.9943777918815613, 0.9979645013809204, 0.21543525159358978, 0.07616397738456726, 0.06745952367782593, 0.639777421951294, 0.9985751509666443, 0.9961304068565369, 0.9992570281028748, 0.9727429747581482, 0.9986305832862854, 0.9994070529937744, 0.9947255849838257, 0.9922618269920349, 0.9996412992477417, 0.9912115931510925, 0.9952260851860046, 0.9958333969116211, 0.0033921333961188793, 0.9918752312660217, 0.9851740598678589, 0.9988677501678467, 0.9955065250396729, 0.9662088751792908, 0.9883842468261719, 0.9752587676048279, 0.024483485147356987, 0.9951838254928589, 0.9981834888458252, 0.024592632427811623, 0.9714089632034302, 0.02899232879281044, 0.43583548069000244, 0.5351698398590088, 0.9977431893348694, 0.9958789348602295, 0.9924921989440918, 0.9953358769416809, 0.9987978339195251, 0.999075174331665, 0.9889363646507263, 0.9937880039215088, 0.9894243478775024, 0.9838464260101318, 0.9963469505310059, 0.9928135871887207, 0.6681099534034729, 0.021309323608875275, 0.3100297749042511, 0.998902440071106, 0.9971991777420044, 0.985909640789032, 0.9898664355278015, 0.00563696539029479, 0.993045449256897, 0.2056557685136795, 0.7941116690635681, 0.9955652356147766, 0.9983001947402954, 0.46629589796066284, 0.5274494290351868, 0.9961917400360107, 0.9439653158187866, 0.9981001615524292, 0.9986191987991333, 0.992027759552002, 0.9941195249557495, 0.9897540211677551, 0.9930365681648254, 0.9829099178314209, 0.9950344562530518, 0.9981198906898499, 0.20148353278636932, 0.7198952436447144, 0.07841521501541138, 0.9871127605438232, 0.9972593784332275, 0.9995946288108826, 0.9992433786392212, 0.9666300415992737, 0.9493107795715332, 0.05056547373533249, 0.9964500665664673, 0.9979948997497559, 0.994922935962677, 0.9994645714759827, 0.6818389892578125, 0.07545316964387894, 0.03956690430641174, 0.2028954029083252, 0.4341399669647217, 0.563530683517456, 0.9267515540122986, 0.07293610274791718, 0.9811056852340698, 0.9822061061859131, 0.450097918510437, 0.5463616251945496, 0.9949831366539001, 0.03229022026062012, 0.9666233658790588, 0.9980552792549133, 0.997234046459198, 0.057530537247657776, 0.9417669773101807, 0.649556040763855, 0.1225815862417221, 0.22620725631713867, 0.9993497133255005, 0.9610657095909119, 6.304137059487402e-05, 0.031709808856248856, 0.007060633972287178, 0.9967564344406128, 0.13548816740512848, 0.8637370467185974, 0.9993942379951477, 0.27616941928863525, 0.42992541193962097, 0.29391050338745117, 0.9969294667243958, 0.9225186109542847, 0.07554442435503006, 0.0015469848876819015, 0.9664792418479919, 0.6581436395645142, 0.3409561216831207, 0.9992610216140747, 0.9641169309616089, 0.03538043797016144, 0.9957724213600159, 0.9881923198699951, 0.9886304140090942, 0.010834305547177792, 0.9850344657897949, 0.9996976852416992, 0.9670597910881042, 0.9971986413002014, 0.9736203551292419, 0.6998129487037659, 0.08897965401411057, 0.21112099289894104, 0.9947859048843384, 0.02700003795325756, 0.13764725625514984, 0.8348835110664368, 0.9927177429199219, 0.9969158172607422, 0.9006250500679016, 0.26889464259147644, 0.20734357833862305, 0.5234447717666626, 0.99541175365448, 0.9836435914039612, 0.99273282289505, 0.9968069195747375, 0.022060733288526535, 0.9759247899055481, 0.9993515610694885, 0.229100301861763, 0.42038261890411377, 0.3503645360469818, 0.9994027614593506, 0.9873440265655518, 0.24912004172801971, 0.7503170371055603, 0.9934641122817993, 0.9849434494972229, 0.9985300302505493, 0.998939573764801, 0.3267788290977478, 0.0743979811668396, 0.598045289516449, 0.9915000796318054, 0.9986599683761597, 0.9924219846725464, 0.995866060256958, 0.9768269062042236, 0.9976546168327332, 0.9938691258430481, 0.9955901503562927, 0.9346638321876526, 0.0628892108798027, 0.9986817240715027, 0.7982974648475647, 0.20082169771194458, 0.9886987209320068, 0.966606616973877, 0.9987679719924927, 0.998416006565094, 0.9959023594856262, 0.9982587695121765, 0.9945344924926758, 0.9926376938819885, 0.9967448711395264, 0.9924604892730713, 0.9974199533462524, 0.9932771921157837, 0.9610627889633179, 0.03598148748278618, 0.002472010673955083, 0.9982126951217651, 0.3572588860988617, 0.6420047879219055, 0.5551145672798157, 0.14020667970180511, 0.3043004274368286, 0.9953685998916626, 0.4912590980529785, 0.43090441823005676, 0.07766572386026382, 0.9965087175369263, 0.0015449747443199158, 0.041377414017915726, 0.8931609988212585, 0.06531719863414764, 0.5216278433799744, 0.29228609800338745, 0.18571695685386658, 0.9642324447631836, 0.03536631166934967, 0.9963583946228027, 0.9920499324798584, 0.9086012840270996, 0.09062165021896362, 0.9891130328178406, 0.991791307926178, 0.999704897403717, 0.9963002800941467, 0.996139645576477, 0.036391980946063995, 0.9598385095596313, 0.9798271656036377, 0.9972336292266846, 0.9954173564910889, 0.13029581308364868, 0.8686387538909912, 0.9940952658653259, 0.9985041618347168, 0.9778121113777161, 0.9897364377975464, 0.8226380348205566, 0.17713014781475067, 0.9997034072875977, 0.9964310526847839, 0.9893573522567749, 0.39724481105804443, 0.6002166271209717, 0.998419463634491, 0.9948106408119202, 0.8680972456932068, 0.1302877813577652, 0.000879846338648349, 0.6022548079490662, 0.3924114406108856, 0.003959308378398418, 0.9760397672653198, 0.9622952938079834, 0.998123288154602, 0.9994350671768188, 0.9986028075218201, 0.9960244297981262, 0.9868991374969482, 0.1407468169927597, 0.7201123833656311, 0.1390157788991928, 0.9951815009117126, 0.10250868648290634, 0.16575872898101807, 0.7306470274925232, 0.9808867573738098, 0.9991363883018494, 0.9915131330490112, 0.998236894607544, 0.9985261559486389, 0.9851599931716919, 0.503215491771698, 0.49489787220954895, 0.9976634979248047, 0.9900722503662109, 0.9920149445533752, 0.9989084601402283, 0.998920738697052, 0.9891357421875, 0.3633173406124115, 0.11276335269212723, 0.4535842537879944, 0.07030133903026581, 0.9848679900169373, 0.0132833831012249, 0.9959656000137329, 0.681215763092041, 0.09316996484994888, 0.22539964318275452, 0.03282054886221886, 0.9031511545181274, 0.02637365460395813, 0.0369231179356575, 0.997624933719635, 0.9887520670890808, 0.9736296534538269, 0.9987884759902954, 0.9049587845802307, 0.09417083859443665, 0.9956616759300232, 0.9630939960479736, 0.9976292252540588, 0.997297465801239, 0.9951987266540527, 0.5584183931350708, 0.0781475231051445, 0.36304959654808044, 0.9942150712013245, 0.9978084564208984, 0.9967925548553467, 0.9978181719779968, 0.05298539623618126, 0.027789542451500893, 0.9189075231552124, 0.9865203499794006, 0.059481263160705566, 0.2880145311355591, 0.6495980024337769, 0.9891864657402039, 0.9989429116249084, 0.8434980511665344, 0.15616528689861298, 0.9893689155578613, 0.2317739874124527, 0.02204190567135811, 0.7454171776771545, 0.9981562495231628, 0.21540145576000214, 0.2234790027141571, 0.1238558366894722, 0.433495432138443, 0.9965646266937256, 0.6631322503089905, 0.3359723389148712, 0.9993037581443787, 0.8276575207710266, 0.34590771794319153, 0.1637049913406372, 0.4901900887489319, 0.9959414601325989, 0.9848341345787048, 0.014011868275702, 0.9841930270195007, 0.5537735819816589, 0.2876901924610138, 0.158049538731575, 0.2792108356952667, 0.714135468006134, 0.9983908534049988, 0.9995087385177612, 0.984007716178894, 0.026156356558203697, 0.9735639095306396, 0.998735249042511, 0.9709697365760803, 0.9951849579811096, 0.9895290732383728, 0.9934405088424683, 0.9946168065071106, 0.9978023171424866, 0.9989240765571594, 0.9983178377151489, 0.9991130232810974, 0.9914049506187439, 0.9981868863105774, 0.9695043563842773, 0.01708928495645523, 0.013337979093194008, 0.9754807353019714, 0.09509454667568207, 0.9024277925491333, 0.9293947219848633, 0.0692102462053299, 0.9983155131340027, 0.9957982897758484, 0.9966257214546204, 0.9903886914253235, 0.9903619885444641, 0.9454769492149353, 0.05421102046966553, 0.9974666833877563, 0.9950914978981018, 0.9837747812271118, 0.9888730645179749, 0.9967445135116577, 0.9964443445205688, 0.5281816124916077, 0.4107758700847626, 0.06086637079715729, 0.35756540298461914, 0.5355464220046997, 0.10582653433084488, 0.429060697555542, 0.5689202547073364, 0.8810132741928101, 0.993900716304779, 0.9860348701477051, 0.9969168901443481, 0.9937770366668701, 0.9928148984909058, 0.9990350604057312, 0.09453698992729187, 0.16918981075286865, 0.5389655232429504, 0.19674856960773468, 0.9996381998062134, 0.5334877371788025, 0.46417632699012756, 0.9991002082824707, 0.9722821116447449, 0.997400164604187, 0.9960929751396179, 0.4902923107147217, 0.48399457335472107, 0.025657542049884796, 0.40076586604118347, 0.5909598469734192, 0.9888602495193481, 0.7166642546653748, 0.27636072039604187, 0.9991692900657654, 0.9971535205841064, 0.9979831576347351, 0.9982478618621826, 0.9978299736976624, 0.9986506104469299, 0.9877873659133911, 0.9974550604820251, 0.9977924823760986, 0.858131468296051, 0.0005153942620381713, 0.14121802151203156, 0.1528136134147644, 0.8022714257240295, 0.028652550652623177, 0.015122179873287678, 0.10767719149589539, 0.041268348693847656, 0.8505074977874756, 0.9993532299995422, 0.9954801201820374, 0.9981284141540527, 0.9990148544311523, 0.9988841414451599, 0.8021425008773804, 0.19729717075824738, 0.9902749061584473, 0.9741141200065613, 0.9977312088012695, 0.9886128902435303, 0.9749352931976318, 0.3600136339664459, 0.6373447179794312, 0.9966485500335693, 0.9956946969032288, 0.9952619075775146, 0.9992033839225769, 0.985828697681427, 0.9415642619132996, 0.057535719126462936, 0.9886130094528198, 0.9968321323394775, 0.993342936038971, 0.9993253350257874, 0.9937082529067993, 0.9988274574279785, 0.9942358732223511, 0.9973236322402954, 0.9931416511535645, 0.5836201310157776, 0.022446926683187485, 0.39338240027427673, 0.9992029070854187, 0.9943981766700745, 0.9987269043922424, 0.9775926470756531, 0.994441568851471, 0.5898159742355347, 0.26418840885162354, 0.14499641954898834, 0.35556092858314514, 0.6382961273193359, 0.9895588755607605, 0.9145594835281372, 0.9920783638954163, 0.9769473671913147, 0.9655231833457947, 0.032819319516420364, 0.99714595079422, 0.9961681962013245, 0.02549075521528721, 0.8813115358352661, 0.06769675761461258, 0.025072874501347542, 0.9977205991744995, 0.9963880777359009, 0.9935140013694763, 0.9703744649887085, 0.0015215593157336116, 0.0007607796578668058, 0.027388067916035652, 0.9787624478340149, 0.9983866810798645, 0.9473845958709717, 0.8540226221084595, 0.14233709871768951, 0.9524924755096436, 0.5896121859550476, 0.9855000376701355, 0.9732272624969482, 0.7953789234161377, 0.08265071362257004, 0.1212926059961319, 0.9995810389518738, 0.9761335253715515, 0.9760425090789795, 0.9841853976249695, 0.9971249103546143, 0.8023828864097595, 0.197353333234787, 0.995110034942627, 0.8972046375274658, 0.06297707557678223, 0.03957934305071831, 0.9976814985275269, 0.9979703426361084, 0.9915456771850586, 0.999622106552124, 0.9991677403450012, 0.9847893118858337, 0.8815850615501404, 0.11819259077310562, 0.9851008057594299, 0.9988093376159668, 0.4157814085483551, 0.2952047884464264, 0.11433988064527512, 0.05197267606854439, 0.12057660520076752, 0.46669986844062805, 0.38187381625175476, 0.15087145566940308, 0.7957101464271545, 0.20411498844623566, 0.8338592648506165, 0.16599541902542114, 0.9870820045471191, 0.9910187721252441, 0.9936490654945374, 0.9770214557647705, 0.8256890177726746, 0.16427986323833466, 0.010009314864873886, 0.9862369298934937, 0.9844240546226501, 0.5000154972076416, 0.49588310718536377, 0.9740442037582397, 0.995457649230957, 0.9882228374481201, 0.9985322952270508, 0.997794508934021, 0.9918248057365417, 0.8163077235221863, 0.17906104028224945, 0.9976502060890198, 0.9943592548370361, 0.07576717436313629, 0.9176246523857117, 0.9993957281112671, 0.9963656067848206, 0.9990005493164062, 0.910391092300415, 0.06405007094144821, 0.025179989635944366, 0.9842616319656372, 0.9981760382652283, 0.9987260699272156, 0.9335269331932068, 0.06577291339635849, 0.9902649521827698, 0.9976373314857483, 0.9917812943458557, 0.9981771111488342, 0.992965579032898, 0.9959409236907959, 0.9934397339820862, 0.9976558089256287, 0.9967401623725891, 0.9877240061759949, 0.0028382239397615194, 0.7733325362205505, 0.19650527834892273, 0.027213560417294502, 0.08370459824800491, 0.0638798251748085, 0.8513638973236084, 0.9929359555244446, 0.9667208790779114, 0.9830653667449951, 0.9982771277427673, 0.2743786871433258, 0.722753643989563, 0.9883474111557007, 0.11388743668794632, 0.8848953247070312, 0.9975451827049255, 0.9299358129501343, 0.06888413429260254, 0.9985655546188354, 0.9940366744995117, 0.9937079548835754, 0.9874652028083801, 0.9887033104896545, 0.9873908758163452, 0.9934128522872925, 0.9997270703315735, 0.9981245398521423, 0.9959220290184021, 0.9941280484199524, 0.7438386082649231, 0.01675540767610073, 0.21756644546985626, 0.02183280512690544, 0.996928334236145, 0.16083930432796478, 0.8316569328308105, 0.9990804195404053, 0.8588146567344666, 0.06214634329080582, 0.06597073376178741, 0.012907317839562893, 0.9925553202629089, 0.9952402114868164, 0.7237582802772522, 0.2755376994609833, 0.9929995536804199, 0.9994058609008789, 0.9993559122085571, 0.9993522763252258, 0.9978535175323486, 0.980721652507782, 0.997192919254303, 0.010912001132965088, 0.9889001250267029, 0.9994282722473145, 0.522096574306488, 0.4213719666004181, 0.056080300360918045, 0.9936041235923767, 0.17073500156402588, 0.7888901233673096, 0.03981567174196243, 0.9766117334365845, 0.023333709686994553, 0.9999029040336609, 0.3711709976196289, 0.2503296434879303, 0.0754447728395462, 0.3026437759399414, 0.992502748966217, 0.9976624250411987], \"Term\": [\"absolute\", \"abstract\", \"accept\", \"accident\", \"accuracy\", \"acquire\", \"acquisition\", \"add\", \"address\", \"address\", \"advanced\", \"age\", \"age\", \"agree\", \"agree\", \"algorithm\", \"also\", \"also\", \"also\", \"amount\", \"amp\", \"analogy\", \"analyze\", \"animal\", \"anti\", \"anywhere\", \"apple\", \"application\", \"application\", \"arab\", \"arbitrary\", \"argument\", \"arm\", \"armenian\", \"article\", \"assist\", \"assumption\", \"attack\", \"attack\", \"author\", \"auto\", \"automate\", \"automatically\", \"available\", \"available\", \"available\", \"average\", \"avoid\", \"aware\", \"ax\", \"back\", \"bad\", \"bag\", \"base\", \"base\", \"baseball\", \"battery\", \"be\", \"become\", \"become\", \"become\", \"become\", \"belief\", \"believe\", \"belt\", \"benefit\", \"bike\", \"bill\", \"bill\", \"birth\", \"bit\", \"bit\", \"black\", \"blank\", \"blind\", \"block\", \"blow\", \"blue\", \"board\", \"book\", \"bounce\", \"box\", \"boy\", \"brave\", \"brother\", \"btw\", \"build\", \"burn\", \"bury\", \"bus\", \"button\", \"buy\", \"buy\", \"buy\", \"buyer\", \"buying\", \"cable\", \"call\", \"call\", \"call\", \"campaign\", \"canadian\", \"cap\", \"capacity\", \"capture\", \"car\", \"card\", \"carry\", \"carry\", \"carry\", \"carry\", \"carry\", \"case\", \"case\", \"case\", \"catalog\", \"category\", \"cd\", \"center\", \"change\", \"change\", \"characteristic\", \"child\", \"child\", \"chip\", \"christian\", \"church\", \"circuit\", \"city\", \"civilian\", \"claim\", \"clear\", \"clock\", \"closet\", \"club\", \"cluster\", \"code\", \"code\", \"cold\", \"color\", \"come\", \"come\", \"come\", \"community\", \"community\", \"competition\", \"compress\", \"comprise\", \"computer\", \"computer\", \"concept\", \"conclusion\", \"cone\", \"conference\", \"configuration\", \"confirm\", \"connector\", \"constitution\", \"contain\", \"contain\", \"contain\", \"control\", \"controller\", \"convert\", \"cool\", \"cop\", \"copy\", \"correction\", \"cost\", \"cost\", \"could\", \"could\", \"country\", \"country\", \"country\", \"couple\", \"coverage\", \"cpu\", \"crack\", \"crazy\", \"creation\", \"creature\", \"crew\", \"crime\", \"crime\", \"criminal\", \"criminal\", \"cross\", \"cryptography\", \"cylinder\", \"dare\", \"datum\", \"datum\", \"daughter\", \"dealer\", \"dealer\", \"death\", \"death\", \"decent\", \"default\", \"defense\", \"defense\", \"defense\", \"deletion\", \"deliver\", \"deny\", \"dept\", \"depth\", \"desert\", \"design\", \"designer\", \"detail\", \"develop\", \"device\", \"device\", \"devil\", \"diagnostic\", \"die\", \"die\", \"diet\", \"direct\", \"direction\", \"dirty\", \"discount\", \"discussion\", \"disease\", \"dish\", \"disk\", \"display\", \"distance\", \"distribution\", \"distribution_usa\", \"division\", \"doctor\", \"dog\", \"domain\", \"door\", \"draft\", \"drive\", \"driver\", \"driver\", \"driving\", \"dynamic\", \"eat\", \"economic\", \"electrical\", \"element\", \"email\", \"encryption\", \"engine\", \"engineering\", \"enhancement\", \"enough\", \"enough\", \"entry\", \"era\", \"even\", \"even\", \"evidence\", \"exactly\", \"exactly\", \"exist\", \"expansion\", \"expensive\", \"explain\", \"explain\", \"explain\", \"export\", \"exposure\", \"extension\", \"external\", \"fact\", \"factor\", \"factor\", \"factory\", \"fairly\", \"fairly\", \"faith\", \"family\", \"fan\", \"fancy\", \"faq\", \"fast\", \"fast\", \"fast\", \"fast\", \"fatal\", \"father\", \"fax\", \"fee\", \"field\", \"fight\", \"fight\", \"file\", \"film\", \"final\", \"final\", \"fire\", \"firearm\", \"first\", \"first\", \"first\", \"first\", \"first\", \"flight\", \"floppy\", \"font\", \"force\", \"force\", \"format\", \"formation\", \"forum\", \"friend\", \"front\", \"front\", \"front\", \"function\", \"game\", \"gear\", \"generate\", \"generic\", \"get\", \"get\", \"get\", \"gift\", \"girl\", \"go\", \"goal\", \"god\", \"good\", \"good\", \"government\", \"government\", \"graphic\", \"greatly_appreciate\", \"greek\", \"ground\", \"ground\", \"ground\", \"ground\", \"guess\", \"guilty\", \"gun\", \"handling\", \"hard\", \"have\", \"headache\", \"health\", \"hear\", \"heat\", \"helmet\", \"high\", \"high\", \"highly\", \"highway\", \"hit\", \"homosexual\", \"horror\", \"horse\", \"host\", \"host\", \"hot\", \"hour\", \"house\", \"house\", \"however\", \"however\", \"however\", \"human\", \"ice\", \"icon\", \"ide\", \"ill\", \"image\", \"immediate\", \"imply\", \"import\", \"impressive\", \"improve\", \"improvement\", \"include\", \"include\", \"include\", \"increase\", \"indeed\", \"indication\", \"infinite\", \"info\", \"info\", \"information\", \"information\", \"inhabitant\", \"input\", \"insurance\", \"insurance\", \"interface\", \"interior\", \"internal\", \"internet\", \"interpret\", \"interpretation\", \"introduction\", \"investigation\", \"investment\", \"islamic\", \"israeli\", \"issue\", \"issue\", \"issue\", \"japanese\", \"jewish\", \"key\", \"kill\", \"kinda\", \"know\", \"know\", \"laboratory\", \"land\", \"language\", \"large\", \"last\", \"last\", \"last\", \"last\", \"launch\", \"launch\", \"law\", \"law\", \"leadership\", \"leather\", \"legal\", \"legal\", \"letter\", \"level\", \"level\", \"library\", \"license\", \"life\", \"life\", \"light\", \"light\", \"light\", \"like\", \"line\", \"line\", \"line\", \"line\", \"link\", \"list\", \"list\", \"little\", \"live\", \"live\", \"live\", \"logic\", \"look\", \"look\", \"look\", \"looking\", \"lose\", \"lose\", \"lot\", \"low\", \"low\", \"lunar\", \"luxury\", \"machine\", \"machine\", \"mad\", \"mail\", \"mailing\", \"main\", \"maintenance\", \"make\", \"make\", \"make\", \"male\", \"man\", \"man\", \"man\", \"management\", \"manager\", \"maneuver\", \"many\", \"many\", \"many\", \"map\", \"mapping\", \"mass\", \"material\", \"matter\", \"matter\", \"max\", \"may\", \"may\", \"may\", \"maybe\", \"mb\", \"mean\", \"mean\", \"medical\", \"medicine\", \"member\", \"memory\", \"message\", \"message\", \"message\", \"meter\", \"method\", \"mid\", \"mile\", \"mileage\", \"military\", \"minority\", \"mirror\", \"mission\", \"mission\", \"mode\", \"model\", \"model\", \"modem\", \"module\", \"money\", \"monitor\", \"moon\", \"moral\", \"morality\", \"motherboard\", \"motif\", \"motor\", \"mouse\", \"movie\", \"much\", \"much\", \"much\", \"murder\", \"must\", \"must\", \"name\", \"name\", \"name\", \"national\", \"need\", \"need\", \"need\", \"network\", \"network\", \"new\", \"new\", \"new\", \"next\", \"next\", \"next\", \"nntp_poste\", \"nntp_poste\", \"nntp_posting\", \"noise\", \"note\", \"note\", \"novel\", \"nuclear\", \"number\", \"object\", \"objective\", \"observation\", \"observation\", \"observer\", \"occupy\", \"offense\", \"offer\", \"offer\", \"oil\", \"orbit\", \"orbital\", \"orbiter\", \"order\", \"order\", \"organization\", \"output\", \"own\", \"owner\", \"owner\", \"package\", \"packet\", \"page\", \"page\", \"part\", \"part\", \"part\", \"part\", \"partially\", \"particle\", \"patient\", \"pay\", \"pc\", \"pen\", \"penalty\", \"people\", \"people\", \"people\", \"percent\", \"performance\", \"performance\", \"performance\", \"peripheral\", \"person\", \"phase\", \"phone\", \"physical\", \"physician\", \"pick\", \"pick\", \"picture\", \"pitch\", \"planetary\", \"play\", \"player\", \"plot\", \"point\", \"point\", \"point\", \"point\", \"police\", \"police\", \"population\", \"post\", \"post\", \"post\", \"power\", \"power\", \"power\", \"power\", \"practice\", \"preferably\", \"presentation\", \"pretty\", \"price\", \"price\", \"primarily\", \"primitive\", \"printer\", \"private\", \"prize\", \"problem\", \"problem\", \"problem\", \"procedure\", \"process\", \"processor\", \"product\", \"program\", \"program\", \"program\", \"programmer\", \"protect\", \"protect\", \"protect\", \"proud\", \"prove\", \"provide\", \"provide\", \"pub\", \"public\", \"public\", \"public\", \"publish\", \"pull\", \"pull\", \"pull\", \"pull\", \"purchase\", \"purpose\", \"purpose\", \"put\", \"qualified\", \"question\", \"question\", \"question\", \"quick\", \"rate\", \"rate\", \"ray\", \"read\", \"read\", \"read\", \"ready\", \"ready\", \"reality\", \"really\", \"rear\", \"reason\", \"reason\", \"receive\", \"recieve\", \"red\", \"reflect\", \"regulation\", \"relationship\", \"release\", \"religion\", \"religious\", \"remember\", \"remind\", \"remove\", \"reply\", \"reply\", \"reply\", \"repost\", \"request\", \"request\", \"require\", \"require\", \"research\", \"resolution\", \"respect\", \"restore\", \"restriction\", \"return\", \"return\", \"revelation\", \"review\", \"revolver\", \"reward\", \"ride\", \"rider\", \"right\", \"right\", \"right\", \"risk\", \"risk\", \"risk\", \"road\", \"road\", \"rod\", \"role\", \"roman\", \"route\", \"routine\", \"rsa\", \"rule\", \"run\", \"run\", \"run\", \"run\", \"s\", \"safety\", \"safety\", \"sale\", \"salesman\", \"satellite\", \"saturn\", \"say\", \"say\", \"say\", \"scale\", \"scale\", \"scare\", \"schedule\", \"schedule\", \"science\", \"score\", \"screen\", \"scsi\", \"season\", \"section\", \"secular\", \"secure\", \"security\", \"see\", \"see\", \"see\", \"sell\", \"sell\", \"sell\", \"sell\", \"send\", \"send\", \"send\", \"sense\", \"serial\", \"serious\", \"server\", \"service\", \"set\", \"set\", \"severe\", \"shaft\", \"shall\", \"sheet\", \"shock\", \"shoot\", \"shoot\", \"shuttle\", \"sight\", \"signal\", \"single\", \"sky\", \"small\", \"small\", \"smart\", \"society\", \"soft\", \"software\", \"solar\", \"soldier\", \"somehow\", \"son\", \"soul\", \"source\", \"source\", \"source\", \"space\", \"spacecraft\", \"speak\", \"spec\", \"specify\", \"speed\", \"speed\", \"speed\", \"sport\", \"sport\", \"spring\", \"ssf\", \"staff\", \"stamp\", \"standard\", \"standard\", \"star\", \"stat\", \"state\", \"state\", \"state\", \"state\", \"statement\", \"statistic\", \"status\", \"still\", \"still\", \"still\", \"still\", \"strip\", \"study\", \"stuff_delete\", \"stupid\", \"stupid\", \"submission\", \"subtly\", \"suck\", \"sue\", \"support\", \"support\", \"support\", \"sure\", \"survey\", \"suspension\", \"sustain\", \"switch\", \"system\", \"system\", \"table\", \"take\", \"take\", \"take\", \"tap\", \"tape\", \"task\", \"team\", \"technology\", \"television\", \"tell\", \"tell\", \"terminal\", \"test\", \"text\", \"text\", \"text\", \"text\", \"text\", \"thank\", \"thank\", \"thank\", \"thing\", \"thing\", \"think\", \"think\", \"thrust\", \"ticket\", \"tie\", \"tiff\", \"time\", \"time\", \"time\", \"timing\", \"tire\", \"topic\", \"topic\", \"tour\", \"town\", \"trace\", \"trade\", \"transfer\", \"travel\", \"treat\", \"treat\", \"treatment\", \"trick\", \"trip\", \"trip\", \"true\", \"trust\", \"truth\", \"try\", \"try\", \"try\", \"turbo\", \"turkish\", \"turn\", \"type\", \"type\", \"unique\", \"unit\", \"universe\", \"university\", \"unix\", \"unlikely\", \"up\", \"update\", \"upgrade\", \"usage\", \"use\", \"use\", \"use\", \"use\", \"user\", \"user\", \"user\", \"utility\", \"utilize\", \"variation\", \"various\", \"vehicle\", \"vehicle\", \"vendor\", \"version\", \"version\", \"video\", \"view\", \"view\", \"village\", \"violation\", \"violence\", \"vision\", \"volt\", \"voltage\", \"vote\", \"want\", \"war\", \"water\", \"wave\", \"way\", \"way\", \"way\", \"way\", \"weapon\", \"wear\", \"wear\", \"week\", \"well\", \"well\", \"well\", \"well\", \"western\", \"white\", \"whole\", \"whole\", \"widget\", \"will\", \"win\", \"window\", \"wing\", \"winter\", \"withdraw\", \"woman\", \"woman\", \"word\", \"work\", \"work\", \"work\", \"workstation\", \"world\", \"world\", \"world\", \"would\", \"would\", \"write\", \"year\", \"year\", \"year\", \"year\", \"yesterday\", \"young\"]}, \"R\": 30, \"lambda.step\": 0.01, \"plot.opts\": {\"xlab\": \"PC1\", \"ylab\": \"PC2\"}, \"topic.order\": [20, 18, 8, 7, 6, 10, 19, 2, 17, 9, 12, 14, 5, 13, 4, 15, 16, 11, 1, 3]};\n",
       "\n",
       "function LDAvis_load_lib(url, callback){\n",
       "  var s = document.createElement('script');\n",
       "  s.src = url;\n",
       "  s.async = true;\n",
       "  s.onreadystatechange = s.onload = callback;\n",
       "  s.onerror = function(){console.warn(\"failed to load library \" + url);};\n",
       "  document.getElementsByTagName(\"head\")[0].appendChild(s);\n",
       "}\n",
       "\n",
       "if(typeof(LDAvis) !== \"undefined\"){\n",
       "   // already loaded: just create the visualization\n",
       "   !function(LDAvis){\n",
       "       new LDAvis(\"#\" + \"ldavis_el368018589590018003202094622\", ldavis_el368018589590018003202094622_data);\n",
       "   }(LDAvis);\n",
       "}else if(typeof define === \"function\" && define.amd){\n",
       "   // require.js is available: use it to load d3/LDAvis\n",
       "   require.config({paths: {d3: \"https://cdnjs.cloudflare.com/ajax/libs/d3/3.5.5/d3.min\"}});\n",
       "   require([\"d3\"], function(d3){\n",
       "      window.d3 = d3;\n",
       "      LDAvis_load_lib(\"https://cdn.rawgit.com/bmabey/pyLDAvis/files/ldavis.v1.0.0.js\", function(){\n",
       "        new LDAvis(\"#\" + \"ldavis_el368018589590018003202094622\", ldavis_el368018589590018003202094622_data);\n",
       "      });\n",
       "    });\n",
       "}else{\n",
       "    // require.js not available: dynamically load d3 & LDAvis\n",
       "    LDAvis_load_lib(\"https://cdnjs.cloudflare.com/ajax/libs/d3/3.5.5/d3.min.js\", function(){\n",
       "         LDAvis_load_lib(\"https://cdn.rawgit.com/bmabey/pyLDAvis/files/ldavis.v1.0.0.js\", function(){\n",
       "                 new LDAvis(\"#\" + \"ldavis_el368018589590018003202094622\", ldavis_el368018589590018003202094622_data);\n",
       "            })\n",
       "         });\n",
       "}\n",
       "</script>"
      ],
      "text/plain": [
       "PreparedData(topic_coordinates=              x         y  topics  cluster       Freq\n",
       "topic                                                \n",
       "19     0.358063 -0.053208       1        1  35.992008\n",
       "17     0.309796  0.081346       2        1  20.078360\n",
       "7      0.334988 -0.173999       3        1  15.996401\n",
       "6      0.136896  0.319780       4        1   4.392664\n",
       "5      0.145871 -0.201433       5        1   4.198606\n",
       "9      0.077080  0.205791       6        1   3.528124\n",
       "18     0.052111  0.004574       7        1   2.235073\n",
       "1     -0.024043  0.018582       8        1   2.171599\n",
       "16     0.014541 -0.107592       9        1   2.114531\n",
       "8     -0.083174 -0.019963      10        1   1.322651\n",
       "11    -0.059051  0.110557      11        1   1.243623\n",
       "13    -0.093470  0.013592      12        1   1.197007\n",
       "4     -0.140577 -0.023631      13        1   1.120966\n",
       "12    -0.111027 -0.009138      14        1   1.108068\n",
       "3     -0.137836 -0.027445      15        1   0.775676\n",
       "14    -0.128116 -0.030044      16        1   0.732269\n",
       "15    -0.143519 -0.025515      17        1   0.684310\n",
       "10    -0.149003 -0.022659      18        1   0.604032\n",
       "0     -0.162946 -0.027572      19        1   0.413320\n",
       "2     -0.196582 -0.032023      20        1   0.090717, topic_info=        Term          Freq         Total Category  logprob  loglift\n",
       "174    would  16156.000000  16156.000000  Default  30.0000  30.0000\n",
       "19      line  15862.000000  15862.000000  Default  29.0000  29.0000\n",
       "197    write  13427.000000  13427.000000  Default  28.0000  28.0000\n",
       "3685      ax   2717.000000   2717.000000  Default  27.0000  27.0000\n",
       "40      year   4625.000000   4625.000000  Default  26.0000  26.0000\n",
       "...      ...           ...           ...      ...      ...      ...\n",
       "3949    item      0.019669      1.238910  Topic20 -10.8605   2.8622\n",
       "6920   frame      0.019669      1.238864  Topic20 -10.8605   2.8623\n",
       "5769  hockey      0.019669      1.238939  Topic20 -10.8605   2.8622\n",
       "3141  dollar      0.019669      1.238869  Topic20 -10.8605   2.8622\n",
       "3382     pin      0.019669      1.238986  Topic20 -10.8605   2.8622\n",
       "\n",
       "[836 rows x 6 columns], token_table=      Topic      Freq       Term\n",
       "term                            \n",
       "472      10  0.989009   absolute\n",
       "2857     19  0.946953   abstract\n",
       "1211      8  0.999215     accept\n",
       "853      11  0.995118   accident\n",
       "1014     17  0.986950   accuracy\n",
       "...     ...       ...        ...\n",
       "40        2  0.250330       year\n",
       "40        5  0.075445       year\n",
       "40        7  0.302644       year\n",
       "720       7  0.992503  yesterday\n",
       "570       3  0.997662      young\n",
       "\n",
       "[1001 rows x 3 columns], R=30, lambda_step=0.01, plot_opts={'xlab': 'PC1', 'ylab': 'PC2'}, topic_order=[20, 18, 8, 7, 6, 10, 19, 2, 17, 9, 12, 14, 5, 13, 4, 15, 16, 11, 1, 3])"
      ]
     },
     "execution_count": 22,
     "metadata": {},
     "output_type": "execute_result"
    }
   ],
   "source": [
    "# time consuming...\n",
    "# Visualize the topics\n",
    "pyLDAvis.enable_notebook()\n",
    "vis = pyLDAvis.gensim.prepare(lda_model, corpus, id2word)\n",
    "vis"
   ]
  },
  {
   "cell_type": "code",
   "execution_count": 23,
   "metadata": {},
   "outputs": [
    {
     "name": "stdout",
     "output_type": "stream",
     "text": [
      "file path exists!\n"
     ]
    }
   ],
   "source": [
    "import os\n",
    "import sys\n",
    "path2file = r'C:\\Program Files\\mallet-2.0.8\\bin\\mallet'\n",
    "# check that the file path exists\n",
    "if not os.path.exists(path2file):\n",
    "    print('{} not found'.format(path2file))\n",
    "else:\n",
    "    print('file path exists!')\n",
    "\n",
    "    "
   ]
  },
  {
   "cell_type": "code",
   "execution_count": 24,
   "metadata": {},
   "outputs": [],
   "source": [
    "import os\n",
    "os.environ.update({'MALLET_HOME':r'C:/Program Files/mallet-2.0.8/'})\n",
    "# Download File: http://mallet.cs.umass.edu/dist/mallet-2.0.8.zip\n",
    "mallet_path = r'C:/Program Files/mallet-2.0.8/bin/mallet' # update this path"
   ]
  },
  {
   "cell_type": "code",
   "execution_count": 30,
   "metadata": {},
   "outputs": [],
   "source": [
    "import os\n",
    "os.environ.update({'MALLET_HOME':r'C:/mallet-2.0.8/'})\n",
    "\n",
    "mallet_path = 'C:/mallet-2.0.8/bin/mallet' # update this path\n",
    "from gensim.models.wrappers import LdaMallet"
   ]
  },
  {
   "cell_type": "code",
   "execution_count": 31,
   "metadata": {},
   "outputs": [
    {
     "name": "stdout",
     "output_type": "stream",
     "text": [
      "(0, [('line', 0.012034538933568572), ('system', 0.011091221676335937), ('file', 0.008792489520485761), ('work', 0.007446733160338177), ('problem', 0.007314733134582075), ('program', 0.007234245313999086), ('run', 0.006551708595455336), ('drive', 0.006149269492540388), ('window', 0.0060977572873672755), ('bit', 0.0059496596974945755)])\n",
      "(1, [('people', 0.01742616109544423), ('make', 0.0074033493195384955), ('time', 0.005720906004706051), ('government', 0.005370646453397518), ('state', 0.00527784264065765), ('day', 0.004394709583939552), ('law', 0.004346810841880265), ('work', 0.004346810841880265), ('year', 0.004155215873643118), ('thing', 0.004014513318843964)])\n",
      "(2, [('write', 0.034796586346940835), ('line', 0.031208989182850973), ('article', 0.021211085830544273), ('ax', 0.018318488549973987), ('max', 0.014761952833192262), ('good', 0.013329243576104429), ('make', 0.009516450919030573), ('host', 0.009392205129798024), ('organization', 0.00850695388151611), ('year', 0.007357680331115028)])\n"
     ]
    }
   ],
   "source": [
    "# C:\\Program Files\\mallet-2.0.8\\bin  \n",
    "# ldamallet = gensim.models.wrappers.LdaMallet(mallet_path, corpus=corpus, num_topics=20, id2word=id2word)\n",
    "ldamallet = gensim.models.wrappers.LdaMallet(mallet_path, corpus=corpus, num_topics=3, id2word=id2word)\n",
    "result = (ldamallet.show_topics(num_topics=3, num_words=10,formatted=False))\n",
    "for each in result:\n",
    "    print(each)"
   ]
  },
  {
   "cell_type": "code",
   "execution_count": 32,
   "metadata": {},
   "outputs": [
    {
     "name": "stdout",
     "output_type": "stream",
     "text": [
      "[(0, [('line', 0.012034538933568572), ('system', 0.011091221676335937), ('file', 0.008792489520485761), ('work', 0.007446733160338177), ('problem', 0.007314733134582075), ('program', 0.007234245313999086), ('run', 0.006551708595455336), ('drive', 0.006149269492540388), ('window', 0.0060977572873672755), ('bit', 0.0059496596974945755)]), (1, [('people', 0.01742616109544423), ('make', 0.0074033493195384955), ('time', 0.005720906004706051), ('government', 0.005370646453397518), ('state', 0.00527784264065765), ('day', 0.004394709583939552), ('law', 0.004346810841880265), ('work', 0.004346810841880265), ('year', 0.004155215873643118), ('thing', 0.004014513318843964)]), (2, [('write', 0.034796586346940835), ('line', 0.031208989182850973), ('article', 0.021211085830544273), ('ax', 0.018318488549973987), ('max', 0.014761952833192262), ('good', 0.013329243576104429), ('make', 0.009516450919030573), ('host', 0.009392205129798024), ('organization', 0.00850695388151611), ('year', 0.007357680331115028)])]\n",
      "\n",
      "Coherence Score:  0.41542804787687965\n"
     ]
    }
   ],
   "source": [
    "# Show Topics\n",
    "print(ldamallet.show_topics(formatted=False))\n",
    "\n",
    "# Compute Coherence Score\n",
    "coherence_model_ldamallet = CoherenceModel(model=ldamallet, texts=data_lemmatized, dictionary=id2word, coherence='c_v')\n",
    "coherence_ldamallet = coherence_model_ldamallet.get_coherence()\n",
    "print('\\nCoherence Score: ', coherence_ldamallet)"
   ]
  },
  {
   "cell_type": "code",
   "execution_count": 33,
   "metadata": {},
   "outputs": [],
   "source": [
    "def compute_coherence_values(dictionary, corpus, texts, limit, start=2, step=3):\n",
    "    \"\"\"\n",
    "    Compute c_v coherence for various number of topics\n",
    "\n",
    "    Parameters:\n",
    "    ----------\n",
    "    dictionary : Gensim dictionary\n",
    "    corpus : Gensim corpus\n",
    "    texts : List of input texts\n",
    "    limit : Max num of topics\n",
    "\n",
    "    Returns:\n",
    "    -------\n",
    "    model_list : List of LDA topic models\n",
    "    coherence_values : Coherence values corresponding to the LDA model with respective number of topics\n",
    "    \"\"\"\n",
    "    coherence_values = []\n",
    "    model_list = []\n",
    "    for num_topics in range(start, limit, step):\n",
    "        model = gensim.models.wrappers.LdaMallet(mallet_path, corpus=corpus, num_topics=num_topics, id2word=id2word)\n",
    "        model_list.append(model)\n",
    "        coherencemodel = CoherenceModel(model=model, texts=texts, dictionary=dictionary, coherence='c_v')\n",
    "        coherence_values.append(coherencemodel.get_coherence())\n",
    "\n",
    "    return model_list, coherence_values"
   ]
  },
  {
   "cell_type": "code",
   "execution_count": 34,
   "metadata": {},
   "outputs": [],
   "source": [
    "# Can take a long time to run.\n",
    "model_list, coherence_values = compute_coherence_values(dictionary=id2word, corpus=corpus, texts=data_lemmatized, start=2, limit=40, step=6)"
   ]
  },
  {
   "cell_type": "code",
   "execution_count": 35,
   "metadata": {},
   "outputs": [
    {
     "data": {
      "image/png": "[encoded data removed]",
      "text/plain": [
       "<Figure size 432x288 with 1 Axes>"
      ]
     },
     "metadata": {
      "needs_background": "light"
     },
     "output_type": "display_data"
    }
   ],
   "source": [
    "# Show graph\n",
    "limit=40; start=2; step=6;\n",
    "x = range(start, limit, step)\n",
    "plt.plot(x, coherence_values)\n",
    "plt.xlabel(\"Num Topics\")\n",
    "plt.ylabel(\"Coherence score\")\n",
    "plt.legend((\"coherence_values\"), loc='best')\n",
    "plt.show()"
   ]
  },
  {
   "cell_type": "code",
   "execution_count": 36,
   "metadata": {},
   "outputs": [
    {
     "name": "stdout",
     "output_type": "stream",
     "text": [
      "Num Topics = 2  has Coherence Value of 0.3716\n",
      "Num Topics = 8  has Coherence Value of 0.4704\n",
      "Num Topics = 14  has Coherence Value of 0.5254\n",
      "Num Topics = 20  has Coherence Value of 0.5364\n",
      "Num Topics = 26  has Coherence Value of 0.5305\n",
      "Num Topics = 32  has Coherence Value of 0.5271\n",
      "Num Topics = 38  has Coherence Value of 0.551\n"
     ]
    }
   ],
   "source": [
    "# Print the coherence scores\n",
    "for m, cv in zip(x, coherence_values):\n",
    "    print(\"Num Topics =\", m, \" has Coherence Value of\", round(cv, 4))"
   ]
  },
  {
   "cell_type": "code",
   "execution_count": 44,
   "metadata": {
    "scrolled": true
   },
   "outputs": [
    {
     "name": "stdout",
     "output_type": "stream",
     "text": [
      "[(0,\n",
      "  '0.021*\"space\" + 0.012*\"system\" + 0.009*\"launch\" + 0.009*\"project\" + '\n",
      "  '0.008*\"design\" + 0.008*\"technology\" + 0.007*\"model\" + 0.007*\"base\" + '\n",
      "  '0.007*\"material\" + 0.006*\"satellite\"'),\n",
      " (1,\n",
      "  '0.041*\"car\" + 0.016*\"bike\" + 0.011*\"ride\" + 0.010*\"engine\" + 0.009*\"turn\" + '\n",
      "  '0.009*\"good\" + 0.009*\"drive\" + 0.008*\"time\" + 0.008*\"speed\" + 0.007*\"back\"'),\n",
      " (2,\n",
      "  '0.191*\"ax\" + 0.158*\"line\" + 0.154*\"max\" + 0.067*\"host\" + 0.026*\"nntp_poste\" '\n",
      "  '+ 0.019*\"ca\" + 0.018*\"reply\" + 0.011*\"keyword\" + 0.010*\"distribution_usa\" + '\n",
      "  '0.009*\"printer\"'),\n",
      " (3,\n",
      "  '0.021*\"people\" + 0.018*\"time\" + 0.018*\"happen\" + 0.014*\"start\" + '\n",
      "  '0.014*\"leave\" + 0.013*\"back\" + 0.012*\"day\" + 0.012*\"thing\" + 0.011*\"hear\" + '\n",
      "  '0.010*\"live\"'),\n",
      " (4,\n",
      "  '0.017*\"exist\" + 0.015*\"claim\" + 0.013*\"question\" + 0.013*\"reason\" + '\n",
      "  '0.013*\"true\" + 0.013*\"argument\" + 0.011*\"evidence\" + 0.011*\"make\" + '\n",
      "  '0.010*\"thing\" + 0.009*\"science\"'),\n",
      " (5,\n",
      "  '0.242*\"write\" + 0.157*\"article\" + 0.129*\"line\" + 0.066*\"organization\" + '\n",
      "  '0.042*\"host\" + 0.020*\"hear\" + 0.014*\"opinion\" + 0.012*\"nntp_poste\" + '\n",
      "  '0.010*\"wrong\" + 0.009*\"guess\"'),\n",
      " (6,\n",
      "  '0.037*\"key\" + 0.018*\"system\" + 0.014*\"encryption\" + 0.013*\"information\" + '\n",
      "  '0.012*\"chip\" + 0.011*\"technology\" + 0.011*\"public\" + 0.011*\"bit\" + '\n",
      "  '0.010*\"internet\" + 0.009*\"security\"'),\n",
      " (7,\n",
      "  '0.023*\"government\" + 0.020*\"people\" + 0.017*\"state\" + 0.010*\"israeli\" + '\n",
      "  '0.009*\"war\" + 0.009*\"country\" + 0.008*\"power\" + 0.007*\"attack\" + '\n",
      "  '0.007*\"land\" + 0.007*\"give\"'),\n",
      " (8,\n",
      "  '0.038*\"window\" + 0.020*\"run\" + 0.016*\"set\" + 0.016*\"application\" + '\n",
      "  '0.016*\"display\" + 0.016*\"problem\" + 0.015*\"server\" + 0.013*\"call\" + '\n",
      "  '0.012*\"work\" + 0.012*\"program\"'),\n",
      " (9,\n",
      "  '0.052*\"post\" + 0.035*\"read\" + 0.033*\"question\" + 0.025*\"find\" + '\n",
      "  '0.021*\"group\" + 0.018*\"line\" + 0.016*\"point\" + 0.016*\"reply\" + '\n",
      "  '0.016*\"answer\" + 0.015*\"time\"'),\n",
      " (10,\n",
      "  '0.014*\"people\" + 0.012*\"word\" + 0.012*\"love\" + 0.010*\"christian\" + '\n",
      "  '0.010*\"make\" + 0.009*\"church\" + 0.009*\"religion\" + 0.008*\"life\" + '\n",
      "  '0.008*\"time\" + 0.008*\"man\"'),\n",
      " (11,\n",
      "  '0.028*\"gun\" + 0.019*\"law\" + 0.012*\"case\" + 0.012*\"state\" + 0.012*\"fire\" + '\n",
      "  '0.011*\"kill\" + 0.011*\"crime\" + 0.010*\"weapon\" + 0.010*\"people\" + '\n",
      "  '0.009*\"make\"'),\n",
      " (12,\n",
      "  '0.048*\"file\" + 0.020*\"program\" + 0.018*\"image\" + 0.016*\"include\" + '\n",
      "  '0.015*\"information\" + 0.013*\"source\" + 0.012*\"send\" + 0.012*\"version\" + '\n",
      "  '0.011*\"list\" + 0.011*\"line\"'),\n",
      " (13,\n",
      "  '0.033*\"game\" + 0.028*\"team\" + 0.028*\"year\" + 0.025*\"play\" + 0.020*\"player\" '\n",
      "  '+ 0.018*\"good\" + 0.018*\"win\" + 0.012*\"season\" + 0.010*\"hit\" + 0.009*\"fan\"'),\n",
      " (14,\n",
      "  '0.021*\"work\" + 0.018*\"make\" + 0.015*\"people\" + 0.015*\"year\" + 0.012*\"job\" + '\n",
      "  '0.010*\"time\" + 0.009*\"talk\" + 0.009*\"support\" + 0.009*\"program\" + '\n",
      "  '0.008*\"money\"'),\n",
      " (15,\n",
      "  '0.013*\"problem\" + 0.012*\"drug\" + 0.011*\"study\" + 0.009*\"food\" + '\n",
      "  '0.009*\"effect\" + 0.008*\"doctor\" + 0.007*\"patient\" + 0.007*\"eat\" + '\n",
      "  '0.006*\"case\" + 0.006*\"disease\"'),\n",
      " (16,\n",
      "  '0.035*\"drive\" + 0.028*\"card\" + 0.026*\"system\" + 0.025*\"problem\" + '\n",
      "  '0.020*\"bit\" + 0.017*\"work\" + 0.017*\"driver\" + 0.015*\"disk\" + '\n",
      "  '0.014*\"computer\" + 0.014*\"scsi\"'),\n",
      " (17,\n",
      "  '0.037*\"good\" + 0.027*\"buy\" + 0.024*\"price\" + 0.023*\"sell\" + 0.021*\"make\" + '\n",
      "  '0.020*\"cost\" + 0.018*\"pay\" + 0.018*\"sale\" + 0.015*\"lot\" + 0.012*\"company\"'),\n",
      " (18,\n",
      "  '0.025*\"people\" + 0.016*\"man\" + 0.012*\"number\" + 0.010*\"child\" + '\n",
      "  '0.010*\"woman\" + 0.010*\"turkish\" + 0.010*\"armenian\" + 0.009*\"history\" + '\n",
      "  '0.009*\"today\" + 0.008*\"show\"'),\n",
      " (19,\n",
      "  '0.018*\"power\" + 0.014*\"line\" + 0.011*\"current\" + 0.011*\"ground\" + '\n",
      "  '0.009*\"work\" + 0.009*\"wire\" + 0.009*\"water\" + 0.007*\"low\" + 0.007*\"high\" + '\n",
      "  '0.007*\"switch\"')]\n"
     ]
    }
   ],
   "source": [
    "# Select the model and print the topics\n",
    "optimal_model = model_list[3]\n",
    "model_topics = optimal_model.show_topics(formatted=False)\n",
    "pprint(optimal_model.print_topics(num_words=10))"
   ]
  },
  {
   "cell_type": "code",
   "execution_count": 45,
   "metadata": {},
   "outputs": [
    {
     "data": {
      "text/html": [
       "<div>\n",
       "<style scoped>\n",
       "    .dataframe tbody tr th:only-of-type {\n",
       "        vertical-align: middle;\n",
       "    }\n",
       "\n",
       "    .dataframe tbody tr th {\n",
       "        vertical-align: top;\n",
       "    }\n",
       "\n",
       "    .dataframe thead th {\n",
       "        text-align: right;\n",
       "    }\n",
       "</style>\n",
       "<table border=\"1\" class=\"dataframe\">\n",
       "  <thead>\n",
       "    <tr style=\"text-align: right;\">\n",
       "      <th></th>\n",
       "      <th>Document_No</th>\n",
       "      <th>Dominant_Topic</th>\n",
       "      <th>Topic_Perc_Contrib</th>\n",
       "      <th>Keywords</th>\n",
       "      <th>Text</th>\n",
       "    </tr>\n",
       "  </thead>\n",
       "  <tbody>\n",
       "    <tr>\n",
       "      <th>0</th>\n",
       "      <td>0</td>\n",
       "      <td>1.0</td>\n",
       "      <td>0.1909</td>\n",
       "      <td>car, bike, ride, engine, turn, good, drive, ti...</td>\n",
       "      <td>From: (wheres my thing) Subject: WHAT car is t...</td>\n",
       "    </tr>\n",
       "    <tr>\n",
       "      <th>1</th>\n",
       "      <td>1</td>\n",
       "      <td>16.0</td>\n",
       "      <td>0.1458</td>\n",
       "      <td>drive, card, system, problem, bit, work, drive...</td>\n",
       "      <td>From: (Guy Kuo) Subject: SI Clock Poll - Final...</td>\n",
       "    </tr>\n",
       "    <tr>\n",
       "      <th>2</th>\n",
       "      <td>2</td>\n",
       "      <td>16.0</td>\n",
       "      <td>0.1197</td>\n",
       "      <td>drive, card, system, problem, bit, work, drive...</td>\n",
       "      <td>From: (Thomas E Willis) Subject: PB questions....</td>\n",
       "    </tr>\n",
       "    <tr>\n",
       "      <th>3</th>\n",
       "      <td>3</td>\n",
       "      <td>5.0</td>\n",
       "      <td>0.1019</td>\n",
       "      <td>write, article, line, organization, host, hear...</td>\n",
       "      <td>From: (Joe Green) Subject: Re: Weitek P9000 ? ...</td>\n",
       "    </tr>\n",
       "    <tr>\n",
       "      <th>4</th>\n",
       "      <td>4</td>\n",
       "      <td>8.0</td>\n",
       "      <td>0.1767</td>\n",
       "      <td>window, run, set, application, display, proble...</td>\n",
       "      <td>From: (Jonathan McDowell) Subject: Re: Shuttle...</td>\n",
       "    </tr>\n",
       "    <tr>\n",
       "      <th>5</th>\n",
       "      <td>5</td>\n",
       "      <td>11.0</td>\n",
       "      <td>0.3061</td>\n",
       "      <td>gun, law, case, state, fire, kill, crime, weap...</td>\n",
       "      <td>From: (Foxvog Douglas) Subject: Re: Rewording ...</td>\n",
       "    </tr>\n",
       "    <tr>\n",
       "      <th>6</th>\n",
       "      <td>6</td>\n",
       "      <td>9.0</td>\n",
       "      <td>0.1332</td>\n",
       "      <td>post, read, question, find, group, line, point...</td>\n",
       "      <td>From: (brian manning delaney) Subject: Brain T...</td>\n",
       "    </tr>\n",
       "    <tr>\n",
       "      <th>7</th>\n",
       "      <td>7</td>\n",
       "      <td>16.0</td>\n",
       "      <td>0.4945</td>\n",
       "      <td>drive, card, system, problem, bit, work, drive...</td>\n",
       "      <td>From: (GRUBB) Subject: Re: IDE vs SCSI Organiz...</td>\n",
       "    </tr>\n",
       "    <tr>\n",
       "      <th>8</th>\n",
       "      <td>8</td>\n",
       "      <td>8.0</td>\n",
       "      <td>0.0979</td>\n",
       "      <td>window, run, set, application, display, proble...</td>\n",
       "      <td>From: Subject: WIn 3.0 ICON HELP PLEASE! Organ...</td>\n",
       "    </tr>\n",
       "    <tr>\n",
       "      <th>9</th>\n",
       "      <td>9</td>\n",
       "      <td>16.0</td>\n",
       "      <td>0.1892</td>\n",
       "      <td>drive, card, system, problem, bit, work, drive...</td>\n",
       "      <td>From: (Stan Kerr) Subject: Re: Sigma Designs D...</td>\n",
       "    </tr>\n",
       "  </tbody>\n",
       "</table>\n",
       "</div>"
      ],
      "text/plain": [
       "   Document_No  Dominant_Topic  Topic_Perc_Contrib  \\\n",
       "0            0             1.0              0.1909   \n",
       "1            1            16.0              0.1458   \n",
       "2            2            16.0              0.1197   \n",
       "3            3             5.0              0.1019   \n",
       "4            4             8.0              0.1767   \n",
       "5            5            11.0              0.3061   \n",
       "6            6             9.0              0.1332   \n",
       "7            7            16.0              0.4945   \n",
       "8            8             8.0              0.0979   \n",
       "9            9            16.0              0.1892   \n",
       "\n",
       "                                            Keywords  \\\n",
       "0  car, bike, ride, engine, turn, good, drive, ti...   \n",
       "1  drive, card, system, problem, bit, work, drive...   \n",
       "2  drive, card, system, problem, bit, work, drive...   \n",
       "3  write, article, line, organization, host, hear...   \n",
       "4  window, run, set, application, display, proble...   \n",
       "5  gun, law, case, state, fire, kill, crime, weap...   \n",
       "6  post, read, question, find, group, line, point...   \n",
       "7  drive, card, system, problem, bit, work, drive...   \n",
       "8  window, run, set, application, display, proble...   \n",
       "9  drive, card, system, problem, bit, work, drive...   \n",
       "\n",
       "                                                Text  \n",
       "0  From: (wheres my thing) Subject: WHAT car is t...  \n",
       "1  From: (Guy Kuo) Subject: SI Clock Poll - Final...  \n",
       "2  From: (Thomas E Willis) Subject: PB questions....  \n",
       "3  From: (Joe Green) Subject: Re: Weitek P9000 ? ...  \n",
       "4  From: (Jonathan McDowell) Subject: Re: Shuttle...  \n",
       "5  From: (Foxvog Douglas) Subject: Re: Rewording ...  \n",
       "6  From: (brian manning delaney) Subject: Brain T...  \n",
       "7  From: (GRUBB) Subject: Re: IDE vs SCSI Organiz...  \n",
       "8  From: Subject: WIn 3.0 ICON HELP PLEASE! Organ...  \n",
       "9  From: (Stan Kerr) Subject: Re: Sigma Designs D...  "
      ]
     },
     "execution_count": 45,
     "metadata": {},
     "output_type": "execute_result"
    }
   ],
   "source": [
    "def format_topics_sentences(ldamodel=lda_model, corpus=corpus, texts=data):\n",
    "    # Init output\n",
    "    sent_topics_df = pd.DataFrame()\n",
    "\n",
    "    # Get main topic in each document\n",
    "    for i, row in enumerate(ldamodel[corpus]):\n",
    "        row = sorted(row, key=lambda x: (x[1]), reverse=True)\n",
    "        # Get the Dominant topic, Perc Contribution and Keywords for each document\n",
    "        for j, (topic_num, prop_topic) in enumerate(row):\n",
    "            if j == 0:  # => dominant topic\n",
    "                wp = ldamodel.show_topic(topic_num)\n",
    "                topic_keywords = \", \".join([word for word, prop in wp])\n",
    "                sent_topics_df = sent_topics_df.append(pd.Series([int(topic_num), round(prop_topic,4), topic_keywords]), ignore_index=True)\n",
    "            else:\n",
    "                break\n",
    "    sent_topics_df.columns = ['Dominant_Topic', 'Perc_Contribution', 'Topic_Keywords']\n",
    "\n",
    "    # Add original text to the end of the output\n",
    "    contents = pd.Series(texts)\n",
    "    sent_topics_df = pd.concat([sent_topics_df, contents], axis=1)\n",
    "    return(sent_topics_df)\n",
    "\n",
    "\n",
    "df_topic_sents_keywords = format_topics_sentences(ldamodel=optimal_model, corpus=corpus, texts=data)\n",
    "\n",
    "# Format\n",
    "df_dominant_topic = df_topic_sents_keywords.reset_index()\n",
    "df_dominant_topic.columns = ['Document_No', 'Dominant_Topic', 'Topic_Perc_Contrib', 'Keywords', 'Text']\n",
    "\n",
    "# Show\n",
    "df_dominant_topic.head(10)"
   ]
  },
  {
   "cell_type": "code",
   "execution_count": 46,
   "metadata": {},
   "outputs": [
    {
     "data": {
      "text/html": [
       "<div>\n",
       "<style scoped>\n",
       "    .dataframe tbody tr th:only-of-type {\n",
       "        vertical-align: middle;\n",
       "    }\n",
       "\n",
       "    .dataframe tbody tr th {\n",
       "        vertical-align: top;\n",
       "    }\n",
       "\n",
       "    .dataframe thead th {\n",
       "        text-align: right;\n",
       "    }\n",
       "</style>\n",
       "<table border=\"1\" class=\"dataframe\">\n",
       "  <thead>\n",
       "    <tr style=\"text-align: right;\">\n",
       "      <th></th>\n",
       "      <th>Topic_Num</th>\n",
       "      <th>Topic_Perc_Contrib</th>\n",
       "      <th>Keywords</th>\n",
       "      <th>Text</th>\n",
       "    </tr>\n",
       "  </thead>\n",
       "  <tbody>\n",
       "    <tr>\n",
       "      <th>0</th>\n",
       "      <td>0.0</td>\n",
       "      <td>0.7349</td>\n",
       "      <td>space, system, launch, project, design, techno...</td>\n",
       "      <td>From: (Jon Leech) Subject: Space FAQ 11/15 - U...</td>\n",
       "    </tr>\n",
       "    <tr>\n",
       "      <th>1</th>\n",
       "      <td>1.0</td>\n",
       "      <td>0.5363</td>\n",
       "      <td>car, bike, ride, engine, turn, good, drive, ti...</td>\n",
       "      <td>From: (richard welty) Subject: rec.autos: Freq...</td>\n",
       "    </tr>\n",
       "    <tr>\n",
       "      <th>2</th>\n",
       "      <td>2.0</td>\n",
       "      <td>0.9712</td>\n",
       "      <td>ax, line, max, host, nntp_poste, ca, reply, ke...</td>\n",
       "      <td>Subject: roman.bmp 12/14 From: (Cliff) Reply-T...</td>\n",
       "    </tr>\n",
       "    <tr>\n",
       "      <th>3</th>\n",
       "      <td>3.0</td>\n",
       "      <td>0.8311</td>\n",
       "      <td>people, time, happen, start, leave, back, day,...</td>\n",
       "      <td>From: (David Davidian) Subject: Accounts of An...</td>\n",
       "    </tr>\n",
       "    <tr>\n",
       "      <th>4</th>\n",
       "      <td>4.0</td>\n",
       "      <td>0.6799</td>\n",
       "      <td>exist, claim, question, reason, true, argument...</td>\n",
       "      <td>From: mathew Subject: Alt.Atheism FAQ: Constru...</td>\n",
       "    </tr>\n",
       "  </tbody>\n",
       "</table>\n",
       "</div>"
      ],
      "text/plain": [
       "   Topic_Num  Topic_Perc_Contrib  \\\n",
       "0        0.0              0.7349   \n",
       "1        1.0              0.5363   \n",
       "2        2.0              0.9712   \n",
       "3        3.0              0.8311   \n",
       "4        4.0              0.6799   \n",
       "\n",
       "                                            Keywords  \\\n",
       "0  space, system, launch, project, design, techno...   \n",
       "1  car, bike, ride, engine, turn, good, drive, ti...   \n",
       "2  ax, line, max, host, nntp_poste, ca, reply, ke...   \n",
       "3  people, time, happen, start, leave, back, day,...   \n",
       "4  exist, claim, question, reason, true, argument...   \n",
       "\n",
       "                                                Text  \n",
       "0  From: (Jon Leech) Subject: Space FAQ 11/15 - U...  \n",
       "1  From: (richard welty) Subject: rec.autos: Freq...  \n",
       "2  Subject: roman.bmp 12/14 From: (Cliff) Reply-T...  \n",
       "3  From: (David Davidian) Subject: Accounts of An...  \n",
       "4  From: mathew Subject: Alt.Atheism FAQ: Constru...  "
      ]
     },
     "execution_count": 46,
     "metadata": {},
     "output_type": "execute_result"
    }
   ],
   "source": [
    "# Group top 5 sentences under each topic\n",
    "sent_topics_sorteddf_mallet = pd.DataFrame()\n",
    "\n",
    "sent_topics_outdf_grpd = df_topic_sents_keywords.groupby('Dominant_Topic')\n",
    "\n",
    "for i, grp in sent_topics_outdf_grpd:\n",
    "    sent_topics_sorteddf_mallet = pd.concat([sent_topics_sorteddf_mallet, \n",
    "                                             grp.sort_values(['Perc_Contribution'], ascending=[0]).head(1)], \n",
    "                                            axis=0)\n",
    "\n",
    "# Reset Index    \n",
    "sent_topics_sorteddf_mallet.reset_index(drop=True, inplace=True)\n",
    "\n",
    "# Format\n",
    "sent_topics_sorteddf_mallet.columns = ['Topic_Num', \"Topic_Perc_Contrib\", \"Keywords\", \"Text\"]\n",
    "\n",
    "# Show\n",
    "sent_topics_sorteddf_mallet.head()"
   ]
  },
  {
   "cell_type": "code",
   "execution_count": 47,
   "metadata": {},
   "outputs": [
    {
     "data": {
      "text/html": [
       "<div>\n",
       "<style scoped>\n",
       "    .dataframe tbody tr th:only-of-type {\n",
       "        vertical-align: middle;\n",
       "    }\n",
       "\n",
       "    .dataframe tbody tr th {\n",
       "        vertical-align: top;\n",
       "    }\n",
       "\n",
       "    .dataframe thead th {\n",
       "        text-align: right;\n",
       "    }\n",
       "</style>\n",
       "<table border=\"1\" class=\"dataframe\">\n",
       "  <thead>\n",
       "    <tr style=\"text-align: right;\">\n",
       "      <th></th>\n",
       "      <th>Dominant_Topic</th>\n",
       "      <th>Topic_Keywords</th>\n",
       "      <th>Num_Documents</th>\n",
       "      <th>Perc_Documents</th>\n",
       "    </tr>\n",
       "  </thead>\n",
       "  <tbody>\n",
       "    <tr>\n",
       "      <th>0.0</th>\n",
       "      <td>1.0</td>\n",
       "      <td>car, bike, ride, engine, turn, good, drive, ti...</td>\n",
       "      <td>484.0</td>\n",
       "      <td>0.0428</td>\n",
       "    </tr>\n",
       "    <tr>\n",
       "      <th>1.0</th>\n",
       "      <td>16.0</td>\n",
       "      <td>drive, card, system, problem, bit, work, drive...</td>\n",
       "      <td>885.0</td>\n",
       "      <td>0.0782</td>\n",
       "    </tr>\n",
       "    <tr>\n",
       "      <th>2.0</th>\n",
       "      <td>16.0</td>\n",
       "      <td>drive, card, system, problem, bit, work, drive...</td>\n",
       "      <td>342.0</td>\n",
       "      <td>0.0302</td>\n",
       "    </tr>\n",
       "    <tr>\n",
       "      <th>3.0</th>\n",
       "      <td>5.0</td>\n",
       "      <td>write, article, line, organization, host, hear...</td>\n",
       "      <td>262.0</td>\n",
       "      <td>0.0232</td>\n",
       "    </tr>\n",
       "    <tr>\n",
       "      <th>4.0</th>\n",
       "      <td>8.0</td>\n",
       "      <td>window, run, set, application, display, proble...</td>\n",
       "      <td>465.0</td>\n",
       "      <td>0.0411</td>\n",
       "    </tr>\n",
       "    <tr>\n",
       "      <th>...</th>\n",
       "      <td>...</td>\n",
       "      <td>...</td>\n",
       "      <td>...</td>\n",
       "      <td>...</td>\n",
       "    </tr>\n",
       "    <tr>\n",
       "      <th>11309.0</th>\n",
       "      <td>15.0</td>\n",
       "      <td>problem, drug, study, food, effect, doctor, pa...</td>\n",
       "      <td>NaN</td>\n",
       "      <td>NaN</td>\n",
       "    </tr>\n",
       "    <tr>\n",
       "      <th>11310.0</th>\n",
       "      <td>19.0</td>\n",
       "      <td>power, line, current, ground, work, wire, wate...</td>\n",
       "      <td>NaN</td>\n",
       "      <td>NaN</td>\n",
       "    </tr>\n",
       "    <tr>\n",
       "      <th>11311.0</th>\n",
       "      <td>16.0</td>\n",
       "      <td>drive, card, system, problem, bit, work, drive...</td>\n",
       "      <td>NaN</td>\n",
       "      <td>NaN</td>\n",
       "    </tr>\n",
       "    <tr>\n",
       "      <th>11312.0</th>\n",
       "      <td>9.0</td>\n",
       "      <td>post, read, question, find, group, line, point...</td>\n",
       "      <td>NaN</td>\n",
       "      <td>NaN</td>\n",
       "    </tr>\n",
       "    <tr>\n",
       "      <th>11313.0</th>\n",
       "      <td>1.0</td>\n",
       "      <td>car, bike, ride, engine, turn, good, drive, ti...</td>\n",
       "      <td>NaN</td>\n",
       "      <td>NaN</td>\n",
       "    </tr>\n",
       "  </tbody>\n",
       "</table>\n",
       "<p>11314 rows × 4 columns</p>\n",
       "</div>"
      ],
      "text/plain": [
       "         Dominant_Topic                                     Topic_Keywords  \\\n",
       "0.0                 1.0  car, bike, ride, engine, turn, good, drive, ti...   \n",
       "1.0                16.0  drive, card, system, problem, bit, work, drive...   \n",
       "2.0                16.0  drive, card, system, problem, bit, work, drive...   \n",
       "3.0                 5.0  write, article, line, organization, host, hear...   \n",
       "4.0                 8.0  window, run, set, application, display, proble...   \n",
       "...                 ...                                                ...   \n",
       "11309.0            15.0  problem, drug, study, food, effect, doctor, pa...   \n",
       "11310.0            19.0  power, line, current, ground, work, wire, wate...   \n",
       "11311.0            16.0  drive, card, system, problem, bit, work, drive...   \n",
       "11312.0             9.0  post, read, question, find, group, line, point...   \n",
       "11313.0             1.0  car, bike, ride, engine, turn, good, drive, ti...   \n",
       "\n",
       "         Num_Documents  Perc_Documents  \n",
       "0.0              484.0          0.0428  \n",
       "1.0              885.0          0.0782  \n",
       "2.0              342.0          0.0302  \n",
       "3.0              262.0          0.0232  \n",
       "4.0              465.0          0.0411  \n",
       "...                ...             ...  \n",
       "11309.0            NaN             NaN  \n",
       "11310.0            NaN             NaN  \n",
       "11311.0            NaN             NaN  \n",
       "11312.0            NaN             NaN  \n",
       "11313.0            NaN             NaN  \n",
       "\n",
       "[11314 rows x 4 columns]"
      ]
     },
     "execution_count": 47,
     "metadata": {},
     "output_type": "execute_result"
    }
   ],
   "source": [
    "# Number of Documents for Each Topic\n",
    "topic_counts = df_topic_sents_keywords['Dominant_Topic'].value_counts()\n",
    "\n",
    "# Percentage of Documents for Each Topic\n",
    "topic_contribution = round(topic_counts/topic_counts.sum(), 4)\n",
    "\n",
    "# Topic Number and Keywords\n",
    "topic_num_keywords = df_topic_sents_keywords[['Dominant_Topic', 'Topic_Keywords']]\n",
    "\n",
    "# Concatenate Column wise\n",
    "df_dominant_topics = pd.concat([topic_num_keywords, topic_counts, topic_contribution], axis=1)\n",
    "\n",
    "# Change Column names\n",
    "df_dominant_topics.columns = ['Dominant_Topic', 'Topic_Keywords', 'Num_Documents', 'Perc_Documents']\n",
    "\n",
    "# Show\n",
    "df_dominant_topics"
   ]
  },
  {
   "cell_type": "code",
   "execution_count": null,
   "metadata": {},
   "outputs": [],
   "source": []
  },
  {
   "cell_type": "markdown",
   "metadata": {},
   "source": [
    "https://www.machinelearningplus.com/nlp/topic-modeling-gensim-python/"
   ]
  },
  {
   "cell_type": "code",
   "execution_count": null,
   "metadata": {},
   "outputs": [],
   "source": []
  },
  {
   "cell_type": "code",
   "execution_count": null,
   "metadata": {},
   "outputs": [],
   "source": []
  },
  {
   "cell_type": "code",
   "execution_count": null,
   "metadata": {},
   "outputs": [],
   "source": []
  },
  {
   "cell_type": "code",
   "execution_count": null,
   "metadata": {},
   "outputs": [],
   "source": []
  }
 ],
 "metadata": {
  "kernelspec": {
   "display_name": "Python 3",
   "language": "python",
   "name": "python3"
  },
  "language_info": {
   "codemirror_mode": {
    "name": "ipython",
    "version": 3
   },
   "file_extension": ".py",
   "mimetype": "text/x-python",
   "name": "python",
   "nbconvert_exporter": "python",
   "pygments_lexer": "ipython3",
   "version": "3.7.4"
  }
 },
 "nbformat": 4,
 "nbformat_minor": 2
}
